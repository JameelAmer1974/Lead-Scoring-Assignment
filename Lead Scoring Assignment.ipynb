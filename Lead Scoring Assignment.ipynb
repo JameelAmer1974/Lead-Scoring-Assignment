{
 "cells": [
  {
   "cell_type": "markdown",
   "id": "1ea36bbe",
   "metadata": {},
   "source": [
    "# <font color=#00008B>1. Business Understanding & Problem Statement</font>"
   ]
  },
  {
   "cell_type": "markdown",
   "id": "901030bb",
   "metadata": {},
   "source": [
    "## <font color='blue'>1.1. Business Understanding</font>"
   ]
  },
  {
   "cell_type": "markdown",
   "id": "20dcab0f",
   "metadata": {},
   "source": [
    "An education company named X Education sells online courses to industry professionals. On any given day, many professionals who are interested in the courses land on their website and browse for courses. \n",
    "The company markets its courses on several websites and search engines like Google. Once these people land on the website, they might browse the courses or fill up a form for the course or watch some videos. When these people fill up a form providing their email address or phone number, they are classified to be a lead. Moreover, the company also gets leads through past referrals. Once these leads are acquired, employees from the sales team start making calls, writing emails, etc. Through this process, some of the leads get converted while most do not. The typical lead conversion rate at X education is around 30%. \n",
    "Now, although X Education gets a lot of leads, its lead conversion rate is very poor. For example, if, say, they acquire 100 leads in a day, only about 30 of them are converted. To make this process more efficient, the company wishes to identify the most potential leads, also known as ‘Hot Leads’. If they successfully identify this set of leads, the lead conversion rate should go up as the sales team will now be focusing more on communicating with the potential leads rather than making calls to everyone."
   ]
  },
  {
   "cell_type": "markdown",
   "id": "d49a37b2",
   "metadata": {},
   "source": [
    "## <font color='blue'>1.2. Problem Statement</font>"
   ]
  },
  {
   "cell_type": "markdown",
   "id": "5ab7e764",
   "metadata": {},
   "source": [
    "The company requires you to build a model wherein you need to assign a lead score to each of the leads such that the customers with a higher lead score have a higher conversion chance and the customers with a lower lead score have a lower conversion chance. The CEO, in particular, has given a ballpark of the target lead conversion rate to be around 80%.\n",
    "There are quite a few goals for this case study:\n",
    "\n",
    "- **Build a logistic regression model to assign a lead score between 0 and 100 to each of the leads which can be used by the company to target potential leads. A higher score would mean that the lead is hot, i.e. is most likely to convert whereas a lower score would mean that the lead is cold and will mostly not get converted.**\n",
    "- **There are some more problems presented by the company which your model should be able to adjust to if the company's requirement changes in the future so you will need to handle these as well. These problems are provided in a separate doc file. Please fill it based on the logistic regression model you got in the first step. Also, make sure you include this in your final PPT where you'll make recommendations.**\n"
   ]
  },
  {
   "cell_type": "markdown",
   "id": "d7521be1",
   "metadata": {},
   "source": [
    "# <font color=#00008B>2. Importing Packages</font>"
   ]
  },
  {
   "cell_type": "code",
   "execution_count": 1,
   "id": "aaaba747",
   "metadata": {},
   "outputs": [],
   "source": [
    "import warnings\n",
    "warnings.filterwarnings('ignore')"
   ]
  },
  {
   "cell_type": "code",
   "execution_count": 2,
   "id": "7f1fcc15",
   "metadata": {},
   "outputs": [],
   "source": [
    "#importing libraries\n",
    "\n",
    "import numpy as np\n",
    "import pandas as pd\n",
    "import matplotlib.pyplot as plt\n",
    "import seaborn as sns\n",
    "\n",
    "from sklearn.preprocessing import StandardScaler"
   ]
  },
  {
   "cell_type": "markdown",
   "id": "df8249de",
   "metadata": {},
   "source": [
    "# <font color=#00008B>3. Load Application Data</font>"
   ]
  },
  {
   "cell_type": "code",
   "execution_count": 3,
   "id": "f10018e4",
   "metadata": {},
   "outputs": [
    {
     "data": {
      "text/html": [
       "<div>\n",
       "<style scoped>\n",
       "    .dataframe tbody tr th:only-of-type {\n",
       "        vertical-align: middle;\n",
       "    }\n",
       "\n",
       "    .dataframe tbody tr th {\n",
       "        vertical-align: top;\n",
       "    }\n",
       "\n",
       "    .dataframe thead th {\n",
       "        text-align: right;\n",
       "    }\n",
       "</style>\n",
       "<table border=\"1\" class=\"dataframe\">\n",
       "  <thead>\n",
       "    <tr style=\"text-align: right;\">\n",
       "      <th></th>\n",
       "      <th>Prospect ID</th>\n",
       "      <th>Lead Number</th>\n",
       "      <th>Lead Origin</th>\n",
       "      <th>Lead Source</th>\n",
       "      <th>Do Not Email</th>\n",
       "      <th>Do Not Call</th>\n",
       "      <th>Converted</th>\n",
       "      <th>TotalVisits</th>\n",
       "      <th>Total Time Spent on Website</th>\n",
       "      <th>Page Views Per Visit</th>\n",
       "      <th>...</th>\n",
       "      <th>Get updates on DM Content</th>\n",
       "      <th>Lead Profile</th>\n",
       "      <th>City</th>\n",
       "      <th>Asymmetrique Activity Index</th>\n",
       "      <th>Asymmetrique Profile Index</th>\n",
       "      <th>Asymmetrique Activity Score</th>\n",
       "      <th>Asymmetrique Profile Score</th>\n",
       "      <th>I agree to pay the amount through cheque</th>\n",
       "      <th>A free copy of Mastering The Interview</th>\n",
       "      <th>Last Notable Activity</th>\n",
       "    </tr>\n",
       "  </thead>\n",
       "  <tbody>\n",
       "    <tr>\n",
       "      <th>0</th>\n",
       "      <td>7927b2df-8bba-4d29-b9a2-b6e0beafe620</td>\n",
       "      <td>660737</td>\n",
       "      <td>API</td>\n",
       "      <td>Olark Chat</td>\n",
       "      <td>No</td>\n",
       "      <td>No</td>\n",
       "      <td>0</td>\n",
       "      <td>0.0</td>\n",
       "      <td>0</td>\n",
       "      <td>0.0</td>\n",
       "      <td>...</td>\n",
       "      <td>No</td>\n",
       "      <td>Select</td>\n",
       "      <td>Select</td>\n",
       "      <td>02.Medium</td>\n",
       "      <td>02.Medium</td>\n",
       "      <td>15.0</td>\n",
       "      <td>15.0</td>\n",
       "      <td>No</td>\n",
       "      <td>No</td>\n",
       "      <td>Modified</td>\n",
       "    </tr>\n",
       "    <tr>\n",
       "      <th>1</th>\n",
       "      <td>2a272436-5132-4136-86fa-dcc88c88f482</td>\n",
       "      <td>660728</td>\n",
       "      <td>API</td>\n",
       "      <td>Organic Search</td>\n",
       "      <td>No</td>\n",
       "      <td>No</td>\n",
       "      <td>0</td>\n",
       "      <td>5.0</td>\n",
       "      <td>674</td>\n",
       "      <td>2.5</td>\n",
       "      <td>...</td>\n",
       "      <td>No</td>\n",
       "      <td>Select</td>\n",
       "      <td>Select</td>\n",
       "      <td>02.Medium</td>\n",
       "      <td>02.Medium</td>\n",
       "      <td>15.0</td>\n",
       "      <td>15.0</td>\n",
       "      <td>No</td>\n",
       "      <td>No</td>\n",
       "      <td>Email Opened</td>\n",
       "    </tr>\n",
       "    <tr>\n",
       "      <th>2</th>\n",
       "      <td>8cc8c611-a219-4f35-ad23-fdfd2656bd8a</td>\n",
       "      <td>660727</td>\n",
       "      <td>Landing Page Submission</td>\n",
       "      <td>Direct Traffic</td>\n",
       "      <td>No</td>\n",
       "      <td>No</td>\n",
       "      <td>1</td>\n",
       "      <td>2.0</td>\n",
       "      <td>1532</td>\n",
       "      <td>2.0</td>\n",
       "      <td>...</td>\n",
       "      <td>No</td>\n",
       "      <td>Potential Lead</td>\n",
       "      <td>Mumbai</td>\n",
       "      <td>02.Medium</td>\n",
       "      <td>01.High</td>\n",
       "      <td>14.0</td>\n",
       "      <td>20.0</td>\n",
       "      <td>No</td>\n",
       "      <td>Yes</td>\n",
       "      <td>Email Opened</td>\n",
       "    </tr>\n",
       "    <tr>\n",
       "      <th>3</th>\n",
       "      <td>0cc2df48-7cf4-4e39-9de9-19797f9b38cc</td>\n",
       "      <td>660719</td>\n",
       "      <td>Landing Page Submission</td>\n",
       "      <td>Direct Traffic</td>\n",
       "      <td>No</td>\n",
       "      <td>No</td>\n",
       "      <td>0</td>\n",
       "      <td>1.0</td>\n",
       "      <td>305</td>\n",
       "      <td>1.0</td>\n",
       "      <td>...</td>\n",
       "      <td>No</td>\n",
       "      <td>Select</td>\n",
       "      <td>Mumbai</td>\n",
       "      <td>02.Medium</td>\n",
       "      <td>01.High</td>\n",
       "      <td>13.0</td>\n",
       "      <td>17.0</td>\n",
       "      <td>No</td>\n",
       "      <td>No</td>\n",
       "      <td>Modified</td>\n",
       "    </tr>\n",
       "    <tr>\n",
       "      <th>4</th>\n",
       "      <td>3256f628-e534-4826-9d63-4a8b88782852</td>\n",
       "      <td>660681</td>\n",
       "      <td>Landing Page Submission</td>\n",
       "      <td>Google</td>\n",
       "      <td>No</td>\n",
       "      <td>No</td>\n",
       "      <td>1</td>\n",
       "      <td>2.0</td>\n",
       "      <td>1428</td>\n",
       "      <td>1.0</td>\n",
       "      <td>...</td>\n",
       "      <td>No</td>\n",
       "      <td>Select</td>\n",
       "      <td>Mumbai</td>\n",
       "      <td>02.Medium</td>\n",
       "      <td>01.High</td>\n",
       "      <td>15.0</td>\n",
       "      <td>18.0</td>\n",
       "      <td>No</td>\n",
       "      <td>No</td>\n",
       "      <td>Modified</td>\n",
       "    </tr>\n",
       "  </tbody>\n",
       "</table>\n",
       "<p>5 rows × 37 columns</p>\n",
       "</div>"
      ],
      "text/plain": [
       "                            Prospect ID  Lead Number              Lead Origin  \\\n",
       "0  7927b2df-8bba-4d29-b9a2-b6e0beafe620       660737                      API   \n",
       "1  2a272436-5132-4136-86fa-dcc88c88f482       660728                      API   \n",
       "2  8cc8c611-a219-4f35-ad23-fdfd2656bd8a       660727  Landing Page Submission   \n",
       "3  0cc2df48-7cf4-4e39-9de9-19797f9b38cc       660719  Landing Page Submission   \n",
       "4  3256f628-e534-4826-9d63-4a8b88782852       660681  Landing Page Submission   \n",
       "\n",
       "      Lead Source Do Not Email Do Not Call  Converted  TotalVisits  \\\n",
       "0      Olark Chat           No          No          0          0.0   \n",
       "1  Organic Search           No          No          0          5.0   \n",
       "2  Direct Traffic           No          No          1          2.0   \n",
       "3  Direct Traffic           No          No          0          1.0   \n",
       "4          Google           No          No          1          2.0   \n",
       "\n",
       "   Total Time Spent on Website  Page Views Per Visit  ...  \\\n",
       "0                            0                   0.0  ...   \n",
       "1                          674                   2.5  ...   \n",
       "2                         1532                   2.0  ...   \n",
       "3                          305                   1.0  ...   \n",
       "4                         1428                   1.0  ...   \n",
       "\n",
       "  Get updates on DM Content    Lead Profile    City  \\\n",
       "0                        No          Select  Select   \n",
       "1                        No          Select  Select   \n",
       "2                        No  Potential Lead  Mumbai   \n",
       "3                        No          Select  Mumbai   \n",
       "4                        No          Select  Mumbai   \n",
       "\n",
       "  Asymmetrique Activity Index Asymmetrique Profile Index  \\\n",
       "0                   02.Medium                  02.Medium   \n",
       "1                   02.Medium                  02.Medium   \n",
       "2                   02.Medium                    01.High   \n",
       "3                   02.Medium                    01.High   \n",
       "4                   02.Medium                    01.High   \n",
       "\n",
       "  Asymmetrique Activity Score Asymmetrique Profile Score  \\\n",
       "0                        15.0                       15.0   \n",
       "1                        15.0                       15.0   \n",
       "2                        14.0                       20.0   \n",
       "3                        13.0                       17.0   \n",
       "4                        15.0                       18.0   \n",
       "\n",
       "  I agree to pay the amount through cheque  \\\n",
       "0                                       No   \n",
       "1                                       No   \n",
       "2                                       No   \n",
       "3                                       No   \n",
       "4                                       No   \n",
       "\n",
       "  A free copy of Mastering The Interview Last Notable Activity  \n",
       "0                                     No              Modified  \n",
       "1                                     No          Email Opened  \n",
       "2                                    Yes          Email Opened  \n",
       "3                                     No              Modified  \n",
       "4                                     No              Modified  \n",
       "\n",
       "[5 rows x 37 columns]"
      ]
     },
     "execution_count": 3,
     "metadata": {},
     "output_type": "execute_result"
    }
   ],
   "source": [
    "#importing csv file \n",
    "\n",
    "leads_df=pd.read_csv(\"Leads.csv\")\n",
    "leads_df.head()"
   ]
  },
  {
   "cell_type": "markdown",
   "id": "a4bc92e4",
   "metadata": {},
   "source": [
    "## <font color='blue'>3.1. Review the data</font>"
   ]
  },
  {
   "cell_type": "code",
   "execution_count": 4,
   "id": "23431010",
   "metadata": {},
   "outputs": [
    {
     "data": {
      "text/plain": [
       "(9240, 37)"
      ]
     },
     "execution_count": 4,
     "metadata": {},
     "output_type": "execute_result"
    }
   ],
   "source": [
    "#checking Thew data\n",
    "leads_df.shape"
   ]
  },
  {
   "cell_type": "code",
   "execution_count": 5,
   "id": "a92946f5",
   "metadata": {},
   "outputs": [
    {
     "name": "stdout",
     "output_type": "stream",
     "text": [
      "<class 'pandas.core.frame.DataFrame'>\n",
      "RangeIndex: 9240 entries, 0 to 9239\n",
      "Data columns (total 37 columns):\n",
      " #   Column                                         Non-Null Count  Dtype  \n",
      "---  ------                                         --------------  -----  \n",
      " 0   Prospect ID                                    9240 non-null   object \n",
      " 1   Lead Number                                    9240 non-null   int64  \n",
      " 2   Lead Origin                                    9240 non-null   object \n",
      " 3   Lead Source                                    9204 non-null   object \n",
      " 4   Do Not Email                                   9240 non-null   object \n",
      " 5   Do Not Call                                    9240 non-null   object \n",
      " 6   Converted                                      9240 non-null   int64  \n",
      " 7   TotalVisits                                    9103 non-null   float64\n",
      " 8   Total Time Spent on Website                    9240 non-null   int64  \n",
      " 9   Page Views Per Visit                           9103 non-null   float64\n",
      " 10  Last Activity                                  9137 non-null   object \n",
      " 11  Country                                        6779 non-null   object \n",
      " 12  Specialization                                 7802 non-null   object \n",
      " 13  How did you hear about X Education             7033 non-null   object \n",
      " 14  What is your current occupation                6550 non-null   object \n",
      " 15  What matters most to you in choosing a course  6531 non-null   object \n",
      " 16  Search                                         9240 non-null   object \n",
      " 17  Magazine                                       9240 non-null   object \n",
      " 18  Newspaper Article                              9240 non-null   object \n",
      " 19  X Education Forums                             9240 non-null   object \n",
      " 20  Newspaper                                      9240 non-null   object \n",
      " 21  Digital Advertisement                          9240 non-null   object \n",
      " 22  Through Recommendations                        9240 non-null   object \n",
      " 23  Receive More Updates About Our Courses         9240 non-null   object \n",
      " 24  Tags                                           5887 non-null   object \n",
      " 25  Lead Quality                                   4473 non-null   object \n",
      " 26  Update me on Supply Chain Content              9240 non-null   object \n",
      " 27  Get updates on DM Content                      9240 non-null   object \n",
      " 28  Lead Profile                                   6531 non-null   object \n",
      " 29  City                                           7820 non-null   object \n",
      " 30  Asymmetrique Activity Index                    5022 non-null   object \n",
      " 31  Asymmetrique Profile Index                     5022 non-null   object \n",
      " 32  Asymmetrique Activity Score                    5022 non-null   float64\n",
      " 33  Asymmetrique Profile Score                     5022 non-null   float64\n",
      " 34  I agree to pay the amount through cheque       9240 non-null   object \n",
      " 35  A free copy of Mastering The Interview         9240 non-null   object \n",
      " 36  Last Notable Activity                          9240 non-null   object \n",
      "dtypes: float64(4), int64(3), object(30)\n",
      "memory usage: 2.6+ MB\n"
     ]
    }
   ],
   "source": [
    "leads_df.info()"
   ]
  },
  {
   "cell_type": "code",
   "execution_count": 6,
   "id": "0ded43ae",
   "metadata": {},
   "outputs": [
    {
     "data": {
      "text/html": [
       "<div>\n",
       "<style scoped>\n",
       "    .dataframe tbody tr th:only-of-type {\n",
       "        vertical-align: middle;\n",
       "    }\n",
       "\n",
       "    .dataframe tbody tr th {\n",
       "        vertical-align: top;\n",
       "    }\n",
       "\n",
       "    .dataframe thead th {\n",
       "        text-align: right;\n",
       "    }\n",
       "</style>\n",
       "<table border=\"1\" class=\"dataframe\">\n",
       "  <thead>\n",
       "    <tr style=\"text-align: right;\">\n",
       "      <th></th>\n",
       "      <th>Lead Number</th>\n",
       "      <th>Converted</th>\n",
       "      <th>TotalVisits</th>\n",
       "      <th>Total Time Spent on Website</th>\n",
       "      <th>Page Views Per Visit</th>\n",
       "      <th>Asymmetrique Activity Score</th>\n",
       "      <th>Asymmetrique Profile Score</th>\n",
       "    </tr>\n",
       "  </thead>\n",
       "  <tbody>\n",
       "    <tr>\n",
       "      <th>count</th>\n",
       "      <td>9240.000000</td>\n",
       "      <td>9240.000000</td>\n",
       "      <td>9103.000000</td>\n",
       "      <td>9240.000000</td>\n",
       "      <td>9103.000000</td>\n",
       "      <td>5022.000000</td>\n",
       "      <td>5022.000000</td>\n",
       "    </tr>\n",
       "    <tr>\n",
       "      <th>mean</th>\n",
       "      <td>617188.435606</td>\n",
       "      <td>0.385390</td>\n",
       "      <td>3.445238</td>\n",
       "      <td>487.698268</td>\n",
       "      <td>2.362820</td>\n",
       "      <td>14.306252</td>\n",
       "      <td>16.344883</td>\n",
       "    </tr>\n",
       "    <tr>\n",
       "      <th>std</th>\n",
       "      <td>23405.995698</td>\n",
       "      <td>0.486714</td>\n",
       "      <td>4.854853</td>\n",
       "      <td>548.021466</td>\n",
       "      <td>2.161418</td>\n",
       "      <td>1.386694</td>\n",
       "      <td>1.811395</td>\n",
       "    </tr>\n",
       "    <tr>\n",
       "      <th>min</th>\n",
       "      <td>579533.000000</td>\n",
       "      <td>0.000000</td>\n",
       "      <td>0.000000</td>\n",
       "      <td>0.000000</td>\n",
       "      <td>0.000000</td>\n",
       "      <td>7.000000</td>\n",
       "      <td>11.000000</td>\n",
       "    </tr>\n",
       "    <tr>\n",
       "      <th>25%</th>\n",
       "      <td>596484.500000</td>\n",
       "      <td>0.000000</td>\n",
       "      <td>1.000000</td>\n",
       "      <td>12.000000</td>\n",
       "      <td>1.000000</td>\n",
       "      <td>14.000000</td>\n",
       "      <td>15.000000</td>\n",
       "    </tr>\n",
       "    <tr>\n",
       "      <th>50%</th>\n",
       "      <td>615479.000000</td>\n",
       "      <td>0.000000</td>\n",
       "      <td>3.000000</td>\n",
       "      <td>248.000000</td>\n",
       "      <td>2.000000</td>\n",
       "      <td>14.000000</td>\n",
       "      <td>16.000000</td>\n",
       "    </tr>\n",
       "    <tr>\n",
       "      <th>75%</th>\n",
       "      <td>637387.250000</td>\n",
       "      <td>1.000000</td>\n",
       "      <td>5.000000</td>\n",
       "      <td>936.000000</td>\n",
       "      <td>3.000000</td>\n",
       "      <td>15.000000</td>\n",
       "      <td>18.000000</td>\n",
       "    </tr>\n",
       "    <tr>\n",
       "      <th>max</th>\n",
       "      <td>660737.000000</td>\n",
       "      <td>1.000000</td>\n",
       "      <td>251.000000</td>\n",
       "      <td>2272.000000</td>\n",
       "      <td>55.000000</td>\n",
       "      <td>18.000000</td>\n",
       "      <td>20.000000</td>\n",
       "    </tr>\n",
       "  </tbody>\n",
       "</table>\n",
       "</div>"
      ],
      "text/plain": [
       "         Lead Number    Converted  TotalVisits  Total Time Spent on Website  \\\n",
       "count    9240.000000  9240.000000  9103.000000                  9240.000000   \n",
       "mean   617188.435606     0.385390     3.445238                   487.698268   \n",
       "std     23405.995698     0.486714     4.854853                   548.021466   \n",
       "min    579533.000000     0.000000     0.000000                     0.000000   \n",
       "25%    596484.500000     0.000000     1.000000                    12.000000   \n",
       "50%    615479.000000     0.000000     3.000000                   248.000000   \n",
       "75%    637387.250000     1.000000     5.000000                   936.000000   \n",
       "max    660737.000000     1.000000   251.000000                  2272.000000   \n",
       "\n",
       "       Page Views Per Visit  Asymmetrique Activity Score  \\\n",
       "count           9103.000000                  5022.000000   \n",
       "mean               2.362820                    14.306252   \n",
       "std                2.161418                     1.386694   \n",
       "min                0.000000                     7.000000   \n",
       "25%                1.000000                    14.000000   \n",
       "50%                2.000000                    14.000000   \n",
       "75%                3.000000                    15.000000   \n",
       "max               55.000000                    18.000000   \n",
       "\n",
       "       Asymmetrique Profile Score  \n",
       "count                 5022.000000  \n",
       "mean                    16.344883  \n",
       "std                      1.811395  \n",
       "min                     11.000000  \n",
       "25%                     15.000000  \n",
       "50%                     16.000000  \n",
       "75%                     18.000000  \n",
       "max                     20.000000  "
      ]
     },
     "execution_count": 6,
     "metadata": {},
     "output_type": "execute_result"
    }
   ],
   "source": [
    "leads_df.describe()"
   ]
  },
  {
   "cell_type": "markdown",
   "id": "f58e11ae",
   "metadata": {},
   "source": [
    "## <font color='blue'>3.2. Review data Summary</font>"
   ]
  },
  {
   "cell_type": "markdown",
   "id": "a4d56d26",
   "metadata": {},
   "source": [
    "__<div style=\"background-color:#ADD8E6; color:red ;font-size:15px; height: 25px;\">Inferences</div>__\n",
    "\n",
    "  - <font color='#800000'>There are a total of **9240 (rows)** and **37 columns** in the dataframe.</font>\n",
    "  \n",
    "  - <font color='#800000'>There are **7 columns** with a **numeric** datatype and **30 columns** with an **object** datatype.</font>\n",
    "  \n",
    "  - <font color='#800000'>There are **17 columns have missing values**  in the data.</font>"
   ]
  },
  {
   "cell_type": "markdown",
   "id": "54ff32ee",
   "metadata": {},
   "source": [
    "# <font color=#00008B>4. Data Cleaning & Data Analysis</font>"
   ]
  },
  {
   "cell_type": "markdown",
   "id": "03d47f1c",
   "metadata": {},
   "source": [
    "## <font color='blue'>4.1. Unique Values</font>"
   ]
  },
  {
   "cell_type": "code",
   "execution_count": 7,
   "id": "6ee9f0da",
   "metadata": {},
   "outputs": [],
   "source": [
    "# The columns Prospect ID, and Lead Number look like unique values let's check if we have duplicates"
   ]
  },
  {
   "cell_type": "code",
   "execution_count": 8,
   "id": "ce7e6cd3",
   "metadata": {},
   "outputs": [
    {
     "data": {
      "text/plain": [
       "0"
      ]
     },
     "execution_count": 8,
     "metadata": {},
     "output_type": "execute_result"
    }
   ],
   "source": [
    "sum(leads_df.duplicated(subset = 'Prospect ID'))"
   ]
  },
  {
   "cell_type": "code",
   "execution_count": 9,
   "id": "647be23d",
   "metadata": {},
   "outputs": [
    {
     "data": {
      "text/plain": [
       "0"
      ]
     },
     "execution_count": 9,
     "metadata": {},
     "output_type": "execute_result"
    }
   ],
   "source": [
    "sum(leads_df.duplicated(subset = 'Lead Number'))"
   ]
  },
  {
   "cell_type": "markdown",
   "id": "8c325db1",
   "metadata": {},
   "source": [
    "__<div style=\"background-color:#ADD8E6; color:red ;font-size:15px; height: 25px;\">Inferences</div>__\n",
    "\n",
    "  - <font color='#800000'>Prospect ID & Lead Number both of them look like a record identifier (PK) so no need for them in the model and we will drop them.</font>"
   ]
  },
  {
   "cell_type": "code",
   "execution_count": 10,
   "id": "f03ec1e5",
   "metadata": {},
   "outputs": [],
   "source": [
    "leads_df.drop(['Prospect ID', 'Lead Number'], 1, inplace = True)"
   ]
  },
  {
   "cell_type": "code",
   "execution_count": 11,
   "id": "e2f9927d",
   "metadata": {},
   "outputs": [
    {
     "name": "stdout",
     "output_type": "stream",
     "text": [
      "<class 'pandas.core.frame.DataFrame'>\n",
      "RangeIndex: 9240 entries, 0 to 9239\n",
      "Data columns (total 35 columns):\n",
      " #   Column                                         Non-Null Count  Dtype  \n",
      "---  ------                                         --------------  -----  \n",
      " 0   Lead Origin                                    9240 non-null   object \n",
      " 1   Lead Source                                    9204 non-null   object \n",
      " 2   Do Not Email                                   9240 non-null   object \n",
      " 3   Do Not Call                                    9240 non-null   object \n",
      " 4   Converted                                      9240 non-null   int64  \n",
      " 5   TotalVisits                                    9103 non-null   float64\n",
      " 6   Total Time Spent on Website                    9240 non-null   int64  \n",
      " 7   Page Views Per Visit                           9103 non-null   float64\n",
      " 8   Last Activity                                  9137 non-null   object \n",
      " 9   Country                                        6779 non-null   object \n",
      " 10  Specialization                                 7802 non-null   object \n",
      " 11  How did you hear about X Education             7033 non-null   object \n",
      " 12  What is your current occupation                6550 non-null   object \n",
      " 13  What matters most to you in choosing a course  6531 non-null   object \n",
      " 14  Search                                         9240 non-null   object \n",
      " 15  Magazine                                       9240 non-null   object \n",
      " 16  Newspaper Article                              9240 non-null   object \n",
      " 17  X Education Forums                             9240 non-null   object \n",
      " 18  Newspaper                                      9240 non-null   object \n",
      " 19  Digital Advertisement                          9240 non-null   object \n",
      " 20  Through Recommendations                        9240 non-null   object \n",
      " 21  Receive More Updates About Our Courses         9240 non-null   object \n",
      " 22  Tags                                           5887 non-null   object \n",
      " 23  Lead Quality                                   4473 non-null   object \n",
      " 24  Update me on Supply Chain Content              9240 non-null   object \n",
      " 25  Get updates on DM Content                      9240 non-null   object \n",
      " 26  Lead Profile                                   6531 non-null   object \n",
      " 27  City                                           7820 non-null   object \n",
      " 28  Asymmetrique Activity Index                    5022 non-null   object \n",
      " 29  Asymmetrique Profile Index                     5022 non-null   object \n",
      " 30  Asymmetrique Activity Score                    5022 non-null   float64\n",
      " 31  Asymmetrique Profile Score                     5022 non-null   float64\n",
      " 32  I agree to pay the amount through cheque       9240 non-null   object \n",
      " 33  A free copy of Mastering The Interview         9240 non-null   object \n",
      " 34  Last Notable Activity                          9240 non-null   object \n",
      "dtypes: float64(4), int64(2), object(29)\n",
      "memory usage: 2.5+ MB\n"
     ]
    }
   ],
   "source": [
    "leads_df.info()"
   ]
  },
  {
   "cell_type": "markdown",
   "id": "2ebf5047",
   "metadata": {},
   "source": [
    "## <font color='blue'>4.2. Select Values in the Categural Variables </font>"
   ]
  },
  {
   "cell_type": "markdown",
   "id": "c3cfe84f",
   "metadata": {},
   "source": [
    "we have the value Select in more than one column let's check  "
   ]
  },
  {
   "cell_type": "code",
   "execution_count": 12,
   "id": "33b7e8fe",
   "metadata": {},
   "outputs": [
    {
     "name": "stdout",
     "output_type": "stream",
     "text": [
      "Specialization 1942\n",
      "How did you hear about X Education 5043\n",
      "Lead Profile 4146\n",
      "City 2249\n"
     ]
    }
   ],
   "source": [
    "#we have the value Select in more than one column let's check\n",
    "\n",
    "for col in leads_df.columns:\n",
    "    if (len(leads_df[leads_df[col]=='Select'])>0):\n",
    "        print(col , len(leads_df[leads_df[col]=='Select']))"
   ]
  },
  {
   "cell_type": "code",
   "execution_count": 13,
   "id": "ebbbfb48",
   "metadata": {},
   "outputs": [],
   "source": [
    "#Replace 'Select' values with NaN.\n",
    "leads_df = leads_df.replace('Select', np.nan)"
   ]
  },
  {
   "cell_type": "code",
   "execution_count": 14,
   "id": "a6d87e8a",
   "metadata": {},
   "outputs": [],
   "source": [
    "#check of we still have any Select vlue\n",
    "\n",
    "for col in leads_df.columns:\n",
    "    if (len(leads_df[leads_df[col]=='Select'])>0):\n",
    "        print(col , len(leads_df[leads_df[col]=='Select']))"
   ]
  },
  {
   "cell_type": "markdown",
   "id": "ff7dac6d",
   "metadata": {},
   "source": [
    "## <font color='blue'>4.3. Null Values</font>"
   ]
  },
  {
   "cell_type": "code",
   "execution_count": 15,
   "id": "fd6c1941",
   "metadata": {},
   "outputs": [
    {
     "data": {
      "text/plain": [
       "Lead Origin                                         0\n",
       "Lead Source                                        36\n",
       "Do Not Email                                        0\n",
       "Do Not Call                                         0\n",
       "Converted                                           0\n",
       "TotalVisits                                       137\n",
       "Total Time Spent on Website                         0\n",
       "Page Views Per Visit                              137\n",
       "Last Activity                                     103\n",
       "Country                                          2461\n",
       "Specialization                                   3380\n",
       "How did you hear about X Education               7250\n",
       "What is your current occupation                  2690\n",
       "What matters most to you in choosing a course    2709\n",
       "Search                                              0\n",
       "Magazine                                            0\n",
       "Newspaper Article                                   0\n",
       "X Education Forums                                  0\n",
       "Newspaper                                           0\n",
       "Digital Advertisement                               0\n",
       "Through Recommendations                             0\n",
       "Receive More Updates About Our Courses              0\n",
       "Tags                                             3353\n",
       "Lead Quality                                     4767\n",
       "Update me on Supply Chain Content                   0\n",
       "Get updates on DM Content                           0\n",
       "Lead Profile                                     6855\n",
       "City                                             3669\n",
       "Asymmetrique Activity Index                      4218\n",
       "Asymmetrique Profile Index                       4218\n",
       "Asymmetrique Activity Score                      4218\n",
       "Asymmetrique Profile Score                       4218\n",
       "I agree to pay the amount through cheque            0\n",
       "A free copy of Mastering The Interview              0\n",
       "Last Notable Activity                               0\n",
       "dtype: int64"
      ]
     },
     "execution_count": 15,
     "metadata": {},
     "output_type": "execute_result"
    }
   ],
   "source": [
    "#check null values\n",
    "\n",
    "leads_df.isnull().sum()"
   ]
  },
  {
   "cell_type": "code",
   "execution_count": 16,
   "id": "03065d89",
   "metadata": {},
   "outputs": [
    {
     "data": {
      "text/plain": [
       "Lead Origin                                       0.0\n",
       "Lead Source                                       0.4\n",
       "Do Not Email                                      0.0\n",
       "Do Not Call                                       0.0\n",
       "Converted                                         0.0\n",
       "TotalVisits                                       1.5\n",
       "Total Time Spent on Website                       0.0\n",
       "Page Views Per Visit                              1.5\n",
       "Last Activity                                     1.1\n",
       "Country                                          26.6\n",
       "Specialization                                   36.6\n",
       "How did you hear about X Education               78.5\n",
       "What is your current occupation                  29.1\n",
       "What matters most to you in choosing a course    29.3\n",
       "Search                                            0.0\n",
       "Magazine                                          0.0\n",
       "Newspaper Article                                 0.0\n",
       "X Education Forums                                0.0\n",
       "Newspaper                                         0.0\n",
       "Digital Advertisement                             0.0\n",
       "Through Recommendations                           0.0\n",
       "Receive More Updates About Our Courses            0.0\n",
       "Tags                                             36.3\n",
       "Lead Quality                                     51.6\n",
       "Update me on Supply Chain Content                 0.0\n",
       "Get updates on DM Content                         0.0\n",
       "Lead Profile                                     74.2\n",
       "City                                             39.7\n",
       "Asymmetrique Activity Index                      45.6\n",
       "Asymmetrique Profile Index                       45.6\n",
       "Asymmetrique Activity Score                      45.6\n",
       "Asymmetrique Profile Score                       45.6\n",
       "I agree to pay the amount through cheque          0.0\n",
       "A free copy of Mastering The Interview            0.0\n",
       "Last Notable Activity                             0.0\n",
       "dtype: float64"
      ]
     },
     "execution_count": 16,
     "metadata": {},
     "output_type": "execute_result"
    }
   ],
   "source": [
    "#checking percentage of null values in each column\n",
    "\n",
    "round(100*(leads_df.isnull().sum()/len(leads_df)), 1)"
   ]
  },
  {
   "cell_type": "code",
   "execution_count": 17,
   "id": "d9e4b381",
   "metadata": {},
   "outputs": [],
   "source": [
    "# Drop all the variables have more than 40% null values\n",
    "for col in leads_df.columns:\n",
    "    if((100*(leads_df[col].isnull().sum()/len(leads_df))) >= 40):\n",
    "        leads_df.drop(col, 1, inplace = True)"
   ]
  },
  {
   "cell_type": "code",
   "execution_count": 18,
   "id": "ea0f0387",
   "metadata": {},
   "outputs": [
    {
     "data": {
      "text/plain": [
       "Lead Origin                                       0.0\n",
       "Lead Source                                       0.4\n",
       "Do Not Email                                      0.0\n",
       "Do Not Call                                       0.0\n",
       "Converted                                         0.0\n",
       "TotalVisits                                       1.5\n",
       "Total Time Spent on Website                       0.0\n",
       "Page Views Per Visit                              1.5\n",
       "Last Activity                                     1.1\n",
       "Country                                          26.6\n",
       "Specialization                                   36.6\n",
       "What is your current occupation                  29.1\n",
       "What matters most to you in choosing a course    29.3\n",
       "Search                                            0.0\n",
       "Magazine                                          0.0\n",
       "Newspaper Article                                 0.0\n",
       "X Education Forums                                0.0\n",
       "Newspaper                                         0.0\n",
       "Digital Advertisement                             0.0\n",
       "Through Recommendations                           0.0\n",
       "Receive More Updates About Our Courses            0.0\n",
       "Tags                                             36.3\n",
       "Update me on Supply Chain Content                 0.0\n",
       "Get updates on DM Content                         0.0\n",
       "City                                             39.7\n",
       "I agree to pay the amount through cheque          0.0\n",
       "A free copy of Mastering The Interview            0.0\n",
       "Last Notable Activity                             0.0\n",
       "dtype: float64"
      ]
     },
     "execution_count": 18,
     "metadata": {},
     "output_type": "execute_result"
    }
   ],
   "source": [
    "#checking percentage of null values in each column\n",
    "round(100*(leads_df.isnull().sum()/len(leads_df)), 1)"
   ]
  },
  {
   "cell_type": "markdown",
   "id": "c1730e28",
   "metadata": {},
   "source": [
    "## <font color='blue'>4.4. Categorical Attributes Analysis (Null Values and duplication)</font>"
   ]
  },
  {
   "cell_type": "markdown",
   "id": "85db3d61",
   "metadata": {},
   "source": [
    "### <font color='darkgreen'>4.4.1 Country</font>"
   ]
  },
  {
   "cell_type": "code",
   "execution_count": 19,
   "id": "fe90c6dd",
   "metadata": {},
   "outputs": [
    {
     "data": {
      "text/plain": [
       "India                   6492\n",
       "NaN                     2461\n",
       "United States             69\n",
       "United Arab Emirates      53\n",
       "Singapore                 24\n",
       "Saudi Arabia              21\n",
       "United Kingdom            15\n",
       "Australia                 13\n",
       "Qatar                     10\n",
       "Bahrain                    7\n",
       "Hong Kong                  7\n",
       "Oman                       6\n",
       "France                     6\n",
       "unknown                    5\n",
       "Kuwait                     4\n",
       "South Africa               4\n",
       "Canada                     4\n",
       "Nigeria                    4\n",
       "Germany                    4\n",
       "Sweden                     3\n",
       "Philippines                2\n",
       "Uganda                     2\n",
       "Italy                      2\n",
       "Bangladesh                 2\n",
       "Netherlands                2\n",
       "Asia/Pacific Region        2\n",
       "China                      2\n",
       "Belgium                    2\n",
       "Ghana                      2\n",
       "Kenya                      1\n",
       "Sri Lanka                  1\n",
       "Tanzania                   1\n",
       "Malaysia                   1\n",
       "Liberia                    1\n",
       "Switzerland                1\n",
       "Denmark                    1\n",
       "Russia                     1\n",
       "Vietnam                    1\n",
       "Indonesia                  1\n",
       "Name: Country, dtype: int64"
      ]
     },
     "execution_count": 19,
     "metadata": {},
     "output_type": "execute_result"
    }
   ],
   "source": [
    "leads_df['Country'].value_counts(dropna=False)"
   ]
  },
  {
   "cell_type": "code",
   "execution_count": 20,
   "id": "5db495ee",
   "metadata": {},
   "outputs": [],
   "source": [
    "# most of the records have the value India so we can replace the NaN with this value\n",
    "leads_df['Country'] = leads_df['Country'].replace(np.nan,'India')"
   ]
  },
  {
   "cell_type": "code",
   "execution_count": 21,
   "id": "97a4003e",
   "metadata": {},
   "outputs": [
    {
     "data": {
      "text/plain": [
       "India                   96.89\n",
       "United States            0.75\n",
       "United Arab Emirates     0.57\n",
       "Singapore                0.26\n",
       "Saudi Arabia             0.23\n",
       "United Kingdom           0.16\n",
       "Australia                0.14\n",
       "Qatar                    0.11\n",
       "Hong Kong                0.08\n",
       "Bahrain                  0.08\n",
       "Oman                     0.06\n",
       "France                   0.06\n",
       "unknown                  0.05\n",
       "South Africa             0.04\n",
       "Nigeria                  0.04\n",
       "Germany                  0.04\n",
       "Kuwait                   0.04\n",
       "Canada                   0.04\n",
       "Sweden                   0.03\n",
       "China                    0.02\n",
       "Asia/Pacific Region      0.02\n",
       "Uganda                   0.02\n",
       "Bangladesh               0.02\n",
       "Italy                    0.02\n",
       "Belgium                  0.02\n",
       "Netherlands              0.02\n",
       "Ghana                    0.02\n",
       "Philippines              0.02\n",
       "Russia                   0.01\n",
       "Switzerland              0.01\n",
       "Vietnam                  0.01\n",
       "Denmark                  0.01\n",
       "Tanzania                 0.01\n",
       "Liberia                  0.01\n",
       "Malaysia                 0.01\n",
       "Kenya                    0.01\n",
       "Sri Lanka                0.01\n",
       "Indonesia                0.01\n",
       "Name: Country, dtype: float64"
      ]
     },
     "execution_count": 21,
     "metadata": {},
     "output_type": "execute_result"
    }
   ],
   "source": [
    "round(leads_df['Country'].value_counts(dropna=False)/len(leads_df)*100,2)"
   ]
  },
  {
   "cell_type": "markdown",
   "id": "68b937c9",
   "metadata": {},
   "source": [
    "__<div style=\"background-color:#ADD8E6; color:red ;font-size:15px; height: 25px;\">Inferences</div>__\n",
    "\n",
    "  - <font color='#800000'>more than 96% from the records have the value 'India'. so we will drop Country column.</font>"
   ]
  },
  {
   "cell_type": "code",
   "execution_count": 22,
   "id": "c3a642b6",
   "metadata": {},
   "outputs": [],
   "source": [
    "# more than 96% from the records have the value 'India'. so we will drop this column\n",
    "leads_df.drop('Country', 1, inplace = True)"
   ]
  },
  {
   "cell_type": "markdown",
   "id": "30626631",
   "metadata": {},
   "source": [
    "### <font color='darkgreen'>4.4.2 Specialization</font>"
   ]
  },
  {
   "cell_type": "code",
   "execution_count": 23,
   "id": "d23f5591",
   "metadata": {},
   "outputs": [
    {
     "data": {
      "text/plain": [
       "NaN                                  3380\n",
       "Finance Management                    976\n",
       "Human Resource Management             848\n",
       "Marketing Management                  838\n",
       "Operations Management                 503\n",
       "Business Administration               403\n",
       "IT Projects Management                366\n",
       "Supply Chain Management               349\n",
       "Banking, Investment And Insurance     338\n",
       "Travel and Tourism                    203\n",
       "Media and Advertising                 203\n",
       "International Business                178\n",
       "Healthcare Management                 159\n",
       "Hospitality Management                114\n",
       "E-COMMERCE                            112\n",
       "Retail Management                     100\n",
       "Rural and Agribusiness                 73\n",
       "E-Business                             57\n",
       "Services Excellence                    40\n",
       "Name: Specialization, dtype: int64"
      ]
     },
     "execution_count": 23,
     "metadata": {},
     "output_type": "execute_result"
    }
   ],
   "source": [
    "leads_df['Specialization'].value_counts(dropna=False)"
   ]
  },
  {
   "cell_type": "code",
   "execution_count": 24,
   "id": "d6b1862b",
   "metadata": {},
   "outputs": [],
   "source": [
    "# Since there is no most value we will create a new Specialization called Unspecified and replace the NaN with it\n",
    "leads_df['Specialization'] = leads_df['Specialization'].replace(np.nan, 'Unspecified')"
   ]
  },
  {
   "cell_type": "code",
   "execution_count": 25,
   "id": "651a9362",
   "metadata": {},
   "outputs": [
    {
     "data": {
      "image/png": "[encoded data removed]",
      "text/plain": [
       "<Figure size 1200x400 with 1 Axes>"
      ]
     },
     "metadata": {},
     "output_type": "display_data"
    }
   ],
   "source": [
    "# the targeted variable is Converted let's have a chart for City and  Converted\n",
    "plt.figure(figsize=(12,4))\n",
    "\n",
    "fig1=sns.countplot(leads_df['Specialization'], hue=leads_df['Converted'])\n",
    "fig1.set_xticklabels(fig1.get_xticklabels(),rotation=90)\n",
    "plt.show()"
   ]
  },
  {
   "cell_type": "markdown",
   "id": "6a8873ac",
   "metadata": {},
   "source": [
    "__<div style=\"background-color:#ADD8E6; color:red ;font-size:15px; height: 25px;\">Inferences</div>__\n",
    "\n",
    "  - <font color='#800000'>it's clear that  Management specializations leads. So this is definitely a significant variable and should not be dropped.</font>\n",
    "  - <font color='#800000'>since we have more than one management specialization and all of them are managment so we will marge them in to 'Management_Specializations'.</font>  "
   ]
  },
  {
   "cell_type": "code",
   "execution_count": 26,
   "id": "5b4c87c0",
   "metadata": {},
   "outputs": [],
   "source": [
    "leads_df['Specialization'] = leads_df['Specialization'].replace(['Finance Management','Human Resource Management',\n",
    "                                                           'Marketing Management','Operations Management',\n",
    "                                                           'IT Projects Management','Supply Chain Management',\n",
    "                                                    'Healthcare Management','Hospitality Management',\n",
    "                                                           'Retail Management'] ,'Management_Specializations') "
   ]
  },
  {
   "cell_type": "code",
   "execution_count": 27,
   "id": "7d27bc5e",
   "metadata": {},
   "outputs": [
    {
     "data": {
      "image/png": "[encoded data removed]",
      "text/plain": [
       "<Figure size 1200x400 with 1 Axes>"
      ]
     },
     "metadata": {},
     "output_type": "display_data"
    }
   ],
   "source": [
    "# the targeted variable is Converted let's have a chart for City and  Converted\n",
    "plt.figure(figsize=(12,4))\n",
    "fig1=sns.countplot(leads_df['Specialization'], hue=leads_df['Converted'])\n",
    "fig1.set_xticklabels(fig1.get_xticklabels(),rotation=90)\n",
    "plt.show()"
   ]
  },
  {
   "cell_type": "markdown",
   "id": "0ccf3dc1",
   "metadata": {},
   "source": [
    "### <font color='darkgreen'>4.4.3 What is your current occupation</font> "
   ]
  },
  {
   "cell_type": "code",
   "execution_count": 28,
   "id": "ec0662d2",
   "metadata": {},
   "outputs": [
    {
     "data": {
      "text/plain": [
       "Unemployed              5600\n",
       "NaN                     2690\n",
       "Working Professional     706\n",
       "Student                  210\n",
       "Other                     16\n",
       "Housewife                 10\n",
       "Businessman                8\n",
       "Name: What is your current occupation, dtype: int64"
      ]
     },
     "execution_count": 28,
     "metadata": {},
     "output_type": "execute_result"
    }
   ],
   "source": [
    "leads_df['What is your current occupation'].value_counts(dropna=False)"
   ]
  },
  {
   "cell_type": "code",
   "execution_count": 29,
   "id": "b0a08120",
   "metadata": {},
   "outputs": [],
   "source": [
    "#Replace NaN values with mode comman value \"Unemployed\"\n",
    "\n",
    "leads_df['What is your current occupation'] = leads_df['What is your current occupation'].replace(np.nan, 'Unemployed')"
   ]
  },
  {
   "cell_type": "code",
   "execution_count": 30,
   "id": "97d82dc1",
   "metadata": {},
   "outputs": [
    {
     "data": {
      "image/png": "[encoded data removed]",
      "text/plain": [
       "<Figure size 1200x400 with 1 Axes>"
      ]
     },
     "metadata": {},
     "output_type": "display_data"
    }
   ],
   "source": [
    "# the targeted variable is Converted let's have a chart for City and  Converted\n",
    "plt.figure(figsize=(12,4))\n",
    "fig1=sns.countplot(leads_df['What is your current occupation'], hue=leads_df['Converted'])\n",
    "fig1.set_xticklabels(fig1.get_xticklabels(),rotation=90)\n",
    "plt.show()"
   ]
  },
  {
   "cell_type": "markdown",
   "id": "b14fcd47",
   "metadata": {},
   "source": [
    "__<div style=\"background-color:#ADD8E6; color:red ;font-size:15px; height: 25px;\">Inferences</div>__\n",
    "\n",
    "  - <font color='#800000'>Working Professionals going for the course have high chances of joining it.</font>\n",
    "  - <font color='#800000'>Unemployed leads are the most in terms of Absolute numbers.</font>  "
   ]
  },
  {
   "cell_type": "markdown",
   "id": "14078682",
   "metadata": {},
   "source": [
    "### <font color='darkgreen'>4.4.4 What matters most to you in choosing a course</font> "
   ]
  },
  {
   "cell_type": "code",
   "execution_count": 31,
   "id": "255135a4",
   "metadata": {},
   "outputs": [
    {
     "data": {
      "text/plain": [
       "Better Career Prospects      6528\n",
       "NaN                          2709\n",
       "Flexibility & Convenience       2\n",
       "Other                           1\n",
       "Name: What matters most to you in choosing a course, dtype: int64"
      ]
     },
     "execution_count": 31,
     "metadata": {},
     "output_type": "execute_result"
    }
   ],
   "source": [
    "leads_df['What matters most to you in choosing a course'].value_counts(dropna=False)"
   ]
  },
  {
   "cell_type": "code",
   "execution_count": 32,
   "id": "0951083a",
   "metadata": {},
   "outputs": [],
   "source": [
    "#replacing Nan values with Mode \"Better Career Prospects\"\n",
    "\n",
    "leads_df['What matters most to you in choosing a course'] = leads_df['What matters most to you in choosing a course'].replace(np.nan,'Better Career Prospects')"
   ]
  },
  {
   "cell_type": "code",
   "execution_count": 33,
   "id": "c267bdf2",
   "metadata": {},
   "outputs": [
    {
     "data": {
      "text/plain": [
       "Better Career Prospects      99.97\n",
       "Flexibility & Convenience     0.02\n",
       "Other                         0.01\n",
       "Name: What matters most to you in choosing a course, dtype: float64"
      ]
     },
     "execution_count": 33,
     "metadata": {},
     "output_type": "execute_result"
    }
   ],
   "source": [
    "round(leads_df['What matters most to you in choosing a course'].value_counts(dropna=False)/len(leads_df)*100,2)"
   ]
  },
  {
   "cell_type": "markdown",
   "id": "03cd9827",
   "metadata": {},
   "source": [
    "__<div style=\"background-color:#ADD8E6; color:red ;font-size:15px; height: 25px;\">Inferences</div>__\n",
    "\n",
    "  - <font color='#800000'>more than 99% from the records have the value 'Better Career Prospects'. so we will drop this column.</font> "
   ]
  },
  {
   "cell_type": "code",
   "execution_count": 34,
   "id": "ebaed180",
   "metadata": {},
   "outputs": [],
   "source": [
    "leads_df.drop('What matters most to you in choosing a course', 1, inplace = True)"
   ]
  },
  {
   "cell_type": "markdown",
   "id": "880fbd81",
   "metadata": {},
   "source": [
    "### <font color='darkgreen'>4.4.5 Tags</font>  "
   ]
  },
  {
   "cell_type": "code",
   "execution_count": 35,
   "id": "a4ac6391",
   "metadata": {},
   "outputs": [
    {
     "data": {
      "text/plain": [
       "NaN                                                  3353\n",
       "Will revert after reading the email                  2072\n",
       "Ringing                                              1203\n",
       "Interested in other courses                           513\n",
       "Already a student                                     465\n",
       "Closed by Horizzon                                    358\n",
       "switched off                                          240\n",
       "Busy                                                  186\n",
       "Lost to EINS                                          175\n",
       "Not doing further education                           145\n",
       "Interested  in full time MBA                          117\n",
       "Graduation in progress                                111\n",
       "invalid number                                         83\n",
       "Diploma holder (Not Eligible)                          63\n",
       "wrong number given                                     47\n",
       "opp hangup                                             33\n",
       "number not provided                                    27\n",
       "in touch with EINS                                     12\n",
       "Lost to Others                                          7\n",
       "Still Thinking                                          6\n",
       "Want to take admission but has financial problems       6\n",
       "In confusion whether part time or DLP                   5\n",
       "Interested in Next batch                                5\n",
       "Lateral student                                         3\n",
       "Shall take in the next coming month                     2\n",
       "University not recognized                               2\n",
       "Recognition issue (DEC approval)                        1\n",
       "Name: Tags, dtype: int64"
      ]
     },
     "execution_count": 35,
     "metadata": {},
     "output_type": "execute_result"
    }
   ],
   "source": [
    "#check value counts of Tag variable\n",
    "leads_df['Tags'].value_counts(dropna=False)"
   ]
  },
  {
   "cell_type": "code",
   "execution_count": 36,
   "id": "bb72cb7b",
   "metadata": {},
   "outputs": [],
   "source": [
    "# Since there is no most value we will create a new Tag called Unspecified and replace the NaN with it\n",
    "leads_df['Tags'] = leads_df['Tags'].replace(np.nan, 'Unspecified')"
   ]
  },
  {
   "cell_type": "code",
   "execution_count": 37,
   "id": "8b5d05e8",
   "metadata": {},
   "outputs": [
    {
     "data": {
      "text/plain": [
       "Unspecified                                          False\n",
       "Will revert after reading the email                  False\n",
       "Ringing                                              False\n",
       "Interested in other courses                          False\n",
       "Already a student                                    False\n",
       "Closed by Horizzon                                   False\n",
       "switched off                                         False\n",
       "Busy                                                 False\n",
       "Lost to EINS                                         False\n",
       "Not doing further education                          False\n",
       "Interested  in full time MBA                         False\n",
       "Graduation in progress                               False\n",
       "invalid number                                        True\n",
       "Diploma holder (Not Eligible)                         True\n",
       "wrong number given                                    True\n",
       "opp hangup                                            True\n",
       "number not provided                                   True\n",
       "in touch with EINS                                    True\n",
       "Lost to Others                                        True\n",
       "Still Thinking                                        True\n",
       "Want to take admission but has financial problems     True\n",
       "In confusion whether part time or DLP                 True\n",
       "Interested in Next batch                              True\n",
       "Lateral student                                       True\n",
       "Shall take in the next coming month                   True\n",
       "University not recognized                             True\n",
       "Recognition issue (DEC approval)                      True\n",
       "Name: Tags, dtype: bool"
      ]
     },
     "execution_count": 37,
     "metadata": {},
     "output_type": "execute_result"
    }
   ],
   "source": [
    "#check value counts of Tag variable\n",
    "leads_df['Tags'].value_counts(dropna=False)<100"
   ]
  },
  {
   "cell_type": "code",
   "execution_count": 38,
   "id": "76e1326b",
   "metadata": {},
   "outputs": [],
   "source": [
    "#replacing tags with low frequency with \"Other Tags\"\n",
    "leads_df['Tags'] = leads_df['Tags'].replace(['invalid number'  ,'Diploma holder (Not Eligible)'  ,'wrong number given',\n",
    "                                             'opp hangup','number not provided','in touch with EINS','Lost to Others',\n",
    "                                             'Still Thinking','Want to take admission but has financial problems',\n",
    "                                             'In confusion whether part time or DLP','Interested in Next batch',\n",
    "                                             'Lateral student','Shall take in the next coming month',\n",
    "                                             'University not recognized' ,'Recognition issue (DEC approval)'], 'Others')"
   ]
  },
  {
   "cell_type": "code",
   "execution_count": 39,
   "id": "f7bf44fa",
   "metadata": {},
   "outputs": [
    {
     "data": {
      "image/png": "[encoded data removed]",
      "text/plain": [
       "<Figure size 1200x400 with 1 Axes>"
      ]
     },
     "metadata": {},
     "output_type": "display_data"
    }
   ],
   "source": [
    "# the targeted variable is Converted let's have a chart for Tag and  Converted\n",
    "plt.figure(figsize=(12,4))\n",
    "fig1=sns.countplot(leads_df['Tags'], hue=leads_df['Converted'])\n",
    "fig1.set_xticklabels(fig1.get_xticklabels(),rotation=90)\n",
    "plt.show()"
   ]
  },
  {
   "cell_type": "markdown",
   "id": "c9badca8",
   "metadata": {},
   "source": [
    "__<div style=\"background-color:#ADD8E6; color:red ;font-size:15px; height: 25px;\">Inferences</div>__\n",
    "\n",
    "  - <font color='#800000'>ince there is no most value we create a new Tag called Unspecified and replace the NaN with it.</font>\n",
    "  - <font color='#800000'>We Replace tags with low frequency with \"Other Tags\".</font>\n",
    "  - <font color='#800000'>\"Will revert after reading the email\" and \"Closed by Horizzon\" have high chances of joining it.</font> \n",
    "  - <font color='#800000'>Unemployed leads are the most in terms of Absolute numbers.</font>\n",
    "  "
   ]
  },
  {
   "cell_type": "markdown",
   "id": "052d3afe",
   "metadata": {},
   "source": [
    "### <font color='darkgreen'>4.4.6 City</font>   "
   ]
  },
  {
   "cell_type": "code",
   "execution_count": 40,
   "id": "1d6161b9",
   "metadata": {},
   "outputs": [
    {
     "data": {
      "text/plain": [
       "NaN                            3669\n",
       "Mumbai                         3222\n",
       "Thane & Outskirts               752\n",
       "Other Cities                    686\n",
       "Other Cities of Maharashtra     457\n",
       "Other Metro Cities              380\n",
       "Tier II Cities                   74\n",
       "Name: City, dtype: int64"
      ]
     },
     "execution_count": 40,
     "metadata": {},
     "output_type": "execute_result"
    }
   ],
   "source": [
    "#check value counts of \"City\" column\n",
    "\n",
    "leads_df['City'].value_counts(dropna=False)"
   ]
  },
  {
   "cell_type": "code",
   "execution_count": 41,
   "id": "c9bca07a",
   "metadata": {},
   "outputs": [],
   "source": [
    "# replace NaN with the most used value 'Mumbai'\n",
    "leads_df['City'] = leads_df['City'].replace(np.nan,'Mumbai')"
   ]
  },
  {
   "cell_type": "code",
   "execution_count": 42,
   "id": "c6442a68",
   "metadata": {},
   "outputs": [
    {
     "data": {
      "image/png": "[encoded data removed]",
      "text/plain": [
       "<Figure size 1200x400 with 1 Axes>"
      ]
     },
     "metadata": {},
     "output_type": "display_data"
    }
   ],
   "source": [
    "# the targeted variable is Converted let's have a chart for City and  Converted\n",
    "plt.figure(figsize=(12,4))\n",
    "sns.countplot(leads_df['City'], hue=leads_df['Converted'])\n",
    "plt.show()"
   ]
  },
  {
   "cell_type": "code",
   "execution_count": 43,
   "id": "395ea272",
   "metadata": {},
   "outputs": [
    {
     "data": {
      "text/plain": [
       "Lead Origin                                 0.00\n",
       "Lead Source                                 0.39\n",
       "Do Not Email                                0.00\n",
       "Do Not Call                                 0.00\n",
       "Converted                                   0.00\n",
       "TotalVisits                                 1.48\n",
       "Total Time Spent on Website                 0.00\n",
       "Page Views Per Visit                        1.48\n",
       "Last Activity                               1.11\n",
       "Specialization                              0.00\n",
       "What is your current occupation             0.00\n",
       "Search                                      0.00\n",
       "Magazine                                    0.00\n",
       "Newspaper Article                           0.00\n",
       "X Education Forums                          0.00\n",
       "Newspaper                                   0.00\n",
       "Digital Advertisement                       0.00\n",
       "Through Recommendations                     0.00\n",
       "Receive More Updates About Our Courses      0.00\n",
       "Tags                                        0.00\n",
       "Update me on Supply Chain Content           0.00\n",
       "Get updates on DM Content                   0.00\n",
       "City                                        0.00\n",
       "I agree to pay the amount through cheque    0.00\n",
       "A free copy of Mastering The Interview      0.00\n",
       "Last Notable Activity                       0.00\n",
       "dtype: float64"
      ]
     },
     "execution_count": 43,
     "metadata": {},
     "output_type": "execute_result"
    }
   ],
   "source": [
    "#Check the Null Values in All Columns:\n",
    "round(100*(leads_df.isnull().sum()/len(leads_df)), 2)"
   ]
  },
  {
   "cell_type": "markdown",
   "id": "d7a8a1ff",
   "metadata": {},
   "source": [
    "__<div style=\"background-color:#ADD8E6; color:red ;font-size:15px; height: 25px;\">Inferences</div>__\n",
    "\n",
    "  - <font color='#800000'>Since the number of rows have null values is less than 2%, Drop all rows which have NaN Values. and it will not affect the model.</font>\n",
    "  "
   ]
  },
  {
   "cell_type": "code",
   "execution_count": 44,
   "id": "0134a1d7",
   "metadata": {},
   "outputs": [],
   "source": [
    "leads_df = leads_df.dropna()"
   ]
  },
  {
   "cell_type": "markdown",
   "id": "13e35707",
   "metadata": {},
   "source": [
    "### <font color='darkgreen'>4.4.7 Lead Source</font>    "
   ]
  },
  {
   "cell_type": "code",
   "execution_count": 45,
   "id": "a32a683b",
   "metadata": {},
   "outputs": [
    {
     "data": {
      "text/plain": [
       "Google               2868\n",
       "Direct Traffic       2543\n",
       "Olark Chat           1753\n",
       "Organic Search       1154\n",
       "Reference             443\n",
       "Welingak Website      129\n",
       "Referral Sites        125\n",
       "Facebook               31\n",
       "bing                    6\n",
       "google                  5\n",
       "Click2call              4\n",
       "Press_Release           2\n",
       "Social Media            2\n",
       "Live Chat               2\n",
       "youtubechannel          1\n",
       "testone                 1\n",
       "Pay per Click Ads       1\n",
       "welearnblog_Home        1\n",
       "WeLearn                 1\n",
       "blog                    1\n",
       "NC_EDM                  1\n",
       "Name: Lead Source, dtype: int64"
      ]
     },
     "execution_count": 45,
     "metadata": {},
     "output_type": "execute_result"
    }
   ],
   "source": [
    "#checking value counts of Lead Source column\n",
    "\n",
    "leads_df['Lead Source'].value_counts(dropna=False)"
   ]
  },
  {
   "cell_type": "code",
   "execution_count": 46,
   "id": "ab8c0109",
   "metadata": {},
   "outputs": [],
   "source": [
    "# we will marge Facebook with Social Media \n",
    "leads_df['Lead Source'] = leads_df['Lead Source'].replace('Facebook','Social Media')\n",
    "# we will replace google with Google\n",
    "leads_df['Lead Source'] = leads_df['Lead Source'].replace('google','Google')\n",
    "# marge all the categories less than 10 in others\n",
    "leads_df['Lead Source'] = leads_df['Lead Source'].replace(['bing','Click2call','Press_Release',\n",
    "                                                     'youtubechannel','welearnblog_Home',\n",
    "                                                     'WeLearn','blog','Pay per Click Ads',\n",
    "                                                    'testone','NC_EDM'] ,'Others') "
   ]
  },
  {
   "cell_type": "code",
   "execution_count": 47,
   "id": "216fcd4c",
   "metadata": {},
   "outputs": [
    {
     "data": {
      "image/png": "[encoded data removed]",
      "text/plain": [
       "<Figure size 1200x400 with 1 Axes>"
      ]
     },
     "metadata": {},
     "output_type": "display_data"
    }
   ],
   "source": [
    "# the targeted variable is Converted let's have a chart for City and  Converted\n",
    "plt.figure(figsize=(12,4))\n",
    "fig1=sns.countplot(leads_df['Lead Source'], hue=leads_df['Converted'])\n",
    "fig1.set_xticklabels(fig1.get_xticklabels(),rotation=90)\n",
    "plt.show()"
   ]
  },
  {
   "cell_type": "markdown",
   "id": "2a569273",
   "metadata": {},
   "source": [
    "__<div style=\"background-color:#ADD8E6; color:red ;font-size:15px; height: 25px;\">Inferences</div>__\n",
    "\n",
    "  - <font color='#800000'>Maximum number of leads are generated by Google, Direct traffic, Olark Chat, and Organic Search.</font>\n",
    "  - <font color='#800000'>Conversion Rate of reference and welingak website leeds is high.</font>\n",
    "  - <font color='#800000'>To improve overall lead conversion rate, focus should be on improving lead converion of Google, Direct traffic, Olark Chat, and Organic Search leads and generate more leads from reference and welingak website.</font>\n",
    "\n",
    "  "
   ]
  },
  {
   "cell_type": "markdown",
   "id": "e19baf4a",
   "metadata": {},
   "source": [
    "### <font color='darkgreen'>4.4.8 Last Activity</font>     "
   ]
  },
  {
   "cell_type": "code",
   "execution_count": 48,
   "id": "95cab082",
   "metadata": {},
   "outputs": [
    {
     "data": {
      "text/plain": [
       "Email Opened                    3432\n",
       "SMS Sent                        2716\n",
       "Olark Chat Conversation          972\n",
       "Page Visited on Website          640\n",
       "Converted to Lead                428\n",
       "Email Bounced                    312\n",
       "Email Link Clicked               267\n",
       "Form Submitted on Website        116\n",
       "Unreachable                       90\n",
       "Unsubscribed                      59\n",
       "Had a Phone Conversation          25\n",
       "View in browser link Clicked       6\n",
       "Approached upfront                 5\n",
       "Email Received                     2\n",
       "Email Marked Spam                  2\n",
       "Visited Booth in Tradeshow         1\n",
       "Resubscribed to emails             1\n",
       "Name: Last Activity, dtype: int64"
      ]
     },
     "execution_count": 48,
     "metadata": {},
     "output_type": "execute_result"
    }
   ],
   "source": [
    "leads_df['Last Activity'].value_counts(dropna=False)"
   ]
  },
  {
   "cell_type": "code",
   "execution_count": 49,
   "id": "57d87870",
   "metadata": {},
   "outputs": [],
   "source": [
    "leads_df['Last Activity'] = leads_df['Last Activity'].replace(['Unreachable','Unsubscribed','Had a Phone Conversation',\n",
    "                                                         'View in browser link Clicked','Approached upfront','Email Received',\n",
    "                                                         'Email Marked Spam','Visited Booth in Tradeshow',\n",
    "                                                         'Resubscribed to emails'],'Others')"
   ]
  },
  {
   "cell_type": "code",
   "execution_count": 50,
   "id": "c9142017",
   "metadata": {},
   "outputs": [
    {
     "data": {
      "text/plain": [
       "Email Opened                 3432\n",
       "SMS Sent                     2716\n",
       "Olark Chat Conversation       972\n",
       "Page Visited on Website       640\n",
       "Converted to Lead             428\n",
       "Email Bounced                 312\n",
       "Email Link Clicked            267\n",
       "Others                        191\n",
       "Form Submitted on Website     116\n",
       "Name: Last Activity, dtype: int64"
      ]
     },
     "execution_count": 50,
     "metadata": {},
     "output_type": "execute_result"
    }
   ],
   "source": [
    "leads_df['Last Activity'].value_counts(dropna=False)"
   ]
  },
  {
   "cell_type": "code",
   "execution_count": 51,
   "id": "d460e5ee",
   "metadata": {},
   "outputs": [
    {
     "data": {
      "image/png": "[encoded data removed]",
      "text/plain": [
       "<Figure size 1200x400 with 1 Axes>"
      ]
     },
     "metadata": {},
     "output_type": "display_data"
    }
   ],
   "source": [
    "# the targeted variable is Converted let's have a chart for City and  Converted\n",
    "plt.figure(figsize=(12,4))\n",
    "fig1=sns.countplot(leads_df['Last Activity'], hue=leads_df['Converted'])\n",
    "fig1.set_xticklabels(fig1.get_xticklabels(),rotation=90)\n",
    "plt.show()"
   ]
  },
  {
   "cell_type": "markdown",
   "id": "31f27661",
   "metadata": {},
   "source": [
    "__<div style=\"background-color:#ADD8E6; color:red ;font-size:15px; height: 25px;\">Inferences</div>__\n",
    "\n",
    "  - <font color='#800000'>Maximum number of leads are for Email Opened and SMS Sent.</font>\n",
    "  - <font color='#800000'>Conversion Rate of SMS Sent leeds is high.</font>\n",
    "  "
   ]
  },
  {
   "cell_type": "markdown",
   "id": "8edd7782",
   "metadata": {},
   "source": [
    "### <font color='darkgreen'>4.4.9 Lead Origin</font>"
   ]
  },
  {
   "cell_type": "code",
   "execution_count": 52,
   "id": "af1bcf23",
   "metadata": {},
   "outputs": [
    {
     "data": {
      "text/plain": [
       "Landing Page Submission    4885\n",
       "API                        3578\n",
       "Lead Add Form               581\n",
       "Lead Import                  30\n",
       "Name: Lead Origin, dtype: int64"
      ]
     },
     "execution_count": 52,
     "metadata": {},
     "output_type": "execute_result"
    }
   ],
   "source": [
    "leads_df['Lead Origin'].value_counts(dropna=False)"
   ]
  },
  {
   "cell_type": "code",
   "execution_count": 53,
   "id": "e3faa968",
   "metadata": {},
   "outputs": [
    {
     "data": {
      "image/png": "[encoded data removed]",
      "text/plain": [
       "<Figure size 1200x400 with 1 Axes>"
      ]
     },
     "metadata": {},
     "output_type": "display_data"
    }
   ],
   "source": [
    "plt.figure(figsize=(12,4))\n",
    "fig1=sns.countplot(leads_df['Lead Origin'], hue=leads_df['Converted'])\n",
    "fig1.set_xticklabels(fig1.get_xticklabels(),rotation=90)\n",
    "plt.show()"
   ]
  },
  {
   "cell_type": "markdown",
   "id": "337a276c",
   "metadata": {},
   "source": [
    "__<div style=\"background-color:#ADD8E6; color:red ;font-size:15px; height: 25px;\">Inferences</div>__\n",
    "\n",
    "  - <font color='#800000'>API and Landing Page Submission bring higher number of leads as well as conversion.</font>\n",
    "  - <font color='#800000'>Lead Add Form has a very high conversion rate but count of leads are not very high.</font>\n",
    "  - <font color='#800000'>In order to improve overall lead conversion rate, we have to improve lead converion of API and Landing Page Submission origin and generate more leads from Lead Add Form.</font>\n"
   ]
  },
  {
   "cell_type": "markdown",
   "id": "c5f542bd",
   "metadata": {},
   "source": [
    "### <font color='darkgreen'>4.4.10 Do Not Email</font>"
   ]
  },
  {
   "cell_type": "code",
   "execution_count": 54,
   "id": "e95f3a5d",
   "metadata": {},
   "outputs": [
    {
     "data": {
      "text/plain": [
       "No     8358\n",
       "Yes     716\n",
       "Name: Do Not Email, dtype: int64"
      ]
     },
     "execution_count": 54,
     "metadata": {},
     "output_type": "execute_result"
    }
   ],
   "source": [
    "leads_df['Do Not Email'].value_counts(dropna=False)"
   ]
  },
  {
   "cell_type": "markdown",
   "id": "b872430e",
   "metadata": {},
   "source": [
    "### <font color='darkgreen'>4.4.11 Do Not Call</font>"
   ]
  },
  {
   "cell_type": "code",
   "execution_count": 55,
   "id": "9dc260fc",
   "metadata": {},
   "outputs": [
    {
     "data": {
      "text/plain": [
       "No     9072\n",
       "Yes       2\n",
       "Name: Do Not Call, dtype: int64"
      ]
     },
     "execution_count": 55,
     "metadata": {},
     "output_type": "execute_result"
    }
   ],
   "source": [
    "leads_df['Do Not Call'].value_counts(dropna=False)"
   ]
  },
  {
   "cell_type": "markdown",
   "id": "285ae34e",
   "metadata": {},
   "source": [
    "__<div style=\"background-color:#ADD8E6; color:red ;font-size:15px; height: 25px;\">Inferences</div>__\n",
    "\n",
    "  - <font color='#800000'>most of the records have the value 'No'. so we will drop 'Do Not Call' column.</font>\n"
   ]
  },
  {
   "cell_type": "code",
   "execution_count": 56,
   "id": "b4dba806",
   "metadata": {},
   "outputs": [],
   "source": [
    "# most of the records have the value 'No'. so we will drop this column\n",
    "leads_df.drop('Do Not Call', 1, inplace = True)"
   ]
  },
  {
   "cell_type": "code",
   "execution_count": 57,
   "id": "ae2ba0b3",
   "metadata": {},
   "outputs": [
    {
     "data": {
      "text/plain": [
       "Index(['Lead Origin', 'Lead Source', 'Do Not Email', 'Converted',\n",
       "       'TotalVisits', 'Total Time Spent on Website', 'Page Views Per Visit',\n",
       "       'Last Activity', 'Specialization', 'What is your current occupation',\n",
       "       'Search', 'Magazine', 'Newspaper Article', 'X Education Forums',\n",
       "       'Newspaper', 'Digital Advertisement', 'Through Recommendations',\n",
       "       'Receive More Updates About Our Courses', 'Tags',\n",
       "       'Update me on Supply Chain Content', 'Get updates on DM Content',\n",
       "       'City', 'I agree to pay the amount through cheque',\n",
       "       'A free copy of Mastering The Interview', 'Last Notable Activity'],\n",
       "      dtype='object')"
      ]
     },
     "execution_count": 57,
     "metadata": {},
     "output_type": "execute_result"
    }
   ],
   "source": [
    "leads_df.columns"
   ]
  },
  {
   "cell_type": "markdown",
   "id": "5aaaf8e0",
   "metadata": {},
   "source": [
    "### <font color='darkgreen'>4.4.12 Search</font>"
   ]
  },
  {
   "cell_type": "code",
   "execution_count": 58,
   "id": "351a3e9f",
   "metadata": {},
   "outputs": [
    {
     "data": {
      "text/plain": [
       "No     9060\n",
       "Yes      14\n",
       "Name: Search, dtype: int64"
      ]
     },
     "execution_count": 58,
     "metadata": {},
     "output_type": "execute_result"
    }
   ],
   "source": [
    "leads_df['Search'].value_counts(dropna=False)"
   ]
  },
  {
   "cell_type": "markdown",
   "id": "26b8aef5",
   "metadata": {},
   "source": [
    "__<div style=\"background-color:#ADD8E6; color:red ;font-size:15px; height: 25px;\">Inferences</div>__\n",
    "\n",
    "  - <font color='#800000'>most of the records have the value 'No'. so we will drop 'Search' column.</font>\n"
   ]
  },
  {
   "cell_type": "code",
   "execution_count": 59,
   "id": "4ab24c28",
   "metadata": {},
   "outputs": [],
   "source": [
    "# most of the records have the value 'No'. so we will drop this column\n",
    "leads_df.drop('Search', 1, inplace = True)"
   ]
  },
  {
   "cell_type": "markdown",
   "id": "615713c7",
   "metadata": {},
   "source": [
    "### <font color='darkgreen'>4.4.13 Magazine</font>"
   ]
  },
  {
   "cell_type": "code",
   "execution_count": 60,
   "id": "1b581876",
   "metadata": {},
   "outputs": [
    {
     "data": {
      "text/plain": [
       "No    9074\n",
       "Name: Magazine, dtype: int64"
      ]
     },
     "execution_count": 60,
     "metadata": {},
     "output_type": "execute_result"
    }
   ],
   "source": [
    "leads_df['Magazine'].value_counts(dropna=False)"
   ]
  },
  {
   "cell_type": "markdown",
   "id": "7752549a",
   "metadata": {},
   "source": [
    "__<div style=\"background-color:#ADD8E6; color:red ;font-size:15px; height: 25px;\">Inferences</div>__\n",
    "\n",
    "  - <font color='#800000'>All of the records have the value 'No'. so we will drop 'Magazine' column.</font>\n"
   ]
  },
  {
   "cell_type": "code",
   "execution_count": 61,
   "id": "b130b934",
   "metadata": {},
   "outputs": [],
   "source": [
    "# all the records have the value 'No'. so we will drop this column\n",
    "leads_df.drop('Magazine', 1, inplace = True)"
   ]
  },
  {
   "cell_type": "markdown",
   "id": "dc00ac17",
   "metadata": {},
   "source": [
    "### <font color='darkgreen'>4.4.14 Newspaper Article</font> "
   ]
  },
  {
   "cell_type": "code",
   "execution_count": 62,
   "id": "3bcbeab8",
   "metadata": {},
   "outputs": [
    {
     "data": {
      "text/plain": [
       "No     9072\n",
       "Yes       2\n",
       "Name: Newspaper Article, dtype: int64"
      ]
     },
     "execution_count": 62,
     "metadata": {},
     "output_type": "execute_result"
    }
   ],
   "source": [
    "leads_df['Newspaper Article'].value_counts(dropna=False)"
   ]
  },
  {
   "cell_type": "markdown",
   "id": "588f9700",
   "metadata": {},
   "source": [
    "__<div style=\"background-color:#ADD8E6; color:red ;font-size:15px; height: 25px;\">Inferences</div>__\n",
    "\n",
    "  - <font color='#800000'>Most of the records have the value 'No'. so we will drop 'Newspaper Article' column.</font>\n"
   ]
  },
  {
   "cell_type": "code",
   "execution_count": 63,
   "id": "57bdfe86",
   "metadata": {},
   "outputs": [],
   "source": [
    "# most of the records have the value 'No'. so we will drop this column\n",
    "leads_df.drop('Newspaper Article', 1, inplace = True)"
   ]
  },
  {
   "cell_type": "markdown",
   "id": "83362161",
   "metadata": {},
   "source": [
    "### <font color='darkgreen'>4.4.15 X Education Forums</font> "
   ]
  },
  {
   "cell_type": "code",
   "execution_count": 64,
   "id": "8a135e9f",
   "metadata": {},
   "outputs": [
    {
     "data": {
      "text/plain": [
       "No     9073\n",
       "Yes       1\n",
       "Name: X Education Forums, dtype: int64"
      ]
     },
     "execution_count": 64,
     "metadata": {},
     "output_type": "execute_result"
    }
   ],
   "source": [
    "leads_df['X Education Forums'].value_counts(dropna=False)"
   ]
  },
  {
   "cell_type": "markdown",
   "id": "43575172",
   "metadata": {},
   "source": [
    "__<div style=\"background-color:#ADD8E6; color:red ;font-size:15px; height: 25px;\">Inferences</div>__\n",
    "\n",
    "  - <font color='#800000'>Most of the records have the value 'No'. so we will drop 'X Education Forums' column.</font>\n"
   ]
  },
  {
   "cell_type": "code",
   "execution_count": 65,
   "id": "999c117d",
   "metadata": {},
   "outputs": [],
   "source": [
    "# most of the records have the value 'No'. so we will drop this column\n",
    "leads_df.drop('X Education Forums', 1, inplace = True)"
   ]
  },
  {
   "cell_type": "markdown",
   "id": "7ca48ad2",
   "metadata": {},
   "source": [
    "### <font color='darkgreen'>4.4.16 Digital Advertisement</font>  "
   ]
  },
  {
   "cell_type": "code",
   "execution_count": 66,
   "id": "e02783b7",
   "metadata": {},
   "outputs": [
    {
     "data": {
      "text/plain": [
       "No     9070\n",
       "Yes       4\n",
       "Name: Digital Advertisement, dtype: int64"
      ]
     },
     "execution_count": 66,
     "metadata": {},
     "output_type": "execute_result"
    }
   ],
   "source": [
    "leads_df['Digital Advertisement'].value_counts(dropna=False)"
   ]
  },
  {
   "cell_type": "markdown",
   "id": "56ecf93e",
   "metadata": {},
   "source": [
    "__<div style=\"background-color:#ADD8E6; color:red ;font-size:15px; height: 25px;\">Inferences</div>__\n",
    "\n",
    "  - <font color='#800000'>Most of the records have the value 'No'. so we will drop 'Digital Advertisement' column.</font>\n"
   ]
  },
  {
   "cell_type": "code",
   "execution_count": 67,
   "id": "707978d4",
   "metadata": {},
   "outputs": [],
   "source": [
    "# most of the records have the value 'No'. so we will drop this column\n",
    "leads_df.drop('Digital Advertisement', 1, inplace = True)"
   ]
  },
  {
   "cell_type": "markdown",
   "id": "1c68b358",
   "metadata": {},
   "source": [
    "### <font color='darkgreen'>4.4.17 Newspaper</font>  "
   ]
  },
  {
   "cell_type": "code",
   "execution_count": 68,
   "id": "820f8eb6",
   "metadata": {},
   "outputs": [
    {
     "data": {
      "text/plain": [
       "No     9073\n",
       "Yes       1\n",
       "Name: Newspaper, dtype: int64"
      ]
     },
     "execution_count": 68,
     "metadata": {},
     "output_type": "execute_result"
    }
   ],
   "source": [
    "leads_df['Newspaper'].value_counts(dropna=False)"
   ]
  },
  {
   "cell_type": "markdown",
   "id": "e97bf3bf",
   "metadata": {},
   "source": [
    "__<div style=\"background-color:#ADD8E6; color:red ;font-size:15px; height: 25px;\">Inferences</div>__\n",
    "\n",
    "  - <font color='#800000'>Most of the records have the value 'No'. so we will drop 'Newspaper' column.</font>\n"
   ]
  },
  {
   "cell_type": "code",
   "execution_count": 69,
   "id": "bd01119b",
   "metadata": {},
   "outputs": [],
   "source": [
    "# most of the records have the value 'No'. so we will drop this column\n",
    "leads_df.drop('Newspaper', 1, inplace = True)"
   ]
  },
  {
   "cell_type": "markdown",
   "id": "f8ff4619",
   "metadata": {},
   "source": [
    "### <font color='darkgreen'>4.4.18 Through Recommendations</font>  "
   ]
  },
  {
   "cell_type": "code",
   "execution_count": 70,
   "id": "fc0bb857",
   "metadata": {},
   "outputs": [
    {
     "data": {
      "text/plain": [
       "No     9067\n",
       "Yes       7\n",
       "Name: Through Recommendations, dtype: int64"
      ]
     },
     "execution_count": 70,
     "metadata": {},
     "output_type": "execute_result"
    }
   ],
   "source": [
    "leads_df['Through Recommendations'].value_counts(dropna=False)"
   ]
  },
  {
   "cell_type": "markdown",
   "id": "e3230053",
   "metadata": {},
   "source": [
    "__<div style=\"background-color:#ADD8E6; color:red ;font-size:15px; height: 25px;\">Inferences</div>__\n",
    "\n",
    "  - <font color='#800000'>Most of the records have the value 'No'. so we will drop 'Through Recommendations' column.</font>\n"
   ]
  },
  {
   "cell_type": "code",
   "execution_count": 71,
   "id": "822d9167",
   "metadata": {},
   "outputs": [],
   "source": [
    "# most of the records have the value 'No'. so we will drop this column\n",
    "leads_df.drop('Through Recommendations', 1, inplace = True)"
   ]
  },
  {
   "cell_type": "markdown",
   "id": "3ec721c1",
   "metadata": {},
   "source": [
    "### <font color='darkgreen'>4.4.19 Receive More Updates About Our Courses</font>  "
   ]
  },
  {
   "cell_type": "code",
   "execution_count": 72,
   "id": "6726da1a",
   "metadata": {},
   "outputs": [
    {
     "data": {
      "text/plain": [
       "No    9074\n",
       "Name: Receive More Updates About Our Courses, dtype: int64"
      ]
     },
     "execution_count": 72,
     "metadata": {},
     "output_type": "execute_result"
    }
   ],
   "source": [
    "leads_df['Receive More Updates About Our Courses'].value_counts(dropna=False)"
   ]
  },
  {
   "cell_type": "markdown",
   "id": "dac12138",
   "metadata": {},
   "source": [
    "__<div style=\"background-color:#ADD8E6; color:red ;font-size:15px; height: 25px;\">Inferences</div>__\n",
    "\n",
    "  - <font color='#800000'>All of the records have the value 'No'. so we will drop 'Receive More Updates About Our Courses' column.</font>\n"
   ]
  },
  {
   "cell_type": "code",
   "execution_count": 73,
   "id": "cda998ad",
   "metadata": {},
   "outputs": [],
   "source": [
    "# all of the records have the value 'No'. so we will drop this column\n",
    "leads_df.drop('Receive More Updates About Our Courses', 1, inplace = True)"
   ]
  },
  {
   "cell_type": "markdown",
   "id": "f59d305d",
   "metadata": {},
   "source": [
    "### <font color='darkgreen'>4.4.20 Update me on Supply Chain Content</font>  "
   ]
  },
  {
   "cell_type": "code",
   "execution_count": 74,
   "id": "9fd09517",
   "metadata": {},
   "outputs": [
    {
     "data": {
      "text/plain": [
       "No    9074\n",
       "Name: Update me on Supply Chain Content, dtype: int64"
      ]
     },
     "execution_count": 74,
     "metadata": {},
     "output_type": "execute_result"
    }
   ],
   "source": [
    "leads_df['Update me on Supply Chain Content'].value_counts(dropna=False)"
   ]
  },
  {
   "cell_type": "markdown",
   "id": "497e016a",
   "metadata": {},
   "source": [
    "__<div style=\"background-color:#ADD8E6; color:red ;font-size:15px; height: 25px;\">Inferences</div>__\n",
    "\n",
    "  - <font color='#800000'>All of the records have the value 'No'. so we will drop 'Update me on Supply Chain Content' column.</font>\n"
   ]
  },
  {
   "cell_type": "code",
   "execution_count": 75,
   "id": "956f777c",
   "metadata": {},
   "outputs": [],
   "source": [
    "# all of the records have the value 'No'. so we will drop this column\n",
    "leads_df.drop('Update me on Supply Chain Content', 1, inplace = True)"
   ]
  },
  {
   "cell_type": "markdown",
   "id": "45e36f76",
   "metadata": {},
   "source": [
    "### <font color='darkgreen'>4.4.21 Get updates on DM Content</font>  "
   ]
  },
  {
   "cell_type": "code",
   "execution_count": 76,
   "id": "01cb7fec",
   "metadata": {},
   "outputs": [
    {
     "data": {
      "text/plain": [
       "No    9074\n",
       "Name: Get updates on DM Content, dtype: int64"
      ]
     },
     "execution_count": 76,
     "metadata": {},
     "output_type": "execute_result"
    }
   ],
   "source": [
    "leads_df['Get updates on DM Content'].value_counts(dropna=False)"
   ]
  },
  {
   "cell_type": "markdown",
   "id": "1b3d0c26",
   "metadata": {},
   "source": [
    "__<div style=\"background-color:#ADD8E6; color:red ;font-size:15px; height: 25px;\">Inferences</div>__\n",
    "\n",
    "  - <font color='#800000'>All of the records have the value 'No'. so we will drop 'Get updates on DM Content' column.</font>\n"
   ]
  },
  {
   "cell_type": "code",
   "execution_count": 77,
   "id": "29e452e3",
   "metadata": {},
   "outputs": [],
   "source": [
    "# all of the records have the value 'No'. so we will drop this column\n",
    "leads_df.drop('Get updates on DM Content', 1, inplace = True)"
   ]
  },
  {
   "cell_type": "markdown",
   "id": "0c738d57",
   "metadata": {},
   "source": [
    "### <font color='darkgreen'>4.4.22 I agree to pay the amount through cheque</font> "
   ]
  },
  {
   "cell_type": "code",
   "execution_count": 78,
   "id": "21fdd34e",
   "metadata": {},
   "outputs": [
    {
     "data": {
      "text/plain": [
       "No    9074\n",
       "Name: I agree to pay the amount through cheque, dtype: int64"
      ]
     },
     "execution_count": 78,
     "metadata": {},
     "output_type": "execute_result"
    }
   ],
   "source": [
    "leads_df['I agree to pay the amount through cheque'].value_counts(dropna=False)"
   ]
  },
  {
   "cell_type": "markdown",
   "id": "4bbdb38d",
   "metadata": {},
   "source": [
    "__<div style=\"background-color:#ADD8E6; color:red ;font-size:15px; height: 25px;\">Inferences</div>__\n",
    "\n",
    "  - <font color='#800000'>All of the records have the value 'No'. so we will drop 'I agree to pay the amount through cheque' column.</font>\n"
   ]
  },
  {
   "cell_type": "code",
   "execution_count": 79,
   "id": "88a8ddf0",
   "metadata": {},
   "outputs": [],
   "source": [
    "# all of the records have the value 'No'. so we will drop this column\n",
    "leads_df.drop('I agree to pay the amount through cheque', 1, inplace = True)"
   ]
  },
  {
   "cell_type": "markdown",
   "id": "28f7b4b9",
   "metadata": {},
   "source": [
    "### <font color='darkgreen'>4.4.23 A free copy of Mastering The Interview</font>  "
   ]
  },
  {
   "cell_type": "code",
   "execution_count": 80,
   "id": "87cbf25a",
   "metadata": {},
   "outputs": [
    {
     "data": {
      "text/plain": [
       "No     6186\n",
       "Yes    2888\n",
       "Name: A free copy of Mastering The Interview, dtype: int64"
      ]
     },
     "execution_count": 80,
     "metadata": {},
     "output_type": "execute_result"
    }
   ],
   "source": [
    "leads_df['A free copy of Mastering The Interview'].value_counts(dropna=False)"
   ]
  },
  {
   "cell_type": "markdown",
   "id": "9e0de381",
   "metadata": {},
   "source": [
    "### <font color='darkgreen'>4.4.24 Last Notable Activity</font>  "
   ]
  },
  {
   "cell_type": "code",
   "execution_count": 81,
   "id": "d9852239",
   "metadata": {},
   "outputs": [
    {
     "data": {
      "text/plain": [
       "Modified                        3267\n",
       "Email Opened                    2823\n",
       "SMS Sent                        2152\n",
       "Page Visited on Website          318\n",
       "Olark Chat Conversation          183\n",
       "Email Link Clicked               173\n",
       "Email Bounced                     60\n",
       "Unsubscribed                      45\n",
       "Unreachable                       32\n",
       "Had a Phone Conversation          14\n",
       "Email Marked Spam                  2\n",
       "Approached upfront                 1\n",
       "Resubscribed to emails             1\n",
       "View in browser link Clicked       1\n",
       "Form Submitted on Website          1\n",
       "Email Received                     1\n",
       "Name: Last Notable Activity, dtype: int64"
      ]
     },
     "execution_count": 81,
     "metadata": {},
     "output_type": "execute_result"
    }
   ],
   "source": [
    "leads_df['Last Notable Activity'].value_counts(dropna=False)"
   ]
  },
  {
   "cell_type": "code",
   "execution_count": 82,
   "id": "b65b1fba",
   "metadata": {},
   "outputs": [],
   "source": [
    "# replace low numbers with Others\n",
    "leads_df['Last Notable Activity'] = leads_df['Last Notable Activity'].replace(['Email Bounced','Unsubscribed','Unreachable',\n",
    "                                                                         'Had a Phone Conversation','Email Marked Spam',\n",
    "                                                                         'Approached upfront','Resubscribed to emails',\n",
    "                                                                         'View in browser link Clicked',\n",
    "                                                                         'Form Submitted on Website',\n",
    "                                                                         'Email Received'],'Others')"
   ]
  },
  {
   "cell_type": "code",
   "execution_count": 83,
   "id": "b6919447",
   "metadata": {},
   "outputs": [
    {
     "data": {
      "image/png": "[encoded data removed]",
      "text/plain": [
       "<Figure size 1200x400 with 1 Axes>"
      ]
     },
     "metadata": {},
     "output_type": "display_data"
    }
   ],
   "source": [
    "plt.figure(figsize=(12,4))\n",
    "fig1=sns.countplot(leads_df['Last Notable Activity'], hue=leads_df['Converted'])\n",
    "fig1.set_xticklabels(fig1.get_xticklabels(),rotation=90)\n",
    "plt.show()"
   ]
  },
  {
   "cell_type": "markdown",
   "id": "eb3b8607",
   "metadata": {},
   "source": [
    "__<div style=\"background-color:#ADD8E6; color:red ;font-size:15px; height: 25px;\">Inferences</div>__\n",
    "\n",
    "  - <font color='#800000'>Modified, Email Opened, and SMS Sent bring higher number of leads as well as conversion.</font>\n",
    "  - <font color='#800000'>SMS Sent has a very high conversion rate.</font>\n",
    "  - <font color='#800000'>In order to improve overall lead conversion rate, we have to improve lead converion ofModified, Email Opened, and SMS Sent.</font>\n"
   ]
  },
  {
   "cell_type": "code",
   "execution_count": 84,
   "id": "50910334",
   "metadata": {},
   "outputs": [
    {
     "name": "stdout",
     "output_type": "stream",
     "text": [
      "<class 'pandas.core.frame.DataFrame'>\n",
      "Int64Index: 9074 entries, 0 to 9239\n",
      "Data columns (total 14 columns):\n",
      " #   Column                                  Non-Null Count  Dtype  \n",
      "---  ------                                  --------------  -----  \n",
      " 0   Lead Origin                             9074 non-null   object \n",
      " 1   Lead Source                             9074 non-null   object \n",
      " 2   Do Not Email                            9074 non-null   object \n",
      " 3   Converted                               9074 non-null   int64  \n",
      " 4   TotalVisits                             9074 non-null   float64\n",
      " 5   Total Time Spent on Website             9074 non-null   int64  \n",
      " 6   Page Views Per Visit                    9074 non-null   float64\n",
      " 7   Last Activity                           9074 non-null   object \n",
      " 8   Specialization                          9074 non-null   object \n",
      " 9   What is your current occupation         9074 non-null   object \n",
      " 10  Tags                                    9074 non-null   object \n",
      " 11  City                                    9074 non-null   object \n",
      " 12  A free copy of Mastering The Interview  9074 non-null   object \n",
      " 13  Last Notable Activity                   9074 non-null   object \n",
      "dtypes: float64(2), int64(2), object(10)\n",
      "memory usage: 1.0+ MB\n"
     ]
    }
   ],
   "source": [
    "# check leads_df\n",
    "leads_df.info()"
   ]
  },
  {
   "cell_type": "markdown",
   "id": "cdbc0a7a",
   "metadata": {},
   "source": [
    "## <font color='blue'>4.5. Numerical Attributes Analysis</font> "
   ]
  },
  {
   "cell_type": "markdown",
   "id": "6fcb785c",
   "metadata": {},
   "source": [
    "### <font color='darkgreen'>4.5.1 Numeric Variables Correlation </font>  "
   ]
  },
  {
   "cell_type": "code",
   "execution_count": 85,
   "id": "77655664",
   "metadata": {},
   "outputs": [
    {
     "data": {
      "image/png": "[encoded data removed]",
      "text/plain": [
       "<Figure size 1000x800 with 2 Axes>"
      ]
     },
     "metadata": {},
     "output_type": "display_data"
    }
   ],
   "source": [
    "#Checking correlations of numeric values\n",
    "plt.figure(figsize=(10,8))\n",
    "sns.heatmap(leads_df.corr(), annot=True)\n",
    "plt.show()"
   ]
  },
  {
   "cell_type": "markdown",
   "id": "2e844e7d",
   "metadata": {},
   "source": [
    "### <font color='darkgreen'>4.5.2 TotalVisits </font>  "
   ]
  },
  {
   "cell_type": "code",
   "execution_count": 86,
   "id": "c4ac3ca0",
   "metadata": {},
   "outputs": [
    {
     "data": {
      "image/png": "[encoded data removed]",
      "text/plain": [
       "<Figure size 600x400 with 1 Axes>"
      ]
     },
     "metadata": {},
     "output_type": "display_data"
    }
   ],
   "source": [
    "# check the outliers\n",
    "plt.figure(figsize=(6,4))\n",
    "sns.boxplot(y=leads_df['TotalVisits'])\n",
    "plt.show()"
   ]
  },
  {
   "cell_type": "code",
   "execution_count": 87,
   "id": "8e36d0f1",
   "metadata": {},
   "outputs": [
    {
     "data": {
      "text/plain": [
       "count    9074.000000\n",
       "mean        3.456028\n",
       "std         4.858802\n",
       "min         0.000000\n",
       "5%          0.000000\n",
       "25%         1.000000\n",
       "50%         3.000000\n",
       "75%         5.000000\n",
       "90%         7.000000\n",
       "95%        10.000000\n",
       "99%        17.000000\n",
       "max       251.000000\n",
       "Name: TotalVisits, dtype: float64"
      ]
     },
     "execution_count": 87,
     "metadata": {},
     "output_type": "execute_result"
    }
   ],
   "source": [
    "#checking percentile values for \"Total Visits\"\n",
    "leads_df['TotalVisits'].describe(percentiles=[0.05,.25, .5, .75, .90, .95, .99])"
   ]
  },
  {
   "cell_type": "code",
   "execution_count": 88,
   "id": "4c886349",
   "metadata": {},
   "outputs": [],
   "source": [
    "#Outlier Treatment: Remove top 1% of the Column Outlier values (All the outliers in the top)\n",
    "top_value = leads_df.TotalVisits.quantile(0.99)\n",
    "leads_df = leads_df[(leads_df['TotalVisits'] <= top_value)]"
   ]
  },
  {
   "cell_type": "code",
   "execution_count": 89,
   "id": "eaf490a1",
   "metadata": {},
   "outputs": [
    {
     "data": {
      "text/plain": [
       "(8991, 14)"
      ]
     },
     "execution_count": 89,
     "metadata": {},
     "output_type": "execute_result"
    }
   ],
   "source": [
    "leads_df.shape"
   ]
  },
  {
   "cell_type": "code",
   "execution_count": 90,
   "id": "59778e56",
   "metadata": {},
   "outputs": [
    {
     "data": {
      "image/png": "[encoded data removed]",
      "text/plain": [
       "<Figure size 640x480 with 1 Axes>"
      ]
     },
     "metadata": {},
     "output_type": "display_data"
    }
   ],
   "source": [
    "#checking Spread of \"Total Visits\" vs Converted variable\n",
    "sns.boxplot(y = 'TotalVisits', x = 'Converted', data = leads_df)\n",
    "plt.show()"
   ]
  },
  {
   "cell_type": "markdown",
   "id": "6af301d8",
   "metadata": {},
   "source": [
    "__<div style=\"background-color:#ADD8E6; color:red ;font-size:15px; height: 25px;\">Inferences</div>__\n",
    "\n",
    "  - <font color='#800000'>Median for converted and not converted leads are the close.</font>\n"
   ]
  },
  {
   "cell_type": "markdown",
   "id": "67ab4918",
   "metadata": {},
   "source": [
    "### <font color='darkgreen'>4.5.3 Total Time Spent on Website </font>  "
   ]
  },
  {
   "cell_type": "code",
   "execution_count": 91,
   "id": "ce999e1e",
   "metadata": {},
   "outputs": [
    {
     "data": {
      "image/png": "[encoded data removed]",
      "text/plain": [
       "<Figure size 600x400 with 1 Axes>"
      ]
     },
     "metadata": {},
     "output_type": "display_data"
    }
   ],
   "source": [
    "# check the outliers\n",
    "plt.figure(figsize=(6,4))\n",
    "sns.boxplot(y=leads_df['Total Time Spent on Website'])\n",
    "plt.show()"
   ]
  },
  {
   "cell_type": "code",
   "execution_count": 92,
   "id": "ca38bdee",
   "metadata": {},
   "outputs": [
    {
     "data": {
      "image/png": "[encoded data removed]",
      "text/plain": [
       "<Figure size 640x480 with 1 Axes>"
      ]
     },
     "metadata": {},
     "output_type": "display_data"
    }
   ],
   "source": [
    "#checking Spread of \"Total Time Spent on Website\" vs Converted variable\n",
    "sns.boxplot(y = 'Total Time Spent on Website', x = 'Converted', data = leads_df)\n",
    "plt.show()"
   ]
  },
  {
   "cell_type": "markdown",
   "id": "1dc5e341",
   "metadata": {},
   "source": [
    "__<div style=\"background-color:#ADD8E6; color:red ;font-size:15px; height: 25px;\">Inferences</div>__\n",
    "\n",
    "  - <font color='#800000'>No major Outliers for the above variable.</font>\n",
    "  - <font color='#800000'>Leads spending more time on the website are more likely to be converted.</font>\n",
    "  - <font color='#800000'>Website should be interested to make leads spend more time.</font>\n"
   ]
  },
  {
   "cell_type": "markdown",
   "id": "cc956fc9",
   "metadata": {},
   "source": [
    "### <font color='darkgreen'>4.5.4 Page Views Per Visit </font>  "
   ]
  },
  {
   "cell_type": "code",
   "execution_count": 93,
   "id": "46d79c81",
   "metadata": {},
   "outputs": [
    {
     "data": {
      "image/png": "[encoded data removed]",
      "text/plain": [
       "<Figure size 600x400 with 1 Axes>"
      ]
     },
     "metadata": {},
     "output_type": "display_data"
    }
   ],
   "source": [
    "# check the outliers\n",
    "plt.figure(figsize=(6,4))\n",
    "sns.boxplot(y=leads_df['Page Views Per Visit'])\n",
    "plt.show()"
   ]
  },
  {
   "cell_type": "code",
   "execution_count": 94,
   "id": "ee9fdc1d",
   "metadata": {},
   "outputs": [],
   "source": [
    "#Outlier Treatment: Remove top  1% \n",
    "\n",
    "top_value = leads_df['Page Views Per Visit'].quantile(0.99)\n",
    "leads_df = leads_df[(leads_df['Page Views Per Visit'] <= top_value)]"
   ]
  },
  {
   "cell_type": "code",
   "execution_count": 95,
   "id": "2804c480",
   "metadata": {},
   "outputs": [
    {
     "data": {
      "text/plain": [
       "(8924, 14)"
      ]
     },
     "execution_count": 95,
     "metadata": {},
     "output_type": "execute_result"
    }
   ],
   "source": [
    "leads_df.shape"
   ]
  },
  {
   "cell_type": "code",
   "execution_count": 96,
   "id": "68b09d08",
   "metadata": {},
   "outputs": [
    {
     "data": {
      "image/png": "[encoded data removed]",
      "text/plain": [
       "<Figure size 640x480 with 1 Axes>"
      ]
     },
     "metadata": {},
     "output_type": "display_data"
    }
   ],
   "source": [
    "#checking Spread of \"Total Time Spent on Website\" vs Converted variable\n",
    "sns.boxplot(y = 'Page Views Per Visit', x = 'Converted', data = leads_df)\n",
    "plt.show()"
   ]
  },
  {
   "cell_type": "markdown",
   "id": "e6b214da",
   "metadata": {},
   "source": [
    "__<div style=\"background-color:#ADD8E6; color:red ;font-size:15px; height: 25px;\">Inferences</div>__\n",
    "\n",
    "  - <font color='#800000'>Median for converted and unconverted leads is the same.</font>\n"
   ]
  },
  {
   "cell_type": "markdown",
   "id": "7ab1351a",
   "metadata": {},
   "source": [
    "# <font color=#00008B>5. Dummy Variable</font>"
   ]
  },
  {
   "cell_type": "code",
   "execution_count": 97,
   "id": "044f85d4",
   "metadata": {},
   "outputs": [
    {
     "name": "stdout",
     "output_type": "stream",
     "text": [
      "Index(['Lead Origin', 'Lead Source', 'Do Not Email', 'Last Activity',\n",
      "       'Specialization', 'What is your current occupation', 'Tags', 'City',\n",
      "       'A free copy of Mastering The Interview', 'Last Notable Activity'],\n",
      "      dtype='object')\n"
     ]
    }
   ],
   "source": [
    "# Print the categorical columns in the data Frame\n",
    "print(leads_df.select_dtypes(include=['object']).columns)"
   ]
  },
  {
   "cell_type": "code",
   "execution_count": 98,
   "id": "f0cab6ee",
   "metadata": {},
   "outputs": [
    {
     "name": "stdout",
     "output_type": "stream",
     "text": [
      "----Lead Origin-----\n",
      "Landing Page Submission    4768\n",
      "API                        3546\n",
      "Lead Add Form               580\n",
      "Lead Import                  30\n",
      "Name: Lead Origin, dtype: int64\n",
      "----Lead Source-----\n",
      "Google              2841\n",
      "Direct Traffic      2499\n",
      "Olark Chat          1751\n",
      "Organic Search      1092\n",
      "Reference            442\n",
      "Welingak Website     129\n",
      "Referral Sites       117\n",
      "Social Media          33\n",
      "Others                18\n",
      "Live Chat              2\n",
      "Name: Lead Source, dtype: int64\n",
      "----Do Not Email-----\n",
      "No     8235\n",
      "Yes     689\n",
      "Name: Do Not Email, dtype: int64\n",
      "----Last Activity-----\n",
      "Email Opened                 3385\n",
      "SMS Sent                     2678\n",
      "Olark Chat Conversation       966\n",
      "Page Visited on Website       594\n",
      "Converted to Lead             428\n",
      "Email Bounced                 310\n",
      "Email Link Clicked            264\n",
      "Others                        185\n",
      "Form Submitted on Website     114\n",
      "Name: Last Activity, dtype: int64\n",
      "----Specialization-----\n",
      "Management_Specializations           4119\n",
      "Unspecified                          3262\n",
      "Business Administration               390\n",
      "Banking, Investment And Insurance     325\n",
      "Media and Advertising                 197\n",
      "Travel and Tourism                    189\n",
      "International Business                171\n",
      "E-COMMERCE                            107\n",
      "Rural and Agribusiness                 70\n",
      "E-Business                             56\n",
      "Services Excellence                    38\n",
      "Name: Specialization, dtype: int64\n",
      "----What is your current occupation-----\n",
      "Unemployed              8027\n",
      "Working Professional     665\n",
      "Student                  203\n",
      "Other                     13\n",
      "Housewife                  9\n",
      "Businessman                7\n",
      "Name: What is your current occupation, dtype: int64\n",
      "----Tags-----\n",
      "Unspecified                            3278\n",
      "Will revert after reading the email    1983\n",
      "Ringing                                1160\n",
      "Interested in other courses             505\n",
      "Already a student                       461\n",
      "Others                                  296\n",
      "Closed by Horizzon                      290\n",
      "switched off                            237\n",
      "Busy                                    183\n",
      "Lost to EINS                            168\n",
      "Not doing further education             137\n",
      "Interested  in full time MBA            116\n",
      "Graduation in progress                  110\n",
      "Name: Tags, dtype: int64\n",
      "----City-----\n",
      "Mumbai                         6660\n",
      "Thane & Outskirts               722\n",
      "Other Cities                    669\n",
      "Other Cities of Maharashtra     437\n",
      "Other Metro Cities              364\n",
      "Tier II Cities                   72\n",
      "Name: City, dtype: int64\n",
      "----A free copy of Mastering The Interview-----\n",
      "No     6126\n",
      "Yes    2798\n",
      "Name: A free copy of Mastering The Interview, dtype: int64\n",
      "----Last Notable Activity-----\n",
      "Modified                   3221\n",
      "Email Opened               2785\n",
      "SMS Sent                   2123\n",
      "Page Visited on Website     288\n",
      "Olark Chat Conversation     182\n",
      "Email Link Clicked          170\n",
      "Others                      155\n",
      "Name: Last Notable Activity, dtype: int64\n"
     ]
    }
   ],
   "source": [
    "# Check the values in each categorical variable\n",
    "for col in leads_df.select_dtypes(include=['object']).columns:\n",
    "    print('----'+col+'-----')\n",
    "    print(leads_df[col].value_counts())"
   ]
  },
  {
   "cell_type": "code",
   "execution_count": 99,
   "id": "b6e309e6",
   "metadata": {},
   "outputs": [],
   "source": [
    "# 'Do Not Email'  & 'A free copy of Mastering The Interview' has Yes/No values \n",
    "binary_list=['Do Not Email','A free copy of Mastering The Interview']\n",
    "def binary_map(x):\n",
    "    return x.map({'Yes': 1, \"No\": 0})\n",
    "leads_df[binary_list] = leads_df[binary_list].apply(binary_map)"
   ]
  },
  {
   "cell_type": "code",
   "execution_count": 100,
   "id": "6861273d",
   "metadata": {},
   "outputs": [],
   "source": [
    "# Create a dummy variables for Lead Origin and drop the first one\n",
    "Lead_origin_dummy = pd.get_dummies(leads_df['Lead Origin'], prefix = 'Lead Origin',drop_first=True)\n",
    "leads_df = pd.concat([leads_df,Lead_origin_dummy],1)"
   ]
  },
  {
   "cell_type": "code",
   "execution_count": 101,
   "id": "bc51e01f",
   "metadata": {},
   "outputs": [],
   "source": [
    "# Create a dummy variables for Lead Source and drop the Others variable \n",
    "Lead_source_dummy = pd.get_dummies(leads_df['Lead Source'],prefix  = 'Lead Source')\n",
    "Lead_source_dummy = Lead_source_dummy.drop(['Lead Source_Others'], 1)\n",
    "leads_df = pd.concat([leads_df,Lead_source_dummy],1)"
   ]
  },
  {
   "cell_type": "code",
   "execution_count": 102,
   "id": "5eee6578",
   "metadata": {},
   "outputs": [],
   "source": [
    "# Create a dummy variables for Last Activity and drop the Others variable \n",
    "last_activity_dummy = pd.get_dummies(leads_df['Last Activity'], prefix  = 'Last Activity')\n",
    "last_activity_dummy = last_activity_dummy.drop(['Last Activity_Others'], 1)\n",
    "leads_df = pd.concat([leads_df, last_activity_dummy], axis = 1)"
   ]
  },
  {
   "cell_type": "code",
   "execution_count": 103,
   "id": "ec3c1301",
   "metadata": {},
   "outputs": [],
   "source": [
    "# Create a dummy variables for Specialization and drop the Unspecified variable \n",
    "specialization_dummy = pd.get_dummies(leads_df['Specialization'], prefix  = 'Specialization')\n",
    "specialization_dummy = specialization_dummy.drop(['Specialization_Unspecified'], 1)\n",
    "leads_df = pd.concat([leads_df, specialization_dummy], axis = 1)"
   ]
  },
  {
   "cell_type": "code",
   "execution_count": 104,
   "id": "3760abd7",
   "metadata": {},
   "outputs": [],
   "source": [
    "# Create a dummy variables for What is your current occupation and drop the first one\n",
    "your_current_occupation_dummy = pd.get_dummies(leads_df['What is your current occupation'], prefix  = 'What is your current occupation' ,drop_first=True)\n",
    "leads_df = pd.concat([leads_df,your_current_occupation_dummy],1)"
   ]
  },
  {
   "cell_type": "code",
   "execution_count": 105,
   "id": "746d69f5",
   "metadata": {},
   "outputs": [],
   "source": [
    "# Create a dummy variables for Tags and drop the Unspecified variable \n",
    "tags_dummy = pd.get_dummies(leads_df['Tags'], prefix  = 'Tags')\n",
    "tags_dummy = tags_dummy.drop(['Tags_Unspecified'], 1)\n",
    "leads_df = pd.concat([leads_df, tags_dummy], axis = 1)"
   ]
  },
  {
   "cell_type": "code",
   "execution_count": 106,
   "id": "f7adc546",
   "metadata": {},
   "outputs": [],
   "source": [
    "# Create a dummy variables for City and drop the first one\n",
    "city_dummy = pd.get_dummies(leads_df['City'], prefix  = 'City', drop_first=True)\n",
    "leads_df = pd.concat([leads_df,city_dummy],1)"
   ]
  },
  {
   "cell_type": "code",
   "execution_count": 107,
   "id": "278964be",
   "metadata": {},
   "outputs": [],
   "source": [
    "# Create a dummy variables for Last Notable Activity and drop the Others variable \n",
    "last_notable_activity_dummy = pd.get_dummies(leads_df['Last Notable Activity'], prefix  = 'Last Notable Activity')\n",
    "last_notable_activity_dummy = last_notable_activity_dummy.drop(['Last Notable Activity_Others'], 1)\n",
    "leads_df = pd.concat([leads_df, last_notable_activity_dummy], axis = 1)"
   ]
  },
  {
   "cell_type": "code",
   "execution_count": 108,
   "id": "93903000",
   "metadata": {},
   "outputs": [],
   "source": [
    "# Drop all the Object type columns from the dataframe\n",
    "cat_col=leads_df.select_dtypes(include=['object']).columns\n",
    "leads_df.drop(cat_col,1,inplace = True)"
   ]
  },
  {
   "cell_type": "code",
   "execution_count": 109,
   "id": "06fa39d2",
   "metadata": {},
   "outputs": [
    {
     "name": "stdout",
     "output_type": "stream",
     "text": [
      "<class 'pandas.core.frame.DataFrame'>\n",
      "Int64Index: 8924 entries, 0 to 9239\n",
      "Data columns (total 64 columns):\n",
      " #   Column                                                Non-Null Count  Dtype  \n",
      "---  ------                                                --------------  -----  \n",
      " 0   Do Not Email                                          8924 non-null   int64  \n",
      " 1   Converted                                             8924 non-null   int64  \n",
      " 2   TotalVisits                                           8924 non-null   float64\n",
      " 3   Total Time Spent on Website                           8924 non-null   int64  \n",
      " 4   Page Views Per Visit                                  8924 non-null   float64\n",
      " 5   A free copy of Mastering The Interview                8924 non-null   int64  \n",
      " 6   Lead Origin_Landing Page Submission                   8924 non-null   uint8  \n",
      " 7   Lead Origin_Lead Add Form                             8924 non-null   uint8  \n",
      " 8   Lead Origin_Lead Import                               8924 non-null   uint8  \n",
      " 9   Lead Source_Direct Traffic                            8924 non-null   uint8  \n",
      " 10  Lead Source_Google                                    8924 non-null   uint8  \n",
      " 11  Lead Source_Live Chat                                 8924 non-null   uint8  \n",
      " 12  Lead Source_Olark Chat                                8924 non-null   uint8  \n",
      " 13  Lead Source_Organic Search                            8924 non-null   uint8  \n",
      " 14  Lead Source_Reference                                 8924 non-null   uint8  \n",
      " 15  Lead Source_Referral Sites                            8924 non-null   uint8  \n",
      " 16  Lead Source_Social Media                              8924 non-null   uint8  \n",
      " 17  Lead Source_Welingak Website                          8924 non-null   uint8  \n",
      " 18  Last Activity_Converted to Lead                       8924 non-null   uint8  \n",
      " 19  Last Activity_Email Bounced                           8924 non-null   uint8  \n",
      " 20  Last Activity_Email Link Clicked                      8924 non-null   uint8  \n",
      " 21  Last Activity_Email Opened                            8924 non-null   uint8  \n",
      " 22  Last Activity_Form Submitted on Website               8924 non-null   uint8  \n",
      " 23  Last Activity_Olark Chat Conversation                 8924 non-null   uint8  \n",
      " 24  Last Activity_Page Visited on Website                 8924 non-null   uint8  \n",
      " 25  Last Activity_SMS Sent                                8924 non-null   uint8  \n",
      " 26  Specialization_Banking, Investment And Insurance      8924 non-null   uint8  \n",
      " 27  Specialization_Business Administration                8924 non-null   uint8  \n",
      " 28  Specialization_E-Business                             8924 non-null   uint8  \n",
      " 29  Specialization_E-COMMERCE                             8924 non-null   uint8  \n",
      " 30  Specialization_International Business                 8924 non-null   uint8  \n",
      " 31  Specialization_Management_Specializations             8924 non-null   uint8  \n",
      " 32  Specialization_Media and Advertising                  8924 non-null   uint8  \n",
      " 33  Specialization_Rural and Agribusiness                 8924 non-null   uint8  \n",
      " 34  Specialization_Services Excellence                    8924 non-null   uint8  \n",
      " 35  Specialization_Travel and Tourism                     8924 non-null   uint8  \n",
      " 36  What is your current occupation_Housewife             8924 non-null   uint8  \n",
      " 37  What is your current occupation_Other                 8924 non-null   uint8  \n",
      " 38  What is your current occupation_Student               8924 non-null   uint8  \n",
      " 39  What is your current occupation_Unemployed            8924 non-null   uint8  \n",
      " 40  What is your current occupation_Working Professional  8924 non-null   uint8  \n",
      " 41  Tags_Already a student                                8924 non-null   uint8  \n",
      " 42  Tags_Busy                                             8924 non-null   uint8  \n",
      " 43  Tags_Closed by Horizzon                               8924 non-null   uint8  \n",
      " 44  Tags_Graduation in progress                           8924 non-null   uint8  \n",
      " 45  Tags_Interested  in full time MBA                     8924 non-null   uint8  \n",
      " 46  Tags_Interested in other courses                      8924 non-null   uint8  \n",
      " 47  Tags_Lost to EINS                                     8924 non-null   uint8  \n",
      " 48  Tags_Not doing further education                      8924 non-null   uint8  \n",
      " 49  Tags_Others                                           8924 non-null   uint8  \n",
      " 50  Tags_Ringing                                          8924 non-null   uint8  \n",
      " 51  Tags_Will revert after reading the email              8924 non-null   uint8  \n",
      " 52  Tags_switched off                                     8924 non-null   uint8  \n",
      " 53  City_Other Cities                                     8924 non-null   uint8  \n",
      " 54  City_Other Cities of Maharashtra                      8924 non-null   uint8  \n",
      " 55  City_Other Metro Cities                               8924 non-null   uint8  \n",
      " 56  City_Thane & Outskirts                                8924 non-null   uint8  \n",
      " 57  City_Tier II Cities                                   8924 non-null   uint8  \n",
      " 58  Last Notable Activity_Email Link Clicked              8924 non-null   uint8  \n",
      " 59  Last Notable Activity_Email Opened                    8924 non-null   uint8  \n",
      " 60  Last Notable Activity_Modified                        8924 non-null   uint8  \n",
      " 61  Last Notable Activity_Olark Chat Conversation         8924 non-null   uint8  \n",
      " 62  Last Notable Activity_Page Visited on Website         8924 non-null   uint8  \n",
      " 63  Last Notable Activity_SMS Sent                        8924 non-null   uint8  \n",
      "dtypes: float64(2), int64(4), uint8(58)\n",
      "memory usage: 993.5 KB\n"
     ]
    }
   ],
   "source": [
    "leads_df.info()"
   ]
  },
  {
   "cell_type": "code",
   "execution_count": 110,
   "id": "bf5c274f",
   "metadata": {},
   "outputs": [
    {
     "data": {
      "text/html": [
       "<div>\n",
       "<style scoped>\n",
       "    .dataframe tbody tr th:only-of-type {\n",
       "        vertical-align: middle;\n",
       "    }\n",
       "\n",
       "    .dataframe tbody tr th {\n",
       "        vertical-align: top;\n",
       "    }\n",
       "\n",
       "    .dataframe thead th {\n",
       "        text-align: right;\n",
       "    }\n",
       "</style>\n",
       "<table border=\"1\" class=\"dataframe\">\n",
       "  <thead>\n",
       "    <tr style=\"text-align: right;\">\n",
       "      <th></th>\n",
       "      <th>Do Not Email</th>\n",
       "      <th>Converted</th>\n",
       "      <th>TotalVisits</th>\n",
       "      <th>Total Time Spent on Website</th>\n",
       "      <th>Page Views Per Visit</th>\n",
       "      <th>A free copy of Mastering The Interview</th>\n",
       "      <th>Lead Origin_Landing Page Submission</th>\n",
       "      <th>Lead Origin_Lead Add Form</th>\n",
       "      <th>Lead Origin_Lead Import</th>\n",
       "      <th>Lead Source_Direct Traffic</th>\n",
       "      <th>...</th>\n",
       "      <th>City_Other Cities of Maharashtra</th>\n",
       "      <th>City_Other Metro Cities</th>\n",
       "      <th>City_Thane &amp; Outskirts</th>\n",
       "      <th>City_Tier II Cities</th>\n",
       "      <th>Last Notable Activity_Email Link Clicked</th>\n",
       "      <th>Last Notable Activity_Email Opened</th>\n",
       "      <th>Last Notable Activity_Modified</th>\n",
       "      <th>Last Notable Activity_Olark Chat Conversation</th>\n",
       "      <th>Last Notable Activity_Page Visited on Website</th>\n",
       "      <th>Last Notable Activity_SMS Sent</th>\n",
       "    </tr>\n",
       "  </thead>\n",
       "  <tbody>\n",
       "    <tr>\n",
       "      <th>0</th>\n",
       "      <td>0</td>\n",
       "      <td>0</td>\n",
       "      <td>0.0</td>\n",
       "      <td>0</td>\n",
       "      <td>0.0</td>\n",
       "      <td>0</td>\n",
       "      <td>0</td>\n",
       "      <td>0</td>\n",
       "      <td>0</td>\n",
       "      <td>0</td>\n",
       "      <td>...</td>\n",
       "      <td>0</td>\n",
       "      <td>0</td>\n",
       "      <td>0</td>\n",
       "      <td>0</td>\n",
       "      <td>0</td>\n",
       "      <td>0</td>\n",
       "      <td>1</td>\n",
       "      <td>0</td>\n",
       "      <td>0</td>\n",
       "      <td>0</td>\n",
       "    </tr>\n",
       "    <tr>\n",
       "      <th>1</th>\n",
       "      <td>0</td>\n",
       "      <td>0</td>\n",
       "      <td>5.0</td>\n",
       "      <td>674</td>\n",
       "      <td>2.5</td>\n",
       "      <td>0</td>\n",
       "      <td>0</td>\n",
       "      <td>0</td>\n",
       "      <td>0</td>\n",
       "      <td>0</td>\n",
       "      <td>...</td>\n",
       "      <td>0</td>\n",
       "      <td>0</td>\n",
       "      <td>0</td>\n",
       "      <td>0</td>\n",
       "      <td>0</td>\n",
       "      <td>1</td>\n",
       "      <td>0</td>\n",
       "      <td>0</td>\n",
       "      <td>0</td>\n",
       "      <td>0</td>\n",
       "    </tr>\n",
       "    <tr>\n",
       "      <th>2</th>\n",
       "      <td>0</td>\n",
       "      <td>1</td>\n",
       "      <td>2.0</td>\n",
       "      <td>1532</td>\n",
       "      <td>2.0</td>\n",
       "      <td>1</td>\n",
       "      <td>1</td>\n",
       "      <td>0</td>\n",
       "      <td>0</td>\n",
       "      <td>1</td>\n",
       "      <td>...</td>\n",
       "      <td>0</td>\n",
       "      <td>0</td>\n",
       "      <td>0</td>\n",
       "      <td>0</td>\n",
       "      <td>0</td>\n",
       "      <td>1</td>\n",
       "      <td>0</td>\n",
       "      <td>0</td>\n",
       "      <td>0</td>\n",
       "      <td>0</td>\n",
       "    </tr>\n",
       "    <tr>\n",
       "      <th>3</th>\n",
       "      <td>0</td>\n",
       "      <td>0</td>\n",
       "      <td>1.0</td>\n",
       "      <td>305</td>\n",
       "      <td>1.0</td>\n",
       "      <td>0</td>\n",
       "      <td>1</td>\n",
       "      <td>0</td>\n",
       "      <td>0</td>\n",
       "      <td>1</td>\n",
       "      <td>...</td>\n",
       "      <td>0</td>\n",
       "      <td>0</td>\n",
       "      <td>0</td>\n",
       "      <td>0</td>\n",
       "      <td>0</td>\n",
       "      <td>0</td>\n",
       "      <td>1</td>\n",
       "      <td>0</td>\n",
       "      <td>0</td>\n",
       "      <td>0</td>\n",
       "    </tr>\n",
       "    <tr>\n",
       "      <th>4</th>\n",
       "      <td>0</td>\n",
       "      <td>1</td>\n",
       "      <td>2.0</td>\n",
       "      <td>1428</td>\n",
       "      <td>1.0</td>\n",
       "      <td>0</td>\n",
       "      <td>1</td>\n",
       "      <td>0</td>\n",
       "      <td>0</td>\n",
       "      <td>0</td>\n",
       "      <td>...</td>\n",
       "      <td>0</td>\n",
       "      <td>0</td>\n",
       "      <td>0</td>\n",
       "      <td>0</td>\n",
       "      <td>0</td>\n",
       "      <td>0</td>\n",
       "      <td>1</td>\n",
       "      <td>0</td>\n",
       "      <td>0</td>\n",
       "      <td>0</td>\n",
       "    </tr>\n",
       "  </tbody>\n",
       "</table>\n",
       "<p>5 rows × 64 columns</p>\n",
       "</div>"
      ],
      "text/plain": [
       "   Do Not Email  Converted  TotalVisits  Total Time Spent on Website  \\\n",
       "0             0          0          0.0                            0   \n",
       "1             0          0          5.0                          674   \n",
       "2             0          1          2.0                         1532   \n",
       "3             0          0          1.0                          305   \n",
       "4             0          1          2.0                         1428   \n",
       "\n",
       "   Page Views Per Visit  A free copy of Mastering The Interview  \\\n",
       "0                   0.0                                       0   \n",
       "1                   2.5                                       0   \n",
       "2                   2.0                                       1   \n",
       "3                   1.0                                       0   \n",
       "4                   1.0                                       0   \n",
       "\n",
       "   Lead Origin_Landing Page Submission  Lead Origin_Lead Add Form  \\\n",
       "0                                    0                          0   \n",
       "1                                    0                          0   \n",
       "2                                    1                          0   \n",
       "3                                    1                          0   \n",
       "4                                    1                          0   \n",
       "\n",
       "   Lead Origin_Lead Import  Lead Source_Direct Traffic  ...  \\\n",
       "0                        0                           0  ...   \n",
       "1                        0                           0  ...   \n",
       "2                        0                           1  ...   \n",
       "3                        0                           1  ...   \n",
       "4                        0                           0  ...   \n",
       "\n",
       "   City_Other Cities of Maharashtra  City_Other Metro Cities  \\\n",
       "0                                 0                        0   \n",
       "1                                 0                        0   \n",
       "2                                 0                        0   \n",
       "3                                 0                        0   \n",
       "4                                 0                        0   \n",
       "\n",
       "   City_Thane & Outskirts  City_Tier II Cities  \\\n",
       "0                       0                    0   \n",
       "1                       0                    0   \n",
       "2                       0                    0   \n",
       "3                       0                    0   \n",
       "4                       0                    0   \n",
       "\n",
       "   Last Notable Activity_Email Link Clicked  \\\n",
       "0                                         0   \n",
       "1                                         0   \n",
       "2                                         0   \n",
       "3                                         0   \n",
       "4                                         0   \n",
       "\n",
       "   Last Notable Activity_Email Opened  Last Notable Activity_Modified  \\\n",
       "0                                   0                               1   \n",
       "1                                   1                               0   \n",
       "2                                   1                               0   \n",
       "3                                   0                               1   \n",
       "4                                   0                               1   \n",
       "\n",
       "   Last Notable Activity_Olark Chat Conversation  \\\n",
       "0                                              0   \n",
       "1                                              0   \n",
       "2                                              0   \n",
       "3                                              0   \n",
       "4                                              0   \n",
       "\n",
       "   Last Notable Activity_Page Visited on Website  \\\n",
       "0                                              0   \n",
       "1                                              0   \n",
       "2                                              0   \n",
       "3                                              0   \n",
       "4                                              0   \n",
       "\n",
       "   Last Notable Activity_SMS Sent  \n",
       "0                               0  \n",
       "1                               0  \n",
       "2                               0  \n",
       "3                               0  \n",
       "4                               0  \n",
       "\n",
       "[5 rows x 64 columns]"
      ]
     },
     "execution_count": 110,
     "metadata": {},
     "output_type": "execute_result"
    }
   ],
   "source": [
    "leads_df.head()"
   ]
  },
  {
   "cell_type": "markdown",
   "id": "95d880e1",
   "metadata": {},
   "source": [
    "__<div style=\"background-color:#ADD8E6; color:red ;font-size:15px; height: 25px;\">Actions</div>__\n",
    "\n",
    "  - <font color='#800000'>'Do Not Email'  & 'A free copy of Mastering The Interview' has Yes/No values </font>\n",
    "  - <font color='#800000'>Create a dummy variables for Lead Origin and drop the first one</font>\n",
    "  - <font color='#800000'>reate a dummy variables for Lead Source and drop the Others variable </font>\n",
    "  - <font color='#800000'>Create a dummy variables for Last Activity and drop the Others variable </font>\n",
    "  - <font color='#800000'>Create a dummy variables for Specialization and drop the Unspecified variable </font>\n",
    "  - <font color='#800000'>Create a dummy variables for What is your current occupation and drop the first one</font>\n",
    "  - <font color='#800000'>Create a dummy variables for Tags and drop the Unspecified variable </font>\n",
    "  - <font color='#800000'>Create a dummy variables for City and drop the first one</font>\n",
    "  - <font color='#800000'>Create a dummy variables for Last Notable Activity and drop the Others variable </font>\n",
    "  - <font color='#800000'>Drop all the Object type columns from the dataframe</font>\n"
   ]
  },
  {
   "cell_type": "markdown",
   "id": "0c4224cb",
   "metadata": {},
   "source": [
    "# <font color=#00008B>6. Logistic Regression Model Building</font>"
   ]
  },
  {
   "cell_type": "markdown",
   "id": "d3c0f5e2",
   "metadata": {},
   "source": [
    "## <font color='blue'>6.1. Train-Test Split</font> "
   ]
  },
  {
   "cell_type": "code",
   "execution_count": 111,
   "id": "f0963525",
   "metadata": {},
   "outputs": [],
   "source": [
    "from sklearn.model_selection import train_test_split\n",
    "\n",
    "# Putting response variable to y\n",
    "y = leads_df['Converted']\n",
    "y.head()\n",
    "X=leads_df.drop('Converted', axis=1)"
   ]
  },
  {
   "cell_type": "code",
   "execution_count": 112,
   "id": "d6745930",
   "metadata": {},
   "outputs": [],
   "source": [
    "# Splitting the data into train (70%) and test(30%)\n",
    "X_train, X_test, y_train, y_test = train_test_split(X, y, train_size=0.7, test_size=0.3, random_state=100)"
   ]
  },
  {
   "cell_type": "code",
   "execution_count": 113,
   "id": "224bb19d",
   "metadata": {},
   "outputs": [
    {
     "name": "stdout",
     "output_type": "stream",
     "text": [
      "(6246, 63) (2678, 63)\n"
     ]
    }
   ],
   "source": [
    "print(X_train.shape,X_test.shape)"
   ]
  },
  {
   "cell_type": "markdown",
   "id": "7a47cdec",
   "metadata": {},
   "source": [
    "## <font color='blue'>6.2. Data Scaling</font> "
   ]
  },
  {
   "cell_type": "code",
   "execution_count": 114,
   "id": "0ccd3371",
   "metadata": {},
   "outputs": [
    {
     "data": {
      "text/html": [
       "<div>\n",
       "<style scoped>\n",
       "    .dataframe tbody tr th:only-of-type {\n",
       "        vertical-align: middle;\n",
       "    }\n",
       "\n",
       "    .dataframe tbody tr th {\n",
       "        vertical-align: top;\n",
       "    }\n",
       "\n",
       "    .dataframe thead th {\n",
       "        text-align: right;\n",
       "    }\n",
       "</style>\n",
       "<table border=\"1\" class=\"dataframe\">\n",
       "  <thead>\n",
       "    <tr style=\"text-align: right;\">\n",
       "      <th></th>\n",
       "      <th>Do Not Email</th>\n",
       "      <th>TotalVisits</th>\n",
       "      <th>Total Time Spent on Website</th>\n",
       "      <th>Page Views Per Visit</th>\n",
       "      <th>A free copy of Mastering The Interview</th>\n",
       "      <th>Lead Origin_Landing Page Submission</th>\n",
       "      <th>Lead Origin_Lead Add Form</th>\n",
       "      <th>Lead Origin_Lead Import</th>\n",
       "      <th>Lead Source_Direct Traffic</th>\n",
       "      <th>Lead Source_Google</th>\n",
       "      <th>...</th>\n",
       "      <th>City_Other Cities of Maharashtra</th>\n",
       "      <th>City_Other Metro Cities</th>\n",
       "      <th>City_Thane &amp; Outskirts</th>\n",
       "      <th>City_Tier II Cities</th>\n",
       "      <th>Last Notable Activity_Email Link Clicked</th>\n",
       "      <th>Last Notable Activity_Email Opened</th>\n",
       "      <th>Last Notable Activity_Modified</th>\n",
       "      <th>Last Notable Activity_Olark Chat Conversation</th>\n",
       "      <th>Last Notable Activity_Page Visited on Website</th>\n",
       "      <th>Last Notable Activity_SMS Sent</th>\n",
       "    </tr>\n",
       "  </thead>\n",
       "  <tbody>\n",
       "    <tr>\n",
       "      <th>6676</th>\n",
       "      <td>-0.285584</td>\n",
       "      <td>-0.049636</td>\n",
       "      <td>1.395668</td>\n",
       "      <td>0.395289</td>\n",
       "      <td>-0.669212</td>\n",
       "      <td>1</td>\n",
       "      <td>0</td>\n",
       "      <td>0</td>\n",
       "      <td>1</td>\n",
       "      <td>0</td>\n",
       "      <td>...</td>\n",
       "      <td>0</td>\n",
       "      <td>0</td>\n",
       "      <td>1</td>\n",
       "      <td>0</td>\n",
       "      <td>0</td>\n",
       "      <td>1</td>\n",
       "      <td>0</td>\n",
       "      <td>0</td>\n",
       "      <td>0</td>\n",
       "      <td>0</td>\n",
       "    </tr>\n",
       "    <tr>\n",
       "      <th>6138</th>\n",
       "      <td>-0.285584</td>\n",
       "      <td>0.297929</td>\n",
       "      <td>0.609686</td>\n",
       "      <td>0.926758</td>\n",
       "      <td>-0.669212</td>\n",
       "      <td>1</td>\n",
       "      <td>0</td>\n",
       "      <td>0</td>\n",
       "      <td>0</td>\n",
       "      <td>1</td>\n",
       "      <td>...</td>\n",
       "      <td>0</td>\n",
       "      <td>0</td>\n",
       "      <td>0</td>\n",
       "      <td>0</td>\n",
       "      <td>0</td>\n",
       "      <td>0</td>\n",
       "      <td>0</td>\n",
       "      <td>0</td>\n",
       "      <td>0</td>\n",
       "      <td>1</td>\n",
       "    </tr>\n",
       "    <tr>\n",
       "      <th>8650</th>\n",
       "      <td>-0.285584</td>\n",
       "      <td>-0.049636</td>\n",
       "      <td>1.178657</td>\n",
       "      <td>0.395289</td>\n",
       "      <td>1.494296</td>\n",
       "      <td>1</td>\n",
       "      <td>0</td>\n",
       "      <td>0</td>\n",
       "      <td>1</td>\n",
       "      <td>0</td>\n",
       "      <td>...</td>\n",
       "      <td>0</td>\n",
       "      <td>0</td>\n",
       "      <td>1</td>\n",
       "      <td>0</td>\n",
       "      <td>0</td>\n",
       "      <td>1</td>\n",
       "      <td>0</td>\n",
       "      <td>0</td>\n",
       "      <td>0</td>\n",
       "      <td>0</td>\n",
       "    </tr>\n",
       "    <tr>\n",
       "      <th>3423</th>\n",
       "      <td>-0.285584</td>\n",
       "      <td>-1.092332</td>\n",
       "      <td>-0.878390</td>\n",
       "      <td>-1.199117</td>\n",
       "      <td>-0.669212</td>\n",
       "      <td>0</td>\n",
       "      <td>0</td>\n",
       "      <td>0</td>\n",
       "      <td>0</td>\n",
       "      <td>0</td>\n",
       "      <td>...</td>\n",
       "      <td>0</td>\n",
       "      <td>0</td>\n",
       "      <td>0</td>\n",
       "      <td>0</td>\n",
       "      <td>0</td>\n",
       "      <td>0</td>\n",
       "      <td>1</td>\n",
       "      <td>0</td>\n",
       "      <td>0</td>\n",
       "      <td>0</td>\n",
       "    </tr>\n",
       "    <tr>\n",
       "      <th>6552</th>\n",
       "      <td>-0.285584</td>\n",
       "      <td>-1.092332</td>\n",
       "      <td>-0.878390</td>\n",
       "      <td>-1.199117</td>\n",
       "      <td>-0.669212</td>\n",
       "      <td>0</td>\n",
       "      <td>0</td>\n",
       "      <td>0</td>\n",
       "      <td>0</td>\n",
       "      <td>0</td>\n",
       "      <td>...</td>\n",
       "      <td>0</td>\n",
       "      <td>0</td>\n",
       "      <td>0</td>\n",
       "      <td>0</td>\n",
       "      <td>0</td>\n",
       "      <td>1</td>\n",
       "      <td>0</td>\n",
       "      <td>0</td>\n",
       "      <td>0</td>\n",
       "      <td>0</td>\n",
       "    </tr>\n",
       "  </tbody>\n",
       "</table>\n",
       "<p>5 rows × 63 columns</p>\n",
       "</div>"
      ],
      "text/plain": [
       "      Do Not Email  TotalVisits  Total Time Spent on Website  \\\n",
       "6676     -0.285584    -0.049636                     1.395668   \n",
       "6138     -0.285584     0.297929                     0.609686   \n",
       "8650     -0.285584    -0.049636                     1.178657   \n",
       "3423     -0.285584    -1.092332                    -0.878390   \n",
       "6552     -0.285584    -1.092332                    -0.878390   \n",
       "\n",
       "      Page Views Per Visit  A free copy of Mastering The Interview  \\\n",
       "6676              0.395289                               -0.669212   \n",
       "6138              0.926758                               -0.669212   \n",
       "8650              0.395289                                1.494296   \n",
       "3423             -1.199117                               -0.669212   \n",
       "6552             -1.199117                               -0.669212   \n",
       "\n",
       "      Lead Origin_Landing Page Submission  Lead Origin_Lead Add Form  \\\n",
       "6676                                    1                          0   \n",
       "6138                                    1                          0   \n",
       "8650                                    1                          0   \n",
       "3423                                    0                          0   \n",
       "6552                                    0                          0   \n",
       "\n",
       "      Lead Origin_Lead Import  Lead Source_Direct Traffic  Lead Source_Google  \\\n",
       "6676                        0                           1                   0   \n",
       "6138                        0                           0                   1   \n",
       "8650                        0                           1                   0   \n",
       "3423                        0                           0                   0   \n",
       "6552                        0                           0                   0   \n",
       "\n",
       "      ...  City_Other Cities of Maharashtra  City_Other Metro Cities  \\\n",
       "6676  ...                                 0                        0   \n",
       "6138  ...                                 0                        0   \n",
       "8650  ...                                 0                        0   \n",
       "3423  ...                                 0                        0   \n",
       "6552  ...                                 0                        0   \n",
       "\n",
       "      City_Thane & Outskirts  City_Tier II Cities  \\\n",
       "6676                       1                    0   \n",
       "6138                       0                    0   \n",
       "8650                       1                    0   \n",
       "3423                       0                    0   \n",
       "6552                       0                    0   \n",
       "\n",
       "      Last Notable Activity_Email Link Clicked  \\\n",
       "6676                                         0   \n",
       "6138                                         0   \n",
       "8650                                         0   \n",
       "3423                                         0   \n",
       "6552                                         0   \n",
       "\n",
       "      Last Notable Activity_Email Opened  Last Notable Activity_Modified  \\\n",
       "6676                                   1                               0   \n",
       "6138                                   0                               0   \n",
       "8650                                   1                               0   \n",
       "3423                                   0                               1   \n",
       "6552                                   1                               0   \n",
       "\n",
       "      Last Notable Activity_Olark Chat Conversation  \\\n",
       "6676                                              0   \n",
       "6138                                              0   \n",
       "8650                                              0   \n",
       "3423                                              0   \n",
       "6552                                              0   \n",
       "\n",
       "      Last Notable Activity_Page Visited on Website  \\\n",
       "6676                                              0   \n",
       "6138                                              0   \n",
       "8650                                              0   \n",
       "3423                                              0   \n",
       "6552                                              0   \n",
       "\n",
       "      Last Notable Activity_SMS Sent  \n",
       "6676                               0  \n",
       "6138                               1  \n",
       "8650                               0  \n",
       "3423                               0  \n",
       "6552                               0  \n",
       "\n",
       "[5 rows x 63 columns]"
      ]
     },
     "execution_count": 114,
     "metadata": {},
     "output_type": "execute_result"
    }
   ],
   "source": [
    "# scaling the data using StandardScaler\n",
    "from sklearn.preprocessing import StandardScaler\n",
    "\n",
    "scaler = StandardScaler()\n",
    "num_cols=X_train.select_dtypes(include=['float64', 'int64']).columns\n",
    "X_train[num_cols] = scaler.fit_transform(X_train[num_cols])\n",
    "X_train.head()"
   ]
  },
  {
   "cell_type": "markdown",
   "id": "793eb1be",
   "metadata": {},
   "source": [
    "## <font color='blue'>6.3. Model Building using Stats Model & RFE</font> "
   ]
  },
  {
   "cell_type": "code",
   "execution_count": 115,
   "id": "97c2ede4",
   "metadata": {},
   "outputs": [],
   "source": [
    "import statsmodels.api as sm\n",
    "from sklearn.linear_model import LogisticRegression\n",
    "from sklearn.feature_selection import RFE\n",
    "\n",
    "logistic_reg = LogisticRegression()\n",
    "# running RFE with 15 variables as output\n",
    "rfe = RFE(logistic_reg,n_features_to_select=15)             \n",
    "rfe = rfe.fit(X_train, y_train)"
   ]
  },
  {
   "cell_type": "code",
   "execution_count": 116,
   "id": "cf8a6bf3",
   "metadata": {},
   "outputs": [
    {
     "data": {
      "text/plain": [
       "array([False, False, False, False, False, False, False, False, False,\n",
       "       False, False, False, False, False, False, False,  True, False,\n",
       "        True, False, False, False, False, False,  True, False, False,\n",
       "       False, False, False, False, False, False, False, False, False,\n",
       "       False, False, False, False,  True, False,  True, False,  True,\n",
       "        True,  True,  True,  True,  True,  True,  True, False, False,\n",
       "       False, False, False, False, False,  True,  True, False, False])"
      ]
     },
     "execution_count": 116,
     "metadata": {},
     "output_type": "execute_result"
    }
   ],
   "source": [
    "rfe.support_"
   ]
  },
  {
   "cell_type": "code",
   "execution_count": 117,
   "id": "643af843",
   "metadata": {},
   "outputs": [
    {
     "data": {
      "text/plain": [
       "Index(['Lead Source_Welingak Website', 'Last Activity_Email Bounced',\n",
       "       'Last Activity_SMS Sent', 'Tags_Already a student',\n",
       "       'Tags_Closed by Horizzon', 'Tags_Interested  in full time MBA',\n",
       "       'Tags_Interested in other courses', 'Tags_Lost to EINS',\n",
       "       'Tags_Not doing further education', 'Tags_Others', 'Tags_Ringing',\n",
       "       'Tags_Will revert after reading the email', 'Tags_switched off',\n",
       "       'Last Notable Activity_Modified',\n",
       "       'Last Notable Activity_Olark Chat Conversation'],\n",
       "      dtype='object')"
      ]
     },
     "execution_count": 117,
     "metadata": {},
     "output_type": "execute_result"
    }
   ],
   "source": [
    "# use the columns select by RFE in the module\n",
    "col = X_train.columns[rfe.support_]\n",
    "col"
   ]
  },
  {
   "cell_type": "markdown",
   "id": "20c5b8ad",
   "metadata": {},
   "source": [
    "### <font color='darkgreen'>6.3.1 Model 1 </font>  "
   ]
  },
  {
   "cell_type": "code",
   "execution_count": 118,
   "id": "2b07c4c7",
   "metadata": {},
   "outputs": [
    {
     "data": {
      "text/html": [
       "<table class=\"simpletable\">\n",
       "<caption>Generalized Linear Model Regression Results</caption>\n",
       "<tr>\n",
       "  <th>Dep. Variable:</th>       <td>Converted</td>    <th>  No. Observations:  </th>  <td>  6246</td> \n",
       "</tr>\n",
       "<tr>\n",
       "  <th>Model:</th>                  <td>GLM</td>       <th>  Df Residuals:      </th>  <td>  6230</td> \n",
       "</tr>\n",
       "<tr>\n",
       "  <th>Model Family:</th>        <td>Binomial</td>     <th>  Df Model:          </th>  <td>    15</td> \n",
       "</tr>\n",
       "<tr>\n",
       "  <th>Link Function:</th>         <td>Logit</td>      <th>  Scale:             </th> <td>  1.0000</td>\n",
       "</tr>\n",
       "<tr>\n",
       "  <th>Method:</th>                <td>IRLS</td>       <th>  Log-Likelihood:    </th> <td> -1415.2</td>\n",
       "</tr>\n",
       "<tr>\n",
       "  <th>Date:</th>            <td>Mon, 14 Aug 2023</td> <th>  Deviance:          </th> <td>  2830.5</td>\n",
       "</tr>\n",
       "<tr>\n",
       "  <th>Time:</th>                <td>12:40:52</td>     <th>  Pearson chi2:      </th> <td>1.49e+04</td>\n",
       "</tr>\n",
       "<tr>\n",
       "  <th>No. Iterations:</th>          <td>8</td>        <th>  Pseudo R-squ. (CS):</th>  <td>0.5832</td> \n",
       "</tr>\n",
       "<tr>\n",
       "  <th>Covariance Type:</th>     <td>nonrobust</td>    <th>                     </th>     <td> </td>   \n",
       "</tr>\n",
       "</table>\n",
       "<table class=\"simpletable\">\n",
       "<tr>\n",
       "                        <td></td>                           <th>coef</th>     <th>std err</th>      <th>z</th>      <th>P>|z|</th>  <th>[0.025</th>    <th>0.975]</th>  \n",
       "</tr>\n",
       "<tr>\n",
       "  <th>const</th>                                         <td>   -1.1896</td> <td>    0.073</td> <td>  -16.390</td> <td> 0.000</td> <td>   -1.332</td> <td>   -1.047</td>\n",
       "</tr>\n",
       "<tr>\n",
       "  <th>Lead Source_Welingak Website</th>                  <td>    4.0442</td> <td>    0.748</td> <td>    5.408</td> <td> 0.000</td> <td>    2.578</td> <td>    5.510</td>\n",
       "</tr>\n",
       "<tr>\n",
       "  <th>Last Activity_Email Bounced</th>                   <td>   -1.2689</td> <td>    0.528</td> <td>   -2.402</td> <td> 0.016</td> <td>   -2.304</td> <td>   -0.233</td>\n",
       "</tr>\n",
       "<tr>\n",
       "  <th>Last Activity_SMS Sent</th>                        <td>    2.0815</td> <td>    0.108</td> <td>   19.266</td> <td> 0.000</td> <td>    1.870</td> <td>    2.293</td>\n",
       "</tr>\n",
       "<tr>\n",
       "  <th>Tags_Already a student</th>                        <td>   -2.8884</td> <td>    0.585</td> <td>   -4.935</td> <td> 0.000</td> <td>   -4.036</td> <td>   -1.741</td>\n",
       "</tr>\n",
       "<tr>\n",
       "  <th>Tags_Closed by Horizzon</th>                       <td>    6.9793</td> <td>    0.721</td> <td>    9.680</td> <td> 0.000</td> <td>    5.566</td> <td>    8.392</td>\n",
       "</tr>\n",
       "<tr>\n",
       "  <th>Tags_Interested  in full time MBA</th>             <td>   -1.5293</td> <td>    0.598</td> <td>   -2.559</td> <td> 0.010</td> <td>   -2.701</td> <td>   -0.358</td>\n",
       "</tr>\n",
       "<tr>\n",
       "  <th>Tags_Interested in other courses</th>              <td>   -1.8636</td> <td>    0.376</td> <td>   -4.961</td> <td> 0.000</td> <td>   -2.600</td> <td>   -1.127</td>\n",
       "</tr>\n",
       "<tr>\n",
       "  <th>Tags_Lost to EINS</th>                             <td>    5.8212</td> <td>    0.526</td> <td>   11.076</td> <td> 0.000</td> <td>    4.791</td> <td>    6.851</td>\n",
       "</tr>\n",
       "<tr>\n",
       "  <th>Tags_Not doing further education</th>              <td>   -2.7433</td> <td>    1.027</td> <td>   -2.671</td> <td> 0.008</td> <td>   -4.757</td> <td>   -0.730</td>\n",
       "</tr>\n",
       "<tr>\n",
       "  <th>Tags_Others</th>                                   <td>   -2.2543</td> <td>    0.312</td> <td>   -7.224</td> <td> 0.000</td> <td>   -2.866</td> <td>   -1.643</td>\n",
       "</tr>\n",
       "<tr>\n",
       "  <th>Tags_Ringing</th>                                  <td>   -3.5160</td> <td>    0.238</td> <td>  -14.787</td> <td> 0.000</td> <td>   -3.982</td> <td>   -3.050</td>\n",
       "</tr>\n",
       "<tr>\n",
       "  <th>Tags_Will revert after reading the email</th>      <td>    4.6530</td> <td>    0.179</td> <td>   26.025</td> <td> 0.000</td> <td>    4.303</td> <td>    5.003</td>\n",
       "</tr>\n",
       "<tr>\n",
       "  <th>Tags_switched off</th>                             <td>   -4.3312</td> <td>    0.722</td> <td>   -6.003</td> <td> 0.000</td> <td>   -5.745</td> <td>   -2.917</td>\n",
       "</tr>\n",
       "<tr>\n",
       "  <th>Last Notable Activity_Modified</th>                <td>   -1.8076</td> <td>    0.121</td> <td>  -14.992</td> <td> 0.000</td> <td>   -2.044</td> <td>   -1.571</td>\n",
       "</tr>\n",
       "<tr>\n",
       "  <th>Last Notable Activity_Olark Chat Conversation</th> <td>   -1.5081</td> <td>    0.399</td> <td>   -3.781</td> <td> 0.000</td> <td>   -2.290</td> <td>   -0.726</td>\n",
       "</tr>\n",
       "</table>"
      ],
      "text/plain": [
       "<class 'statsmodels.iolib.summary.Summary'>\n",
       "\"\"\"\n",
       "                 Generalized Linear Model Regression Results                  \n",
       "==============================================================================\n",
       "Dep. Variable:              Converted   No. Observations:                 6246\n",
       "Model:                            GLM   Df Residuals:                     6230\n",
       "Model Family:                Binomial   Df Model:                           15\n",
       "Link Function:                  Logit   Scale:                          1.0000\n",
       "Method:                          IRLS   Log-Likelihood:                -1415.2\n",
       "Date:                Mon, 14 Aug 2023   Deviance:                       2830.5\n",
       "Time:                        12:40:52   Pearson chi2:                 1.49e+04\n",
       "No. Iterations:                     8   Pseudo R-squ. (CS):             0.5832\n",
       "Covariance Type:            nonrobust                                         \n",
       "=================================================================================================================\n",
       "                                                    coef    std err          z      P>|z|      [0.025      0.975]\n",
       "-----------------------------------------------------------------------------------------------------------------\n",
       "const                                            -1.1896      0.073    -16.390      0.000      -1.332      -1.047\n",
       "Lead Source_Welingak Website                      4.0442      0.748      5.408      0.000       2.578       5.510\n",
       "Last Activity_Email Bounced                      -1.2689      0.528     -2.402      0.016      -2.304      -0.233\n",
       "Last Activity_SMS Sent                            2.0815      0.108     19.266      0.000       1.870       2.293\n",
       "Tags_Already a student                           -2.8884      0.585     -4.935      0.000      -4.036      -1.741\n",
       "Tags_Closed by Horizzon                           6.9793      0.721      9.680      0.000       5.566       8.392\n",
       "Tags_Interested  in full time MBA                -1.5293      0.598     -2.559      0.010      -2.701      -0.358\n",
       "Tags_Interested in other courses                 -1.8636      0.376     -4.961      0.000      -2.600      -1.127\n",
       "Tags_Lost to EINS                                 5.8212      0.526     11.076      0.000       4.791       6.851\n",
       "Tags_Not doing further education                 -2.7433      1.027     -2.671      0.008      -4.757      -0.730\n",
       "Tags_Others                                      -2.2543      0.312     -7.224      0.000      -2.866      -1.643\n",
       "Tags_Ringing                                     -3.5160      0.238    -14.787      0.000      -3.982      -3.050\n",
       "Tags_Will revert after reading the email          4.6530      0.179     26.025      0.000       4.303       5.003\n",
       "Tags_switched off                                -4.3312      0.722     -6.003      0.000      -5.745      -2.917\n",
       "Last Notable Activity_Modified                   -1.8076      0.121    -14.992      0.000      -2.044      -1.571\n",
       "Last Notable Activity_Olark Chat Conversation    -1.5081      0.399     -3.781      0.000      -2.290      -0.726\n",
       "=================================================================================================================\n",
       "\"\"\""
      ]
     },
     "execution_count": 118,
     "metadata": {},
     "output_type": "execute_result"
    }
   ],
   "source": [
    "# Building the Model #1\n",
    "\n",
    "X_train_sm = sm.add_constant(X_train[col])\n",
    "logRegm1 = sm.GLM(y_train,X_train_sm, family = sm.families.Binomial())\n",
    "res = logRegm1.fit()\n",
    "res.summary()"
   ]
  },
  {
   "cell_type": "markdown",
   "id": "cf8ed4bd",
   "metadata": {},
   "source": [
    "__<div style=\"background-color:#ADD8E6; color:red ;font-size:15px; height: 25px;\">Inferences</div>__\n",
    "\n",
    "  - <font color='#800000'>The P Value for Last Activity_Email Bounced is high, so we can drop it.</font>\n"
   ]
  },
  {
   "cell_type": "code",
   "execution_count": 119,
   "id": "d83fab31",
   "metadata": {},
   "outputs": [],
   "source": [
    "# The P Value for Last Activity_Email Bounced is high, so we can drop it.\n",
    "col = col.drop('Last Activity_Email Bounced',1)"
   ]
  },
  {
   "cell_type": "markdown",
   "id": "7b6eaaa9",
   "metadata": {},
   "source": [
    "### <font color='darkgreen'>6.3.2 Model 2 </font>  "
   ]
  },
  {
   "cell_type": "code",
   "execution_count": 120,
   "id": "b85574f0",
   "metadata": {},
   "outputs": [
    {
     "data": {
      "text/html": [
       "<table class=\"simpletable\">\n",
       "<caption>Generalized Linear Model Regression Results</caption>\n",
       "<tr>\n",
       "  <th>Dep. Variable:</th>       <td>Converted</td>    <th>  No. Observations:  </th>  <td>  6246</td> \n",
       "</tr>\n",
       "<tr>\n",
       "  <th>Model:</th>                  <td>GLM</td>       <th>  Df Residuals:      </th>  <td>  6231</td> \n",
       "</tr>\n",
       "<tr>\n",
       "  <th>Model Family:</th>        <td>Binomial</td>     <th>  Df Model:          </th>  <td>    14</td> \n",
       "</tr>\n",
       "<tr>\n",
       "  <th>Link Function:</th>         <td>Logit</td>      <th>  Scale:             </th> <td>  1.0000</td>\n",
       "</tr>\n",
       "<tr>\n",
       "  <th>Method:</th>                <td>IRLS</td>       <th>  Log-Likelihood:    </th> <td> -1418.9</td>\n",
       "</tr>\n",
       "<tr>\n",
       "  <th>Date:</th>            <td>Mon, 14 Aug 2023</td> <th>  Deviance:          </th> <td>  2837.9</td>\n",
       "</tr>\n",
       "<tr>\n",
       "  <th>Time:</th>                <td>12:40:52</td>     <th>  Pearson chi2:      </th> <td>1.12e+04</td>\n",
       "</tr>\n",
       "<tr>\n",
       "  <th>No. Iterations:</th>          <td>8</td>        <th>  Pseudo R-squ. (CS):</th>  <td>0.5827</td> \n",
       "</tr>\n",
       "<tr>\n",
       "  <th>Covariance Type:</th>     <td>nonrobust</td>    <th>                     </th>     <td> </td>   \n",
       "</tr>\n",
       "</table>\n",
       "<table class=\"simpletable\">\n",
       "<tr>\n",
       "                        <td></td>                           <th>coef</th>     <th>std err</th>      <th>z</th>      <th>P>|z|</th>  <th>[0.025</th>    <th>0.975]</th>  \n",
       "</tr>\n",
       "<tr>\n",
       "  <th>const</th>                                         <td>   -1.2094</td> <td>    0.072</td> <td>  -16.693</td> <td> 0.000</td> <td>   -1.351</td> <td>   -1.067</td>\n",
       "</tr>\n",
       "<tr>\n",
       "  <th>Lead Source_Welingak Website</th>                  <td>    4.0691</td> <td>    0.749</td> <td>    5.432</td> <td> 0.000</td> <td>    2.601</td> <td>    5.537</td>\n",
       "</tr>\n",
       "<tr>\n",
       "  <th>Last Activity_SMS Sent</th>                        <td>    2.1122</td> <td>    0.108</td> <td>   19.584</td> <td> 0.000</td> <td>    1.901</td> <td>    2.324</td>\n",
       "</tr>\n",
       "<tr>\n",
       "  <th>Tags_Already a student</th>                        <td>   -2.8926</td> <td>    0.585</td> <td>   -4.943</td> <td> 0.000</td> <td>   -4.040</td> <td>   -1.746</td>\n",
       "</tr>\n",
       "<tr>\n",
       "  <th>Tags_Closed by Horizzon</th>                       <td>    7.0041</td> <td>    0.721</td> <td>    9.719</td> <td> 0.000</td> <td>    5.592</td> <td>    8.417</td>\n",
       "</tr>\n",
       "<tr>\n",
       "  <th>Tags_Interested  in full time MBA</th>             <td>   -1.5132</td> <td>    0.597</td> <td>   -2.533</td> <td> 0.011</td> <td>   -2.684</td> <td>   -0.342</td>\n",
       "</tr>\n",
       "<tr>\n",
       "  <th>Tags_Interested in other courses</th>              <td>   -1.8535</td> <td>    0.376</td> <td>   -4.930</td> <td> 0.000</td> <td>   -2.590</td> <td>   -1.117</td>\n",
       "</tr>\n",
       "<tr>\n",
       "  <th>Tags_Lost to EINS</th>                             <td>    5.8415</td> <td>    0.524</td> <td>   11.138</td> <td> 0.000</td> <td>    4.814</td> <td>    6.869</td>\n",
       "</tr>\n",
       "<tr>\n",
       "  <th>Tags_Not doing further education</th>              <td>   -2.8680</td> <td>    1.023</td> <td>   -2.804</td> <td> 0.005</td> <td>   -4.873</td> <td>   -0.863</td>\n",
       "</tr>\n",
       "<tr>\n",
       "  <th>Tags_Others</th>                                   <td>   -2.2658</td> <td>    0.312</td> <td>   -7.262</td> <td> 0.000</td> <td>   -2.877</td> <td>   -1.654</td>\n",
       "</tr>\n",
       "<tr>\n",
       "  <th>Tags_Ringing</th>                                  <td>   -3.5213</td> <td>    0.238</td> <td>  -14.797</td> <td> 0.000</td> <td>   -3.988</td> <td>   -3.055</td>\n",
       "</tr>\n",
       "<tr>\n",
       "  <th>Tags_Will revert after reading the email</th>      <td>    4.6653</td> <td>    0.178</td> <td>   26.153</td> <td> 0.000</td> <td>    4.316</td> <td>    5.015</td>\n",
       "</tr>\n",
       "<tr>\n",
       "  <th>Tags_switched off</th>                             <td>   -4.3383</td> <td>    0.722</td> <td>   -6.012</td> <td> 0.000</td> <td>   -5.753</td> <td>   -2.924</td>\n",
       "</tr>\n",
       "<tr>\n",
       "  <th>Last Notable Activity_Modified</th>                <td>   -1.8455</td> <td>    0.120</td> <td>  -15.412</td> <td> 0.000</td> <td>   -2.080</td> <td>   -1.611</td>\n",
       "</tr>\n",
       "<tr>\n",
       "  <th>Last Notable Activity_Olark Chat Conversation</th> <td>   -1.4901</td> <td>    0.399</td> <td>   -3.731</td> <td> 0.000</td> <td>   -2.273</td> <td>   -0.707</td>\n",
       "</tr>\n",
       "</table>"
      ],
      "text/plain": [
       "<class 'statsmodels.iolib.summary.Summary'>\n",
       "\"\"\"\n",
       "                 Generalized Linear Model Regression Results                  \n",
       "==============================================================================\n",
       "Dep. Variable:              Converted   No. Observations:                 6246\n",
       "Model:                            GLM   Df Residuals:                     6231\n",
       "Model Family:                Binomial   Df Model:                           14\n",
       "Link Function:                  Logit   Scale:                          1.0000\n",
       "Method:                          IRLS   Log-Likelihood:                -1418.9\n",
       "Date:                Mon, 14 Aug 2023   Deviance:                       2837.9\n",
       "Time:                        12:40:52   Pearson chi2:                 1.12e+04\n",
       "No. Iterations:                     8   Pseudo R-squ. (CS):             0.5827\n",
       "Covariance Type:            nonrobust                                         \n",
       "=================================================================================================================\n",
       "                                                    coef    std err          z      P>|z|      [0.025      0.975]\n",
       "-----------------------------------------------------------------------------------------------------------------\n",
       "const                                            -1.2094      0.072    -16.693      0.000      -1.351      -1.067\n",
       "Lead Source_Welingak Website                      4.0691      0.749      5.432      0.000       2.601       5.537\n",
       "Last Activity_SMS Sent                            2.1122      0.108     19.584      0.000       1.901       2.324\n",
       "Tags_Already a student                           -2.8926      0.585     -4.943      0.000      -4.040      -1.746\n",
       "Tags_Closed by Horizzon                           7.0041      0.721      9.719      0.000       5.592       8.417\n",
       "Tags_Interested  in full time MBA                -1.5132      0.597     -2.533      0.011      -2.684      -0.342\n",
       "Tags_Interested in other courses                 -1.8535      0.376     -4.930      0.000      -2.590      -1.117\n",
       "Tags_Lost to EINS                                 5.8415      0.524     11.138      0.000       4.814       6.869\n",
       "Tags_Not doing further education                 -2.8680      1.023     -2.804      0.005      -4.873      -0.863\n",
       "Tags_Others                                      -2.2658      0.312     -7.262      0.000      -2.877      -1.654\n",
       "Tags_Ringing                                     -3.5213      0.238    -14.797      0.000      -3.988      -3.055\n",
       "Tags_Will revert after reading the email          4.6653      0.178     26.153      0.000       4.316       5.015\n",
       "Tags_switched off                                -4.3383      0.722     -6.012      0.000      -5.753      -2.924\n",
       "Last Notable Activity_Modified                   -1.8455      0.120    -15.412      0.000      -2.080      -1.611\n",
       "Last Notable Activity_Olark Chat Conversation    -1.4901      0.399     -3.731      0.000      -2.273      -0.707\n",
       "=================================================================================================================\n",
       "\"\"\""
      ]
     },
     "execution_count": 120,
     "metadata": {},
     "output_type": "execute_result"
    }
   ],
   "source": [
    "# rebuild the Model after deleting Last Activity_Email Bounced \n",
    "\n",
    "X_train_sm = sm.add_constant(X_train[col])\n",
    "logm2 = sm.GLM(y_train,X_train_sm, family = sm.families.Binomial())\n",
    "res = logm2.fit()\n",
    "res.summary()"
   ]
  },
  {
   "cell_type": "markdown",
   "id": "761bffc3",
   "metadata": {},
   "source": [
    "__<div style=\"background-color:#ADD8E6; color:red ;font-size:15px; height: 25px;\">Inferences</div>__\n",
    "\n",
    "  - <font color='#800000'>The P Value for 'Tags_Interested  in full time MBA' is high, so we can drop it.</font>\n"
   ]
  },
  {
   "cell_type": "code",
   "execution_count": 121,
   "id": "10304b5e",
   "metadata": {},
   "outputs": [],
   "source": [
    "# The P Value for Tags_Interested in full time MBA is high, so we can drop it.\n",
    "col = col.drop('Tags_Interested  in full time MBA',1)"
   ]
  },
  {
   "cell_type": "markdown",
   "id": "303cfff5",
   "metadata": {},
   "source": [
    "### <font color='darkgreen'>6.3.3 Model 3 </font>  "
   ]
  },
  {
   "cell_type": "code",
   "execution_count": 122,
   "id": "84db4650",
   "metadata": {},
   "outputs": [
    {
     "data": {
      "text/html": [
       "<table class=\"simpletable\">\n",
       "<caption>Generalized Linear Model Regression Results</caption>\n",
       "<tr>\n",
       "  <th>Dep. Variable:</th>       <td>Converted</td>    <th>  No. Observations:  </th>  <td>  6246</td> \n",
       "</tr>\n",
       "<tr>\n",
       "  <th>Model:</th>                  <td>GLM</td>       <th>  Df Residuals:      </th>  <td>  6232</td> \n",
       "</tr>\n",
       "<tr>\n",
       "  <th>Model Family:</th>        <td>Binomial</td>     <th>  Df Model:          </th>  <td>    13</td> \n",
       "</tr>\n",
       "<tr>\n",
       "  <th>Link Function:</th>         <td>Logit</td>      <th>  Scale:             </th> <td>  1.0000</td>\n",
       "</tr>\n",
       "<tr>\n",
       "  <th>Method:</th>                <td>IRLS</td>       <th>  Log-Likelihood:    </th> <td> -1424.0</td>\n",
       "</tr>\n",
       "<tr>\n",
       "  <th>Date:</th>            <td>Mon, 14 Aug 2023</td> <th>  Deviance:          </th> <td>  2847.9</td>\n",
       "</tr>\n",
       "<tr>\n",
       "  <th>Time:</th>                <td>12:40:52</td>     <th>  Pearson chi2:      </th> <td>1.15e+04</td>\n",
       "</tr>\n",
       "<tr>\n",
       "  <th>No. Iterations:</th>          <td>8</td>        <th>  Pseudo R-squ. (CS):</th>  <td>0.5821</td> \n",
       "</tr>\n",
       "<tr>\n",
       "  <th>Covariance Type:</th>     <td>nonrobust</td>    <th>                     </th>     <td> </td>   \n",
       "</tr>\n",
       "</table>\n",
       "<table class=\"simpletable\">\n",
       "<tr>\n",
       "                        <td></td>                           <th>coef</th>     <th>std err</th>      <th>z</th>      <th>P>|z|</th>  <th>[0.025</th>    <th>0.975]</th>  \n",
       "</tr>\n",
       "<tr>\n",
       "  <th>const</th>                                         <td>   -1.2400</td> <td>    0.072</td> <td>  -17.226</td> <td> 0.000</td> <td>   -1.381</td> <td>   -1.099</td>\n",
       "</tr>\n",
       "<tr>\n",
       "  <th>Lead Source_Welingak Website</th>                  <td>    4.0988</td> <td>    0.750</td> <td>    5.467</td> <td> 0.000</td> <td>    2.629</td> <td>    5.568</td>\n",
       "</tr>\n",
       "<tr>\n",
       "  <th>Last Activity_SMS Sent</th>                        <td>    2.1355</td> <td>    0.108</td> <td>   19.840</td> <td> 0.000</td> <td>    1.925</td> <td>    2.346</td>\n",
       "</tr>\n",
       "<tr>\n",
       "  <th>Tags_Already a student</th>                        <td>   -2.8607</td> <td>    0.585</td> <td>   -4.889</td> <td> 0.000</td> <td>   -4.008</td> <td>   -1.714</td>\n",
       "</tr>\n",
       "<tr>\n",
       "  <th>Tags_Closed by Horizzon</th>                       <td>    7.0472</td> <td>    0.721</td> <td>    9.779</td> <td> 0.000</td> <td>    5.635</td> <td>    8.460</td>\n",
       "</tr>\n",
       "<tr>\n",
       "  <th>Tags_Interested in other courses</th>              <td>   -1.8245</td> <td>    0.376</td> <td>   -4.849</td> <td> 0.000</td> <td>   -2.562</td> <td>   -1.087</td>\n",
       "</tr>\n",
       "<tr>\n",
       "  <th>Tags_Lost to EINS</th>                             <td>    5.8844</td> <td>    0.524</td> <td>   11.220</td> <td> 0.000</td> <td>    4.856</td> <td>    6.912</td>\n",
       "</tr>\n",
       "<tr>\n",
       "  <th>Tags_Not doing further education</th>              <td>   -2.8413</td> <td>    1.023</td> <td>   -2.777</td> <td> 0.005</td> <td>   -4.847</td> <td>   -0.836</td>\n",
       "</tr>\n",
       "<tr>\n",
       "  <th>Tags_Others</th>                                   <td>   -2.2523</td> <td>    0.312</td> <td>   -7.213</td> <td> 0.000</td> <td>   -2.864</td> <td>   -1.640</td>\n",
       "</tr>\n",
       "<tr>\n",
       "  <th>Tags_Ringing</th>                                  <td>   -3.5095</td> <td>    0.238</td> <td>  -14.742</td> <td> 0.000</td> <td>   -3.976</td> <td>   -3.043</td>\n",
       "</tr>\n",
       "<tr>\n",
       "  <th>Tags_Will revert after reading the email</th>      <td>    4.7010</td> <td>    0.178</td> <td>   26.345</td> <td> 0.000</td> <td>    4.351</td> <td>    5.051</td>\n",
       "</tr>\n",
       "<tr>\n",
       "  <th>Tags_switched off</th>                             <td>   -4.3277</td> <td>    0.722</td> <td>   -5.996</td> <td> 0.000</td> <td>   -5.742</td> <td>   -2.913</td>\n",
       "</tr>\n",
       "<tr>\n",
       "  <th>Last Notable Activity_Modified</th>                <td>   -1.8607</td> <td>    0.120</td> <td>  -15.560</td> <td> 0.000</td> <td>   -2.095</td> <td>   -1.626</td>\n",
       "</tr>\n",
       "<tr>\n",
       "  <th>Last Notable Activity_Olark Chat Conversation</th> <td>   -1.4799</td> <td>    0.400</td> <td>   -3.701</td> <td> 0.000</td> <td>   -2.264</td> <td>   -0.696</td>\n",
       "</tr>\n",
       "</table>"
      ],
      "text/plain": [
       "<class 'statsmodels.iolib.summary.Summary'>\n",
       "\"\"\"\n",
       "                 Generalized Linear Model Regression Results                  \n",
       "==============================================================================\n",
       "Dep. Variable:              Converted   No. Observations:                 6246\n",
       "Model:                            GLM   Df Residuals:                     6232\n",
       "Model Family:                Binomial   Df Model:                           13\n",
       "Link Function:                  Logit   Scale:                          1.0000\n",
       "Method:                          IRLS   Log-Likelihood:                -1424.0\n",
       "Date:                Mon, 14 Aug 2023   Deviance:                       2847.9\n",
       "Time:                        12:40:52   Pearson chi2:                 1.15e+04\n",
       "No. Iterations:                     8   Pseudo R-squ. (CS):             0.5821\n",
       "Covariance Type:            nonrobust                                         \n",
       "=================================================================================================================\n",
       "                                                    coef    std err          z      P>|z|      [0.025      0.975]\n",
       "-----------------------------------------------------------------------------------------------------------------\n",
       "const                                            -1.2400      0.072    -17.226      0.000      -1.381      -1.099\n",
       "Lead Source_Welingak Website                      4.0988      0.750      5.467      0.000       2.629       5.568\n",
       "Last Activity_SMS Sent                            2.1355      0.108     19.840      0.000       1.925       2.346\n",
       "Tags_Already a student                           -2.8607      0.585     -4.889      0.000      -4.008      -1.714\n",
       "Tags_Closed by Horizzon                           7.0472      0.721      9.779      0.000       5.635       8.460\n",
       "Tags_Interested in other courses                 -1.8245      0.376     -4.849      0.000      -2.562      -1.087\n",
       "Tags_Lost to EINS                                 5.8844      0.524     11.220      0.000       4.856       6.912\n",
       "Tags_Not doing further education                 -2.8413      1.023     -2.777      0.005      -4.847      -0.836\n",
       "Tags_Others                                      -2.2523      0.312     -7.213      0.000      -2.864      -1.640\n",
       "Tags_Ringing                                     -3.5095      0.238    -14.742      0.000      -3.976      -3.043\n",
       "Tags_Will revert after reading the email          4.7010      0.178     26.345      0.000       4.351       5.051\n",
       "Tags_switched off                                -4.3277      0.722     -5.996      0.000      -5.742      -2.913\n",
       "Last Notable Activity_Modified                   -1.8607      0.120    -15.560      0.000      -2.095      -1.626\n",
       "Last Notable Activity_Olark Chat Conversation    -1.4799      0.400     -3.701      0.000      -2.264      -0.696\n",
       "=================================================================================================================\n",
       "\"\"\""
      ]
     },
     "execution_count": 122,
     "metadata": {},
     "output_type": "execute_result"
    }
   ],
   "source": [
    "# rebuild the Model after deleting 'Tags_Interested  in full time MBA' \n",
    "\n",
    "X_train_sm = sm.add_constant(X_train[col])\n",
    "logm2 = sm.GLM(y_train,X_train_sm, family = sm.families.Binomial())\n",
    "res = logm2.fit()\n",
    "res.summary()"
   ]
  },
  {
   "cell_type": "markdown",
   "id": "7c8c852d",
   "metadata": {},
   "source": [
    "__<div style=\"background-color:#ADD8E6; color:red ;font-size:15px; height: 25px;\">Inferences</div>__\n",
    "\n",
    "  - <font color='#800000'>The P Value for 'Tags_Not doing further education' is high, so we can drop it.</font>\n"
   ]
  },
  {
   "cell_type": "code",
   "execution_count": 123,
   "id": "c830b69e",
   "metadata": {},
   "outputs": [],
   "source": [
    "# The P Value for Tags_Not doing further education is high, so we can drop it.\n",
    "col = col.drop('Tags_Not doing further education',1)"
   ]
  },
  {
   "cell_type": "markdown",
   "id": "47cb374d",
   "metadata": {},
   "source": [
    "### <font color='darkgreen'>6.3.4 Model 4 </font>  "
   ]
  },
  {
   "cell_type": "code",
   "execution_count": 124,
   "id": "9580f5af",
   "metadata": {},
   "outputs": [
    {
     "data": {
      "text/html": [
       "<table class=\"simpletable\">\n",
       "<caption>Generalized Linear Model Regression Results</caption>\n",
       "<tr>\n",
       "  <th>Dep. Variable:</th>       <td>Converted</td>    <th>  No. Observations:  </th>  <td>  6246</td> \n",
       "</tr>\n",
       "<tr>\n",
       "  <th>Model:</th>                  <td>GLM</td>       <th>  Df Residuals:      </th>  <td>  6233</td> \n",
       "</tr>\n",
       "<tr>\n",
       "  <th>Model Family:</th>        <td>Binomial</td>     <th>  Df Model:          </th>  <td>    12</td> \n",
       "</tr>\n",
       "<tr>\n",
       "  <th>Link Function:</th>         <td>Logit</td>      <th>  Scale:             </th> <td>  1.0000</td>\n",
       "</tr>\n",
       "<tr>\n",
       "  <th>Method:</th>                <td>IRLS</td>       <th>  Log-Likelihood:    </th> <td> -1434.0</td>\n",
       "</tr>\n",
       "<tr>\n",
       "  <th>Date:</th>            <td>Mon, 14 Aug 2023</td> <th>  Deviance:          </th> <td>  2868.0</td>\n",
       "</tr>\n",
       "<tr>\n",
       "  <th>Time:</th>                <td>12:40:52</td>     <th>  Pearson chi2:      </th> <td>1.17e+04</td>\n",
       "</tr>\n",
       "<tr>\n",
       "  <th>No. Iterations:</th>          <td>8</td>        <th>  Pseudo R-squ. (CS):</th>  <td>0.5807</td> \n",
       "</tr>\n",
       "<tr>\n",
       "  <th>Covariance Type:</th>     <td>nonrobust</td>    <th>                     </th>     <td> </td>   \n",
       "</tr>\n",
       "</table>\n",
       "<table class=\"simpletable\">\n",
       "<tr>\n",
       "                        <td></td>                           <th>coef</th>     <th>std err</th>      <th>z</th>      <th>P>|z|</th>  <th>[0.025</th>    <th>0.975]</th>  \n",
       "</tr>\n",
       "<tr>\n",
       "  <th>const</th>                                         <td>   -1.2743</td> <td>    0.072</td> <td>  -17.774</td> <td> 0.000</td> <td>   -1.415</td> <td>   -1.134</td>\n",
       "</tr>\n",
       "<tr>\n",
       "  <th>Lead Source_Welingak Website</th>                  <td>    4.1361</td> <td>    0.751</td> <td>    5.511</td> <td> 0.000</td> <td>    2.665</td> <td>    5.607</td>\n",
       "</tr>\n",
       "<tr>\n",
       "  <th>Last Activity_SMS Sent</th>                        <td>    2.1534</td> <td>    0.107</td> <td>   20.068</td> <td> 0.000</td> <td>    1.943</td> <td>    2.364</td>\n",
       "</tr>\n",
       "<tr>\n",
       "  <th>Tags_Already a student</th>                        <td>   -2.8238</td> <td>    0.585</td> <td>   -4.826</td> <td> 0.000</td> <td>   -3.971</td> <td>   -1.677</td>\n",
       "</tr>\n",
       "<tr>\n",
       "  <th>Tags_Closed by Horizzon</th>                       <td>    7.0996</td> <td>    0.721</td> <td>    9.852</td> <td> 0.000</td> <td>    5.687</td> <td>    8.512</td>\n",
       "</tr>\n",
       "<tr>\n",
       "  <th>Tags_Interested in other courses</th>              <td>   -1.7887</td> <td>    0.377</td> <td>   -4.749</td> <td> 0.000</td> <td>   -2.527</td> <td>   -1.051</td>\n",
       "</tr>\n",
       "<tr>\n",
       "  <th>Tags_Lost to EINS</th>                             <td>    5.9370</td> <td>    0.524</td> <td>   11.319</td> <td> 0.000</td> <td>    4.909</td> <td>    6.965</td>\n",
       "</tr>\n",
       "<tr>\n",
       "  <th>Tags_Others</th>                                   <td>   -2.2303</td> <td>    0.312</td> <td>   -7.138</td> <td> 0.000</td> <td>   -2.843</td> <td>   -1.618</td>\n",
       "</tr>\n",
       "<tr>\n",
       "  <th>Tags_Ringing</th>                                  <td>   -3.4892</td> <td>    0.238</td> <td>  -14.657</td> <td> 0.000</td> <td>   -3.956</td> <td>   -3.023</td>\n",
       "</tr>\n",
       "<tr>\n",
       "  <th>Tags_Will revert after reading the email</th>      <td>    4.7444</td> <td>    0.179</td> <td>   26.565</td> <td> 0.000</td> <td>    4.394</td> <td>    5.094</td>\n",
       "</tr>\n",
       "<tr>\n",
       "  <th>Tags_switched off</th>                             <td>   -4.3085</td> <td>    0.722</td> <td>   -5.969</td> <td> 0.000</td> <td>   -5.723</td> <td>   -2.894</td>\n",
       "</tr>\n",
       "<tr>\n",
       "  <th>Last Notable Activity_Modified</th>                <td>   -1.8825</td> <td>    0.119</td> <td>  -15.793</td> <td> 0.000</td> <td>   -2.116</td> <td>   -1.649</td>\n",
       "</tr>\n",
       "<tr>\n",
       "  <th>Last Notable Activity_Olark Chat Conversation</th> <td>   -1.4521</td> <td>    0.401</td> <td>   -3.617</td> <td> 0.000</td> <td>   -2.239</td> <td>   -0.665</td>\n",
       "</tr>\n",
       "</table>"
      ],
      "text/plain": [
       "<class 'statsmodels.iolib.summary.Summary'>\n",
       "\"\"\"\n",
       "                 Generalized Linear Model Regression Results                  \n",
       "==============================================================================\n",
       "Dep. Variable:              Converted   No. Observations:                 6246\n",
       "Model:                            GLM   Df Residuals:                     6233\n",
       "Model Family:                Binomial   Df Model:                           12\n",
       "Link Function:                  Logit   Scale:                          1.0000\n",
       "Method:                          IRLS   Log-Likelihood:                -1434.0\n",
       "Date:                Mon, 14 Aug 2023   Deviance:                       2868.0\n",
       "Time:                        12:40:52   Pearson chi2:                 1.17e+04\n",
       "No. Iterations:                     8   Pseudo R-squ. (CS):             0.5807\n",
       "Covariance Type:            nonrobust                                         \n",
       "=================================================================================================================\n",
       "                                                    coef    std err          z      P>|z|      [0.025      0.975]\n",
       "-----------------------------------------------------------------------------------------------------------------\n",
       "const                                            -1.2743      0.072    -17.774      0.000      -1.415      -1.134\n",
       "Lead Source_Welingak Website                      4.1361      0.751      5.511      0.000       2.665       5.607\n",
       "Last Activity_SMS Sent                            2.1534      0.107     20.068      0.000       1.943       2.364\n",
       "Tags_Already a student                           -2.8238      0.585     -4.826      0.000      -3.971      -1.677\n",
       "Tags_Closed by Horizzon                           7.0996      0.721      9.852      0.000       5.687       8.512\n",
       "Tags_Interested in other courses                 -1.7887      0.377     -4.749      0.000      -2.527      -1.051\n",
       "Tags_Lost to EINS                                 5.9370      0.524     11.319      0.000       4.909       6.965\n",
       "Tags_Others                                      -2.2303      0.312     -7.138      0.000      -2.843      -1.618\n",
       "Tags_Ringing                                     -3.4892      0.238    -14.657      0.000      -3.956      -3.023\n",
       "Tags_Will revert after reading the email          4.7444      0.179     26.565      0.000       4.394       5.094\n",
       "Tags_switched off                                -4.3085      0.722     -5.969      0.000      -5.723      -2.894\n",
       "Last Notable Activity_Modified                   -1.8825      0.119    -15.793      0.000      -2.116      -1.649\n",
       "Last Notable Activity_Olark Chat Conversation    -1.4521      0.401     -3.617      0.000      -2.239      -0.665\n",
       "=================================================================================================================\n",
       "\"\"\""
      ]
     },
     "execution_count": 124,
     "metadata": {},
     "output_type": "execute_result"
    }
   ],
   "source": [
    "# rebuild the Model after deleting 'Tags_Not doing further education'\n",
    "\n",
    "X_train_sm = sm.add_constant(X_train[col])\n",
    "logm2 = sm.GLM(y_train,X_train_sm, family = sm.families.Binomial())\n",
    "res = logm2.fit()\n",
    "res.summary()"
   ]
  },
  {
   "cell_type": "markdown",
   "id": "d6b93860",
   "metadata": {},
   "source": [
    "__<div style=\"background-color:#ADD8E6; color:red ;font-size:15px; height: 25px;\">Inferences</div>__\n",
    "\n",
    "  - <font color='#800000'>now All P values are 0.0 and less than 5%.</font>\n"
   ]
  },
  {
   "cell_type": "markdown",
   "id": "da67f4f1",
   "metadata": {},
   "source": [
    "### <font color='darkgreen'>6.3.5 VIF Check </font>  "
   ]
  },
  {
   "cell_type": "code",
   "execution_count": 125,
   "id": "ee9f7d18",
   "metadata": {},
   "outputs": [],
   "source": [
    "# Check for the VIF values of the feature variables. \n",
    "from statsmodels.stats.outliers_influence import variance_inflation_factor"
   ]
  },
  {
   "cell_type": "code",
   "execution_count": 126,
   "id": "68f79443",
   "metadata": {},
   "outputs": [
    {
     "data": {
      "text/html": [
       "<div>\n",
       "<style scoped>\n",
       "    .dataframe tbody tr th:only-of-type {\n",
       "        vertical-align: middle;\n",
       "    }\n",
       "\n",
       "    .dataframe tbody tr th {\n",
       "        vertical-align: top;\n",
       "    }\n",
       "\n",
       "    .dataframe thead th {\n",
       "        text-align: right;\n",
       "    }\n",
       "</style>\n",
       "<table border=\"1\" class=\"dataframe\">\n",
       "  <thead>\n",
       "    <tr style=\"text-align: right;\">\n",
       "      <th></th>\n",
       "      <th>Features</th>\n",
       "      <th>VIF</th>\n",
       "    </tr>\n",
       "  </thead>\n",
       "  <tbody>\n",
       "    <tr>\n",
       "      <th>3</th>\n",
       "      <td>Tags_Closed by Horizzon</td>\n",
       "      <td>1.05</td>\n",
       "    </tr>\n",
       "    <tr>\n",
       "      <th>5</th>\n",
       "      <td>Tags_Lost to EINS</td>\n",
       "      <td>1.04</td>\n",
       "    </tr>\n",
       "    <tr>\n",
       "      <th>0</th>\n",
       "      <td>Lead Source_Welingak Website</td>\n",
       "      <td>1.03</td>\n",
       "    </tr>\n",
       "    <tr>\n",
       "      <th>6</th>\n",
       "      <td>Tags_Others</td>\n",
       "      <td>1.03</td>\n",
       "    </tr>\n",
       "    <tr>\n",
       "      <th>9</th>\n",
       "      <td>Tags_switched off</td>\n",
       "      <td>1.02</td>\n",
       "    </tr>\n",
       "    <tr>\n",
       "      <th>11</th>\n",
       "      <td>Last Notable Activity_Olark Chat Conversation</td>\n",
       "      <td>1.01</td>\n",
       "    </tr>\n",
       "    <tr>\n",
       "      <th>4</th>\n",
       "      <td>Tags_Interested in other courses</td>\n",
       "      <td>0.28</td>\n",
       "    </tr>\n",
       "    <tr>\n",
       "      <th>2</th>\n",
       "      <td>Tags_Already a student</td>\n",
       "      <td>0.22</td>\n",
       "    </tr>\n",
       "    <tr>\n",
       "      <th>8</th>\n",
       "      <td>Tags_Will revert after reading the email</td>\n",
       "      <td>0.10</td>\n",
       "    </tr>\n",
       "    <tr>\n",
       "      <th>10</th>\n",
       "      <td>Last Notable Activity_Modified</td>\n",
       "      <td>0.10</td>\n",
       "    </tr>\n",
       "    <tr>\n",
       "      <th>7</th>\n",
       "      <td>Tags_Ringing</td>\n",
       "      <td>0.07</td>\n",
       "    </tr>\n",
       "    <tr>\n",
       "      <th>1</th>\n",
       "      <td>Last Activity_SMS Sent</td>\n",
       "      <td>0.06</td>\n",
       "    </tr>\n",
       "  </tbody>\n",
       "</table>\n",
       "</div>"
      ],
      "text/plain": [
       "                                         Features   VIF\n",
       "3                         Tags_Closed by Horizzon  1.05\n",
       "5                               Tags_Lost to EINS  1.04\n",
       "0                    Lead Source_Welingak Website  1.03\n",
       "6                                     Tags_Others  1.03\n",
       "9                               Tags_switched off  1.02\n",
       "11  Last Notable Activity_Olark Chat Conversation  1.01\n",
       "4                Tags_Interested in other courses  0.28\n",
       "2                          Tags_Already a student  0.22\n",
       "8        Tags_Will revert after reading the email  0.10\n",
       "10                 Last Notable Activity_Modified  0.10\n",
       "7                                    Tags_Ringing  0.07\n",
       "1                          Last Activity_SMS Sent  0.06"
      ]
     },
     "execution_count": 126,
     "metadata": {},
     "output_type": "execute_result"
    }
   ],
   "source": [
    "# Create a dataframe contain all the feature variables and their respective VIFs\n",
    "vif = pd.DataFrame()\n",
    "vif['Features'] = X_train[col].columns\n",
    "vif['VIF'] = [variance_inflation_factor(X_train[col].values, i) for i in range(X_train[col].shape[1])]\n",
    "vif['VIF'] = round(vif['VIF'], 2)\n",
    "vif = vif.sort_values(by = \"VIF\", ascending = False)\n",
    "vif"
   ]
  },
  {
   "cell_type": "markdown",
   "id": "37938b5a",
   "metadata": {},
   "source": [
    "__<div style=\"background-color:#ADD8E6; color:red ;font-size:15px; height: 25px;\">Inferences</div>__\n",
    "\n",
    "  - <font color='#800000'>VIF is low and no need for further variables to drop.</font>\n"
   ]
  },
  {
   "cell_type": "markdown",
   "id": "9a18419d",
   "metadata": {},
   "source": [
    "### <font color='darkgreen'>6.3.6 Predicted values on the train set </font>  "
   ]
  },
  {
   "cell_type": "code",
   "execution_count": 127,
   "id": "8431361d",
   "metadata": {},
   "outputs": [
    {
     "data": {
      "text/plain": [
       "6676    0.969823\n",
       "6138    0.996401\n",
       "8650    0.969823\n",
       "3423    0.040822\n",
       "6552    0.218515\n",
       "1696    0.218515\n",
       "2110    0.996401\n",
       "6830    0.830268\n",
       "2581    0.040822\n",
       "5927    0.218515\n",
       "dtype: float64"
      ]
     },
     "execution_count": 127,
     "metadata": {},
     "output_type": "execute_result"
    }
   ],
   "source": [
    "# Getting the Predicted values on the train set\n",
    "y_train_pred = res.predict(X_train_sm)\n",
    "y_train_pred[:10]"
   ]
  },
  {
   "cell_type": "code",
   "execution_count": 128,
   "id": "2e10dff5",
   "metadata": {},
   "outputs": [
    {
     "data": {
      "text/html": [
       "<div>\n",
       "<style scoped>\n",
       "    .dataframe tbody tr th:only-of-type {\n",
       "        vertical-align: middle;\n",
       "    }\n",
       "\n",
       "    .dataframe tbody tr th {\n",
       "        vertical-align: top;\n",
       "    }\n",
       "\n",
       "    .dataframe thead th {\n",
       "        text-align: right;\n",
       "    }\n",
       "</style>\n",
       "<table border=\"1\" class=\"dataframe\">\n",
       "  <thead>\n",
       "    <tr style=\"text-align: right;\">\n",
       "      <th></th>\n",
       "      <th>Converted</th>\n",
       "      <th>Converted_Predicted</th>\n",
       "      <th>Row_Index</th>\n",
       "    </tr>\n",
       "  </thead>\n",
       "  <tbody>\n",
       "    <tr>\n",
       "      <th>6676</th>\n",
       "      <td>1</td>\n",
       "      <td>0.969823</td>\n",
       "      <td>6676</td>\n",
       "    </tr>\n",
       "    <tr>\n",
       "      <th>6138</th>\n",
       "      <td>1</td>\n",
       "      <td>0.996401</td>\n",
       "      <td>6138</td>\n",
       "    </tr>\n",
       "    <tr>\n",
       "      <th>8650</th>\n",
       "      <td>1</td>\n",
       "      <td>0.969823</td>\n",
       "      <td>8650</td>\n",
       "    </tr>\n",
       "    <tr>\n",
       "      <th>3423</th>\n",
       "      <td>0</td>\n",
       "      <td>0.040822</td>\n",
       "      <td>3423</td>\n",
       "    </tr>\n",
       "    <tr>\n",
       "      <th>6552</th>\n",
       "      <td>0</td>\n",
       "      <td>0.218515</td>\n",
       "      <td>6552</td>\n",
       "    </tr>\n",
       "  </tbody>\n",
       "</table>\n",
       "</div>"
      ],
      "text/plain": [
       "      Converted  Converted_Predicted  Row_Index\n",
       "6676          1             0.969823       6676\n",
       "6138          1             0.996401       6138\n",
       "8650          1             0.969823       8650\n",
       "3423          0             0.040822       3423\n",
       "6552          0             0.218515       6552"
      ]
     },
     "execution_count": 128,
     "metadata": {},
     "output_type": "execute_result"
    }
   ],
   "source": [
    "y_train_pred_final = pd.DataFrame({'Converted':y_train.values, 'Converted_Predicted':y_train_pred, \n",
    "                                   'Row_Index':y_train.index})\n",
    "y_train_pred_final.head()"
   ]
  },
  {
   "cell_type": "code",
   "execution_count": 129,
   "id": "83a4efe8",
   "metadata": {},
   "outputs": [
    {
     "data": {
      "text/html": [
       "<div>\n",
       "<style scoped>\n",
       "    .dataframe tbody tr th:only-of-type {\n",
       "        vertical-align: middle;\n",
       "    }\n",
       "\n",
       "    .dataframe tbody tr th {\n",
       "        vertical-align: top;\n",
       "    }\n",
       "\n",
       "    .dataframe thead th {\n",
       "        text-align: right;\n",
       "    }\n",
       "</style>\n",
       "<table border=\"1\" class=\"dataframe\">\n",
       "  <thead>\n",
       "    <tr style=\"text-align: right;\">\n",
       "      <th></th>\n",
       "      <th>Converted</th>\n",
       "      <th>Converted_Predicted</th>\n",
       "      <th>Row_Index</th>\n",
       "      <th>Predicted</th>\n",
       "    </tr>\n",
       "  </thead>\n",
       "  <tbody>\n",
       "    <tr>\n",
       "      <th>6676</th>\n",
       "      <td>1</td>\n",
       "      <td>0.969823</td>\n",
       "      <td>6676</td>\n",
       "      <td>1</td>\n",
       "    </tr>\n",
       "    <tr>\n",
       "      <th>6138</th>\n",
       "      <td>1</td>\n",
       "      <td>0.996401</td>\n",
       "      <td>6138</td>\n",
       "      <td>1</td>\n",
       "    </tr>\n",
       "    <tr>\n",
       "      <th>8650</th>\n",
       "      <td>1</td>\n",
       "      <td>0.969823</td>\n",
       "      <td>8650</td>\n",
       "      <td>1</td>\n",
       "    </tr>\n",
       "    <tr>\n",
       "      <th>3423</th>\n",
       "      <td>0</td>\n",
       "      <td>0.040822</td>\n",
       "      <td>3423</td>\n",
       "      <td>0</td>\n",
       "    </tr>\n",
       "    <tr>\n",
       "      <th>6552</th>\n",
       "      <td>0</td>\n",
       "      <td>0.218515</td>\n",
       "      <td>6552</td>\n",
       "      <td>0</td>\n",
       "    </tr>\n",
       "  </tbody>\n",
       "</table>\n",
       "</div>"
      ],
      "text/plain": [
       "      Converted  Converted_Predicted  Row_Index  Predicted\n",
       "6676          1             0.969823       6676          1\n",
       "6138          1             0.996401       6138          1\n",
       "8650          1             0.969823       8650          1\n",
       "3423          0             0.040822       3423          0\n",
       "6552          0             0.218515       6552          0"
      ]
     },
     "execution_count": 129,
     "metadata": {},
     "output_type": "execute_result"
    }
   ],
   "source": [
    "y_train_pred_final['Predicted'] = y_train_pred_final['Converted_Predicted'].map(lambda x: 1 if x > 0.5 else 0)\n",
    "\n",
    "# Let's see the head\n",
    "y_train_pred_final.head()"
   ]
  },
  {
   "cell_type": "code",
   "execution_count": null,
   "id": "6ec75380",
   "metadata": {},
   "outputs": [],
   "source": []
  },
  {
   "cell_type": "code",
   "execution_count": 130,
   "id": "1ee407ec",
   "metadata": {
    "scrolled": true
   },
   "outputs": [
    {
     "name": "stdout",
     "output_type": "stream",
     "text": [
      "[[3718  153]\n",
      " [ 340 2035]]\n"
     ]
    }
   ],
   "source": [
    "from sklearn import metrics\n",
    "# Confusion matrix \n",
    "confusion = metrics.confusion_matrix(y_train_pred_final.Converted, y_train_pred_final.Predicted )\n",
    "print(confusion)\n",
    "\n"
   ]
  },
  {
   "cell_type": "code",
   "execution_count": 131,
   "id": "e5b24c7e",
   "metadata": {
    "scrolled": false
   },
   "outputs": [
    {
     "name": "stdout",
     "output_type": "stream",
     "text": [
      "0.9210694844700609\n"
     ]
    }
   ],
   "source": [
    "# Overall accuracy.\n",
    "print(metrics.accuracy_score(y_train_pred_final.Converted, y_train_pred_final.Predicted))"
   ]
  },
  {
   "cell_type": "code",
   "execution_count": 132,
   "id": "9468d390",
   "metadata": {},
   "outputs": [],
   "source": [
    "# true positive\n",
    "TP = confusion[1,1] \n",
    "# true negatives\n",
    "TN = confusion[0,0] \n",
    "# false positives\n",
    "FP = confusion[0,1] \n",
    "# false negatives\n",
    "FN = confusion[1,0] "
   ]
  },
  {
   "cell_type": "code",
   "execution_count": 133,
   "id": "7acdd51d",
   "metadata": {},
   "outputs": [
    {
     "data": {
      "text/plain": [
       "0.8568421052631578"
      ]
     },
     "execution_count": 133,
     "metadata": {},
     "output_type": "execute_result"
    }
   ],
   "source": [
    "# Sensitivity \n",
    "TP / float(TP+FN)"
   ]
  },
  {
   "cell_type": "code",
   "execution_count": 134,
   "id": "9c812bc9",
   "metadata": {},
   "outputs": [
    {
     "data": {
      "text/plain": [
       "0.9604753293722552"
      ]
     },
     "execution_count": 134,
     "metadata": {},
     "output_type": "execute_result"
    }
   ],
   "source": [
    "# Specificity\n",
    "TN / float(TN+FP)"
   ]
  },
  {
   "cell_type": "code",
   "execution_count": 135,
   "id": "f2cda091",
   "metadata": {},
   "outputs": [
    {
     "name": "stdout",
     "output_type": "stream",
     "text": [
      "0.930073126142596\n"
     ]
    }
   ],
   "source": [
    "# Positive predictive value \n",
    "print (TP / float(TP+FP))"
   ]
  },
  {
   "cell_type": "code",
   "execution_count": 136,
   "id": "684b6453",
   "metadata": {},
   "outputs": [
    {
     "name": "stdout",
     "output_type": "stream",
     "text": [
      "0.9162148841793987\n"
     ]
    }
   ],
   "source": [
    "# Negative predictive value\n",
    "print (TN / float(TN+ FN))"
   ]
  },
  {
   "cell_type": "code",
   "execution_count": 137,
   "id": "34a0cc6c",
   "metadata": {},
   "outputs": [],
   "source": [
    "def draw_roc( actual, probs ):\n",
    "    fpr, tpr, thresholds = metrics.roc_curve( actual, probs,\n",
    "                                              drop_intermediate = False )\n",
    "    auc_score = metrics.roc_auc_score( actual, probs )\n",
    "    plt.figure(figsize=(5, 5))\n",
    "    plt.plot( fpr, tpr, label='ROC curve ')\n",
    "    plt.plot([0, 1], [0, 1], 'k--')\n",
    "    plt.xlim([0.0, 1.0])\n",
    "    plt.ylim([0.0, 1.05])\n",
    "    plt.show()\n",
    "\n",
    "    return None"
   ]
  },
  {
   "cell_type": "code",
   "execution_count": 138,
   "id": "55cb60f8",
   "metadata": {},
   "outputs": [],
   "source": [
    "fpr, tpr, thresholds = metrics.roc_curve( y_train_pred_final.Converted, y_train_pred_final.Converted_Predicted, drop_intermediate = False )"
   ]
  },
  {
   "cell_type": "code",
   "execution_count": 139,
   "id": "2c188b12",
   "metadata": {},
   "outputs": [
    {
     "data": {
      "image/png": "[encoded data removed]",
      "text/plain": [
       "<Figure size 500x500 with 1 Axes>"
      ]
     },
     "metadata": {},
     "output_type": "display_data"
    }
   ],
   "source": [
    "draw_roc(y_train_pred_final.Converted, y_train_pred_final.Converted_Predicted)"
   ]
  },
  {
   "cell_type": "markdown",
   "id": "e138dac8",
   "metadata": {},
   "source": [
    "### <font color='red'>6.3.6.1 Calculating the Area Under the Curve(GINI) </font>  "
   ]
  },
  {
   "cell_type": "code",
   "execution_count": 140,
   "id": "bca91877",
   "metadata": {},
   "outputs": [],
   "source": [
    "def auc_val(fpr,tpr):\n",
    "    AreaUnderCurve = 0.\n",
    "    for i in range(len(fpr)-1):\n",
    "        AreaUnderCurve += (fpr[i+1]-fpr[i]) * (tpr[i+1]+tpr[i])\n",
    "    AreaUnderCurve *= 0.5\n",
    "    return AreaUnderCurve"
   ]
  },
  {
   "cell_type": "code",
   "execution_count": 141,
   "id": "a36f4cbe",
   "metadata": {},
   "outputs": [
    {
     "data": {
      "text/plain": [
       "0.9581804239350635"
      ]
     },
     "execution_count": 141,
     "metadata": {},
     "output_type": "execute_result"
    }
   ],
   "source": [
    "auc = auc_val(fpr,tpr)\n",
    "auc"
   ]
  },
  {
   "cell_type": "markdown",
   "id": "eac528a5",
   "metadata": {},
   "source": [
    "__<div style=\"background-color:#ADD8E6; color:red ;font-size:15px; height: 25px;\">Inferences</div>__\n",
    "<strong><font color='#800000'>As a rule of thumb, an AUC can be classed as follows,</font></strong><br>\n",
    "  - <font color='#800000'>0.90 - 1.00 = excellent</font>\n",
    "  - <font color='#800000'>0.80 - 0.90 = good</font>\n",
    "  - <font color='#800000'>0.70 - 0.80 = fair</font>\n",
    "  - <font color='#800000'>0.60 - 0.70 = poor</font>\n",
    "  - <font color='#800000'>0.50 - 0.60 = fail</font><br>\n",
    "  \n",
    "<strong><font color='#800000'>Since we got a value of 0.9582, our model seems to be doing well on the test dataset.</font></strong>\n"
   ]
  },
  {
   "cell_type": "code",
   "execution_count": null,
   "id": "7a839ebb",
   "metadata": {},
   "outputs": [],
   "source": []
  },
  {
   "cell_type": "markdown",
   "id": "5d0e9328",
   "metadata": {},
   "source": [
    "### <font color='darkgreen'>6.3.7 Optimal Cutoff Point </font>  "
   ]
  },
  {
   "cell_type": "code",
   "execution_count": 142,
   "id": "d1993bc1",
   "metadata": {},
   "outputs": [
    {
     "data": {
      "text/html": [
       "<div>\n",
       "<style scoped>\n",
       "    .dataframe tbody tr th:only-of-type {\n",
       "        vertical-align: middle;\n",
       "    }\n",
       "\n",
       "    .dataframe tbody tr th {\n",
       "        vertical-align: top;\n",
       "    }\n",
       "\n",
       "    .dataframe thead th {\n",
       "        text-align: right;\n",
       "    }\n",
       "</style>\n",
       "<table border=\"1\" class=\"dataframe\">\n",
       "  <thead>\n",
       "    <tr style=\"text-align: right;\">\n",
       "      <th></th>\n",
       "      <th>Converted</th>\n",
       "      <th>Converted_Predicted</th>\n",
       "      <th>Row_Index</th>\n",
       "      <th>Predicted</th>\n",
       "      <th>0.0</th>\n",
       "      <th>0.1</th>\n",
       "      <th>0.2</th>\n",
       "      <th>0.3</th>\n",
       "      <th>0.4</th>\n",
       "      <th>0.5</th>\n",
       "      <th>0.6</th>\n",
       "      <th>0.7</th>\n",
       "      <th>0.8</th>\n",
       "      <th>0.9</th>\n",
       "    </tr>\n",
       "  </thead>\n",
       "  <tbody>\n",
       "    <tr>\n",
       "      <th>6676</th>\n",
       "      <td>1</td>\n",
       "      <td>0.969823</td>\n",
       "      <td>6676</td>\n",
       "      <td>1</td>\n",
       "      <td>1</td>\n",
       "      <td>1</td>\n",
       "      <td>1</td>\n",
       "      <td>1</td>\n",
       "      <td>1</td>\n",
       "      <td>1</td>\n",
       "      <td>1</td>\n",
       "      <td>1</td>\n",
       "      <td>1</td>\n",
       "      <td>1</td>\n",
       "    </tr>\n",
       "    <tr>\n",
       "      <th>6138</th>\n",
       "      <td>1</td>\n",
       "      <td>0.996401</td>\n",
       "      <td>6138</td>\n",
       "      <td>1</td>\n",
       "      <td>1</td>\n",
       "      <td>1</td>\n",
       "      <td>1</td>\n",
       "      <td>1</td>\n",
       "      <td>1</td>\n",
       "      <td>1</td>\n",
       "      <td>1</td>\n",
       "      <td>1</td>\n",
       "      <td>1</td>\n",
       "      <td>1</td>\n",
       "    </tr>\n",
       "    <tr>\n",
       "      <th>8650</th>\n",
       "      <td>1</td>\n",
       "      <td>0.969823</td>\n",
       "      <td>8650</td>\n",
       "      <td>1</td>\n",
       "      <td>1</td>\n",
       "      <td>1</td>\n",
       "      <td>1</td>\n",
       "      <td>1</td>\n",
       "      <td>1</td>\n",
       "      <td>1</td>\n",
       "      <td>1</td>\n",
       "      <td>1</td>\n",
       "      <td>1</td>\n",
       "      <td>1</td>\n",
       "    </tr>\n",
       "    <tr>\n",
       "      <th>3423</th>\n",
       "      <td>0</td>\n",
       "      <td>0.040822</td>\n",
       "      <td>3423</td>\n",
       "      <td>0</td>\n",
       "      <td>1</td>\n",
       "      <td>0</td>\n",
       "      <td>0</td>\n",
       "      <td>0</td>\n",
       "      <td>0</td>\n",
       "      <td>0</td>\n",
       "      <td>0</td>\n",
       "      <td>0</td>\n",
       "      <td>0</td>\n",
       "      <td>0</td>\n",
       "    </tr>\n",
       "    <tr>\n",
       "      <th>6552</th>\n",
       "      <td>0</td>\n",
       "      <td>0.218515</td>\n",
       "      <td>6552</td>\n",
       "      <td>0</td>\n",
       "      <td>1</td>\n",
       "      <td>1</td>\n",
       "      <td>1</td>\n",
       "      <td>0</td>\n",
       "      <td>0</td>\n",
       "      <td>0</td>\n",
       "      <td>0</td>\n",
       "      <td>0</td>\n",
       "      <td>0</td>\n",
       "      <td>0</td>\n",
       "    </tr>\n",
       "  </tbody>\n",
       "</table>\n",
       "</div>"
      ],
      "text/plain": [
       "      Converted  Converted_Predicted  Row_Index  Predicted  0.0  0.1  0.2  \\\n",
       "6676          1             0.969823       6676          1    1    1    1   \n",
       "6138          1             0.996401       6138          1    1    1    1   \n",
       "8650          1             0.969823       8650          1    1    1    1   \n",
       "3423          0             0.040822       3423          0    1    0    0   \n",
       "6552          0             0.218515       6552          0    1    1    1   \n",
       "\n",
       "      0.3  0.4  0.5  0.6  0.7  0.8  0.9  \n",
       "6676    1    1    1    1    1    1    1  \n",
       "6138    1    1    1    1    1    1    1  \n",
       "8650    1    1    1    1    1    1    1  \n",
       "3423    0    0    0    0    0    0    0  \n",
       "6552    0    0    0    0    0    0    0  "
      ]
     },
     "execution_count": 142,
     "metadata": {},
     "output_type": "execute_result"
    }
   ],
   "source": [
    "x_num = [0.0,0.1,0.2,0.3,0.4,0.5,0.6,0.7,0.8,0.9]\n",
    "for i in x_num:\n",
    "    y_train_pred_final[i]= y_train_pred_final.Converted_Predicted.map(lambda x: 1 if x > i else 0)\n",
    "y_train_pred_final.head()"
   ]
  },
  {
   "cell_type": "code",
   "execution_count": 143,
   "id": "ee284f1c",
   "metadata": {},
   "outputs": [
    {
     "name": "stdout",
     "output_type": "stream",
     "text": [
      "     prob  accuracy  sensitivity  specificity\n",
      "0.0   0.0  0.380243     1.000000     0.000000\n",
      "0.1   0.1  0.805155     0.965474     0.706794\n",
      "0.2   0.2  0.805155     0.965474     0.706794\n",
      "0.3   0.3  0.921069     0.856842     0.960475\n",
      "0.4   0.4  0.921069     0.856842     0.960475\n",
      "0.5   0.5  0.921069     0.856842     0.960475\n",
      "0.6   0.6  0.921069     0.856842     0.960475\n",
      "0.7   0.7  0.921069     0.856842     0.960475\n",
      "0.8   0.8  0.886968     0.723789     0.987083\n",
      "0.9   0.9  0.871758     0.674947     0.992508\n"
     ]
    }
   ],
   "source": [
    "# Now let's calculate accuracy sensitivity and specificity for various probability cutoffs.\n",
    "cutoff_df = pd.DataFrame( columns = ['prob','accuracy','sensitivity','specificity'])\n",
    "from sklearn.metrics import confusion_matrix\n",
    "\n",
    "num = [0.0,0.1,0.2,0.3,0.4,0.5,0.6,0.7,0.8,0.9]\n",
    "for i in num:\n",
    "    cm1 = metrics.confusion_matrix(y_train_pred_final.Converted, y_train_pred_final[i] )\n",
    "    total1=sum(sum(cm1))\n",
    "    accuracy = (cm1[0,0]+cm1[1,1])/total1\n",
    "    \n",
    "    speci = cm1[0,0]/(cm1[0,0]+cm1[0,1])\n",
    "    sensi = cm1[1,1]/(cm1[1,0]+cm1[1,1])\n",
    "    cutoff_df.loc[i] =[ i ,accuracy,sensi,speci]\n",
    "print(cutoff_df)"
   ]
  },
  {
   "cell_type": "code",
   "execution_count": 144,
   "id": "f72bc45f",
   "metadata": {},
   "outputs": [
    {
     "data": {
      "image/png": "[encoded data removed]",
      "text/plain": [
       "<Figure size 640x480 with 1 Axes>"
      ]
     },
     "metadata": {},
     "output_type": "display_data"
    }
   ],
   "source": [
    "# Let's plot accuracy sensitivity and specificity for various probabilities.\n",
    "cutoff_df.plot.line(x='prob', y=['accuracy','sensitivity','specificity'])\n",
    "plt.show()"
   ]
  },
  {
   "cell_type": "code",
   "execution_count": 145,
   "id": "5792659d",
   "metadata": {},
   "outputs": [
    {
     "data": {
      "text/html": [
       "<div>\n",
       "<style scoped>\n",
       "    .dataframe tbody tr th:only-of-type {\n",
       "        vertical-align: middle;\n",
       "    }\n",
       "\n",
       "    .dataframe tbody tr th {\n",
       "        vertical-align: top;\n",
       "    }\n",
       "\n",
       "    .dataframe thead th {\n",
       "        text-align: right;\n",
       "    }\n",
       "</style>\n",
       "<table border=\"1\" class=\"dataframe\">\n",
       "  <thead>\n",
       "    <tr style=\"text-align: right;\">\n",
       "      <th></th>\n",
       "      <th>Converted</th>\n",
       "      <th>Converted_Predicted</th>\n",
       "      <th>Row_Index</th>\n",
       "      <th>Predicted</th>\n",
       "      <th>0.0</th>\n",
       "      <th>0.1</th>\n",
       "      <th>0.2</th>\n",
       "      <th>0.3</th>\n",
       "      <th>0.4</th>\n",
       "      <th>0.5</th>\n",
       "      <th>0.6</th>\n",
       "      <th>0.7</th>\n",
       "      <th>0.8</th>\n",
       "      <th>0.9</th>\n",
       "      <th>final_Predicted</th>\n",
       "    </tr>\n",
       "  </thead>\n",
       "  <tbody>\n",
       "    <tr>\n",
       "      <th>6676</th>\n",
       "      <td>1</td>\n",
       "      <td>0.969823</td>\n",
       "      <td>6676</td>\n",
       "      <td>1</td>\n",
       "      <td>1</td>\n",
       "      <td>1</td>\n",
       "      <td>1</td>\n",
       "      <td>1</td>\n",
       "      <td>1</td>\n",
       "      <td>1</td>\n",
       "      <td>1</td>\n",
       "      <td>1</td>\n",
       "      <td>1</td>\n",
       "      <td>1</td>\n",
       "      <td>1</td>\n",
       "    </tr>\n",
       "    <tr>\n",
       "      <th>6138</th>\n",
       "      <td>1</td>\n",
       "      <td>0.996401</td>\n",
       "      <td>6138</td>\n",
       "      <td>1</td>\n",
       "      <td>1</td>\n",
       "      <td>1</td>\n",
       "      <td>1</td>\n",
       "      <td>1</td>\n",
       "      <td>1</td>\n",
       "      <td>1</td>\n",
       "      <td>1</td>\n",
       "      <td>1</td>\n",
       "      <td>1</td>\n",
       "      <td>1</td>\n",
       "      <td>1</td>\n",
       "    </tr>\n",
       "    <tr>\n",
       "      <th>8650</th>\n",
       "      <td>1</td>\n",
       "      <td>0.969823</td>\n",
       "      <td>8650</td>\n",
       "      <td>1</td>\n",
       "      <td>1</td>\n",
       "      <td>1</td>\n",
       "      <td>1</td>\n",
       "      <td>1</td>\n",
       "      <td>1</td>\n",
       "      <td>1</td>\n",
       "      <td>1</td>\n",
       "      <td>1</td>\n",
       "      <td>1</td>\n",
       "      <td>1</td>\n",
       "      <td>1</td>\n",
       "    </tr>\n",
       "    <tr>\n",
       "      <th>3423</th>\n",
       "      <td>0</td>\n",
       "      <td>0.040822</td>\n",
       "      <td>3423</td>\n",
       "      <td>0</td>\n",
       "      <td>1</td>\n",
       "      <td>0</td>\n",
       "      <td>0</td>\n",
       "      <td>0</td>\n",
       "      <td>0</td>\n",
       "      <td>0</td>\n",
       "      <td>0</td>\n",
       "      <td>0</td>\n",
       "      <td>0</td>\n",
       "      <td>0</td>\n",
       "      <td>0</td>\n",
       "    </tr>\n",
       "    <tr>\n",
       "      <th>6552</th>\n",
       "      <td>0</td>\n",
       "      <td>0.218515</td>\n",
       "      <td>6552</td>\n",
       "      <td>0</td>\n",
       "      <td>1</td>\n",
       "      <td>1</td>\n",
       "      <td>1</td>\n",
       "      <td>0</td>\n",
       "      <td>0</td>\n",
       "      <td>0</td>\n",
       "      <td>0</td>\n",
       "      <td>0</td>\n",
       "      <td>0</td>\n",
       "      <td>0</td>\n",
       "      <td>0</td>\n",
       "    </tr>\n",
       "  </tbody>\n",
       "</table>\n",
       "</div>"
      ],
      "text/plain": [
       "      Converted  Converted_Predicted  Row_Index  Predicted  0.0  0.1  0.2  \\\n",
       "6676          1             0.969823       6676          1    1    1    1   \n",
       "6138          1             0.996401       6138          1    1    1    1   \n",
       "8650          1             0.969823       8650          1    1    1    1   \n",
       "3423          0             0.040822       3423          0    1    0    0   \n",
       "6552          0             0.218515       6552          0    1    1    1   \n",
       "\n",
       "      0.3  0.4  0.5  0.6  0.7  0.8  0.9  final_Predicted  \n",
       "6676    1    1    1    1    1    1    1                1  \n",
       "6138    1    1    1    1    1    1    1                1  \n",
       "8650    1    1    1    1    1    1    1                1  \n",
       "3423    0    0    0    0    0    0    0                0  \n",
       "6552    0    0    0    0    0    0    0                0  "
      ]
     },
     "execution_count": 145,
     "metadata": {},
     "output_type": "execute_result"
    }
   ],
   "source": [
    "#### From the curve above, 0.3 is the optimum point to take it as a cutoff probability.\n",
    "\n",
    "y_train_pred_final['final_Predicted'] = y_train_pred_final.Converted_Predicted.map( lambda x: 1 if x > 0.3 else 0)\n",
    "\n",
    "y_train_pred_final.head()"
   ]
  },
  {
   "cell_type": "code",
   "execution_count": 146,
   "id": "cdf329f6",
   "metadata": {},
   "outputs": [
    {
     "data": {
      "text/plain": [
       "0.9210694844700609"
      ]
     },
     "execution_count": 146,
     "metadata": {},
     "output_type": "execute_result"
    }
   ],
   "source": [
    "# Ooverall accuracy.\n",
    "metrics.accuracy_score(y_train_pred_final.Converted, y_train_pred_final.final_Predicted)"
   ]
  },
  {
   "cell_type": "code",
   "execution_count": 147,
   "id": "cad72dc7",
   "metadata": {},
   "outputs": [
    {
     "data": {
      "text/plain": [
       "array([[3718,  153],\n",
       "       [ 340, 2035]], dtype=int64)"
      ]
     },
     "execution_count": 147,
     "metadata": {},
     "output_type": "execute_result"
    }
   ],
   "source": [
    "confusion2 = metrics.confusion_matrix(y_train_pred_final.Converted, y_train_pred_final.final_Predicted )\n",
    "confusion2"
   ]
  },
  {
   "cell_type": "code",
   "execution_count": 148,
   "id": "8ea5bbaa",
   "metadata": {},
   "outputs": [],
   "source": [
    "TP = confusion2[1,1]  \n",
    "TN = confusion2[0,0] \n",
    "FP = confusion2[0,1] \n",
    "FN = confusion2[1,0] "
   ]
  },
  {
   "cell_type": "code",
   "execution_count": 149,
   "id": "1214996a",
   "metadata": {},
   "outputs": [
    {
     "data": {
      "text/plain": [
       "0.8568421052631578"
      ]
     },
     "execution_count": 149,
     "metadata": {},
     "output_type": "execute_result"
    }
   ],
   "source": [
    "# Sensitivity = Recall\n",
    "recall = TP / float(TP+FN)\n",
    "recall"
   ]
  },
  {
   "cell_type": "code",
   "execution_count": 150,
   "id": "a0a4df3c",
   "metadata": {},
   "outputs": [
    {
     "data": {
      "text/plain": [
       "0.9604753293722552"
      ]
     },
     "execution_count": 150,
     "metadata": {},
     "output_type": "execute_result"
    }
   ],
   "source": [
    "# Specificity\n",
    "TN / float(TN+FP)"
   ]
  },
  {
   "cell_type": "code",
   "execution_count": 151,
   "id": "2b7c4208",
   "metadata": {},
   "outputs": [
    {
     "data": {
      "text/plain": [
       "0.930073126142596"
      ]
     },
     "execution_count": 151,
     "metadata": {},
     "output_type": "execute_result"
    }
   ],
   "source": [
    "# Precision\n",
    "precision=TP/float(TP+FP)\n",
    "precision"
   ]
  },
  {
   "cell_type": "code",
   "execution_count": 152,
   "id": "75247790",
   "metadata": {},
   "outputs": [
    {
     "data": {
      "text/plain": [
       "0.8919570458031997"
      ]
     },
     "execution_count": 152,
     "metadata": {},
     "output_type": "execute_result"
    }
   ],
   "source": [
    "F1Scoure=(2*precision*recall)/float(precision+recall)\n",
    "F1Scoure"
   ]
  },
  {
   "attachments": {},
   "cell_type": "markdown",
   "id": "fc5ee867",
   "metadata": {},
   "source": [
    "__<div style=\"background-color:#ADD8E6; color:red ;font-size:15px; height: 25px;\">Observation:</div>__\n",
    "\n",
    "<font color='#800000'>So as we can see above the model seems to be performing well. The ROC curve has a value of 0.9582 , which is very good. We have the following values for the Train Data:</font>\n",
    "  - <font color='#800000'>Accuracy    : 92.11%</font>\n",
    "  - <font color='#800000'>Sensitivity : 85.68%</font>\n",
    "  - <font color='#800000'>Specificity : 96.05%</font>\n",
    "  - <font color='#800000'>F1 Scoure : 89.20%</font>"
   ]
  },
  {
   "cell_type": "markdown",
   "id": "a886d348",
   "metadata": {},
   "source": [
    "# <font color=#00008B>7. Predictions on test set</font>"
   ]
  },
  {
   "cell_type": "code",
   "execution_count": 153,
   "id": "d914f4da",
   "metadata": {},
   "outputs": [
    {
     "data": {
      "text/html": [
       "<div>\n",
       "<style scoped>\n",
       "    .dataframe tbody tr th:only-of-type {\n",
       "        vertical-align: middle;\n",
       "    }\n",
       "\n",
       "    .dataframe tbody tr th {\n",
       "        vertical-align: top;\n",
       "    }\n",
       "\n",
       "    .dataframe thead th {\n",
       "        text-align: right;\n",
       "    }\n",
       "</style>\n",
       "<table border=\"1\" class=\"dataframe\">\n",
       "  <thead>\n",
       "    <tr style=\"text-align: right;\">\n",
       "      <th></th>\n",
       "      <th>Do Not Email</th>\n",
       "      <th>TotalVisits</th>\n",
       "      <th>Total Time Spent on Website</th>\n",
       "      <th>Page Views Per Visit</th>\n",
       "      <th>A free copy of Mastering The Interview</th>\n",
       "      <th>Lead Origin_Landing Page Submission</th>\n",
       "      <th>Lead Origin_Lead Add Form</th>\n",
       "      <th>Lead Origin_Lead Import</th>\n",
       "      <th>Lead Source_Direct Traffic</th>\n",
       "      <th>Lead Source_Google</th>\n",
       "      <th>...</th>\n",
       "      <th>City_Other Cities of Maharashtra</th>\n",
       "      <th>City_Other Metro Cities</th>\n",
       "      <th>City_Thane &amp; Outskirts</th>\n",
       "      <th>City_Tier II Cities</th>\n",
       "      <th>Last Notable Activity_Email Link Clicked</th>\n",
       "      <th>Last Notable Activity_Email Opened</th>\n",
       "      <th>Last Notable Activity_Modified</th>\n",
       "      <th>Last Notable Activity_Olark Chat Conversation</th>\n",
       "      <th>Last Notable Activity_Page Visited on Website</th>\n",
       "      <th>Last Notable Activity_SMS Sent</th>\n",
       "    </tr>\n",
       "  </thead>\n",
       "  <tbody>\n",
       "    <tr>\n",
       "      <th>7625</th>\n",
       "      <td>-0.297688</td>\n",
       "      <td>-0.397342</td>\n",
       "      <td>2.145058</td>\n",
       "      <td>-0.164140</td>\n",
       "      <td>1.446506</td>\n",
       "      <td>1</td>\n",
       "      <td>0</td>\n",
       "      <td>0</td>\n",
       "      <td>1</td>\n",
       "      <td>0</td>\n",
       "      <td>...</td>\n",
       "      <td>1</td>\n",
       "      <td>0</td>\n",
       "      <td>0</td>\n",
       "      <td>0</td>\n",
       "      <td>0</td>\n",
       "      <td>1</td>\n",
       "      <td>0</td>\n",
       "      <td>0</td>\n",
       "      <td>0</td>\n",
       "      <td>0</td>\n",
       "    </tr>\n",
       "    <tr>\n",
       "      <th>5207</th>\n",
       "      <td>-0.297688</td>\n",
       "      <td>0.277837</td>\n",
       "      <td>0.772700</td>\n",
       "      <td>0.876565</td>\n",
       "      <td>1.446506</td>\n",
       "      <td>1</td>\n",
       "      <td>0</td>\n",
       "      <td>0</td>\n",
       "      <td>1</td>\n",
       "      <td>0</td>\n",
       "      <td>...</td>\n",
       "      <td>0</td>\n",
       "      <td>0</td>\n",
       "      <td>0</td>\n",
       "      <td>0</td>\n",
       "      <td>0</td>\n",
       "      <td>1</td>\n",
       "      <td>0</td>\n",
       "      <td>0</td>\n",
       "      <td>0</td>\n",
       "      <td>0</td>\n",
       "    </tr>\n",
       "    <tr>\n",
       "      <th>2390</th>\n",
       "      <td>-0.297688</td>\n",
       "      <td>-1.072521</td>\n",
       "      <td>-0.885722</td>\n",
       "      <td>-1.204846</td>\n",
       "      <td>-0.691321</td>\n",
       "      <td>0</td>\n",
       "      <td>1</td>\n",
       "      <td>0</td>\n",
       "      <td>0</td>\n",
       "      <td>0</td>\n",
       "      <td>...</td>\n",
       "      <td>0</td>\n",
       "      <td>0</td>\n",
       "      <td>0</td>\n",
       "      <td>0</td>\n",
       "      <td>0</td>\n",
       "      <td>0</td>\n",
       "      <td>0</td>\n",
       "      <td>0</td>\n",
       "      <td>0</td>\n",
       "      <td>1</td>\n",
       "    </tr>\n",
       "    <tr>\n",
       "      <th>4362</th>\n",
       "      <td>-0.297688</td>\n",
       "      <td>-0.397342</td>\n",
       "      <td>-0.451952</td>\n",
       "      <td>-0.164140</td>\n",
       "      <td>-0.691321</td>\n",
       "      <td>1</td>\n",
       "      <td>0</td>\n",
       "      <td>0</td>\n",
       "      <td>0</td>\n",
       "      <td>1</td>\n",
       "      <td>...</td>\n",
       "      <td>0</td>\n",
       "      <td>0</td>\n",
       "      <td>1</td>\n",
       "      <td>0</td>\n",
       "      <td>0</td>\n",
       "      <td>0</td>\n",
       "      <td>0</td>\n",
       "      <td>0</td>\n",
       "      <td>0</td>\n",
       "      <td>1</td>\n",
       "    </tr>\n",
       "    <tr>\n",
       "      <th>1023</th>\n",
       "      <td>-0.297688</td>\n",
       "      <td>3.991321</td>\n",
       "      <td>-0.293028</td>\n",
       "      <td>1.396918</td>\n",
       "      <td>-0.691321</td>\n",
       "      <td>1</td>\n",
       "      <td>0</td>\n",
       "      <td>0</td>\n",
       "      <td>1</td>\n",
       "      <td>0</td>\n",
       "      <td>...</td>\n",
       "      <td>0</td>\n",
       "      <td>0</td>\n",
       "      <td>0</td>\n",
       "      <td>0</td>\n",
       "      <td>0</td>\n",
       "      <td>1</td>\n",
       "      <td>0</td>\n",
       "      <td>0</td>\n",
       "      <td>0</td>\n",
       "      <td>0</td>\n",
       "    </tr>\n",
       "  </tbody>\n",
       "</table>\n",
       "<p>5 rows × 63 columns</p>\n",
       "</div>"
      ],
      "text/plain": [
       "      Do Not Email  TotalVisits  Total Time Spent on Website  \\\n",
       "7625     -0.297688    -0.397342                     2.145058   \n",
       "5207     -0.297688     0.277837                     0.772700   \n",
       "2390     -0.297688    -1.072521                    -0.885722   \n",
       "4362     -0.297688    -0.397342                    -0.451952   \n",
       "1023     -0.297688     3.991321                    -0.293028   \n",
       "\n",
       "      Page Views Per Visit  A free copy of Mastering The Interview  \\\n",
       "7625             -0.164140                                1.446506   \n",
       "5207              0.876565                                1.446506   \n",
       "2390             -1.204846                               -0.691321   \n",
       "4362             -0.164140                               -0.691321   \n",
       "1023              1.396918                               -0.691321   \n",
       "\n",
       "      Lead Origin_Landing Page Submission  Lead Origin_Lead Add Form  \\\n",
       "7625                                    1                          0   \n",
       "5207                                    1                          0   \n",
       "2390                                    0                          1   \n",
       "4362                                    1                          0   \n",
       "1023                                    1                          0   \n",
       "\n",
       "      Lead Origin_Lead Import  Lead Source_Direct Traffic  Lead Source_Google  \\\n",
       "7625                        0                           1                   0   \n",
       "5207                        0                           1                   0   \n",
       "2390                        0                           0                   0   \n",
       "4362                        0                           0                   1   \n",
       "1023                        0                           1                   0   \n",
       "\n",
       "      ...  City_Other Cities of Maharashtra  City_Other Metro Cities  \\\n",
       "7625  ...                                 1                        0   \n",
       "5207  ...                                 0                        0   \n",
       "2390  ...                                 0                        0   \n",
       "4362  ...                                 0                        0   \n",
       "1023  ...                                 0                        0   \n",
       "\n",
       "      City_Thane & Outskirts  City_Tier II Cities  \\\n",
       "7625                       0                    0   \n",
       "5207                       0                    0   \n",
       "2390                       0                    0   \n",
       "4362                       1                    0   \n",
       "1023                       0                    0   \n",
       "\n",
       "      Last Notable Activity_Email Link Clicked  \\\n",
       "7625                                         0   \n",
       "5207                                         0   \n",
       "2390                                         0   \n",
       "4362                                         0   \n",
       "1023                                         0   \n",
       "\n",
       "      Last Notable Activity_Email Opened  Last Notable Activity_Modified  \\\n",
       "7625                                   1                               0   \n",
       "5207                                   1                               0   \n",
       "2390                                   0                               0   \n",
       "4362                                   0                               0   \n",
       "1023                                   1                               0   \n",
       "\n",
       "      Last Notable Activity_Olark Chat Conversation  \\\n",
       "7625                                              0   \n",
       "5207                                              0   \n",
       "2390                                              0   \n",
       "4362                                              0   \n",
       "1023                                              0   \n",
       "\n",
       "      Last Notable Activity_Page Visited on Website  \\\n",
       "7625                                              0   \n",
       "5207                                              0   \n",
       "2390                                              0   \n",
       "4362                                              0   \n",
       "1023                                              0   \n",
       "\n",
       "      Last Notable Activity_SMS Sent  \n",
       "7625                               0  \n",
       "5207                               0  \n",
       "2390                               1  \n",
       "4362                               1  \n",
       "1023                               0  \n",
       "\n",
       "[5 rows x 63 columns]"
      ]
     },
     "execution_count": 153,
     "metadata": {},
     "output_type": "execute_result"
    }
   ],
   "source": [
    "#scaling test set\n",
    "num_cols=X_test.select_dtypes(include=['float64', 'int64']).columns\n",
    "X_test[num_cols] = scaler.fit_transform(X_test[num_cols])\n",
    "X_test.head()"
   ]
  },
  {
   "cell_type": "code",
   "execution_count": 154,
   "id": "05019b01",
   "metadata": {},
   "outputs": [
    {
     "data": {
      "text/html": [
       "<div>\n",
       "<style scoped>\n",
       "    .dataframe tbody tr th:only-of-type {\n",
       "        vertical-align: middle;\n",
       "    }\n",
       "\n",
       "    .dataframe tbody tr th {\n",
       "        vertical-align: top;\n",
       "    }\n",
       "\n",
       "    .dataframe thead th {\n",
       "        text-align: right;\n",
       "    }\n",
       "</style>\n",
       "<table border=\"1\" class=\"dataframe\">\n",
       "  <thead>\n",
       "    <tr style=\"text-align: right;\">\n",
       "      <th></th>\n",
       "      <th>Lead Source_Welingak Website</th>\n",
       "      <th>Last Activity_SMS Sent</th>\n",
       "      <th>Tags_Already a student</th>\n",
       "      <th>Tags_Closed by Horizzon</th>\n",
       "      <th>Tags_Interested in other courses</th>\n",
       "      <th>Tags_Lost to EINS</th>\n",
       "      <th>Tags_Others</th>\n",
       "      <th>Tags_Ringing</th>\n",
       "      <th>Tags_Will revert after reading the email</th>\n",
       "      <th>Tags_switched off</th>\n",
       "      <th>Last Notable Activity_Modified</th>\n",
       "      <th>Last Notable Activity_Olark Chat Conversation</th>\n",
       "    </tr>\n",
       "  </thead>\n",
       "  <tbody>\n",
       "    <tr>\n",
       "      <th>7625</th>\n",
       "      <td>0</td>\n",
       "      <td>0</td>\n",
       "      <td>1</td>\n",
       "      <td>0</td>\n",
       "      <td>0</td>\n",
       "      <td>0</td>\n",
       "      <td>0</td>\n",
       "      <td>0</td>\n",
       "      <td>0</td>\n",
       "      <td>0</td>\n",
       "      <td>0</td>\n",
       "      <td>0</td>\n",
       "    </tr>\n",
       "    <tr>\n",
       "      <th>5207</th>\n",
       "      <td>0</td>\n",
       "      <td>0</td>\n",
       "      <td>0</td>\n",
       "      <td>0</td>\n",
       "      <td>0</td>\n",
       "      <td>0</td>\n",
       "      <td>0</td>\n",
       "      <td>0</td>\n",
       "      <td>1</td>\n",
       "      <td>0</td>\n",
       "      <td>0</td>\n",
       "      <td>0</td>\n",
       "    </tr>\n",
       "    <tr>\n",
       "      <th>2390</th>\n",
       "      <td>0</td>\n",
       "      <td>1</td>\n",
       "      <td>0</td>\n",
       "      <td>0</td>\n",
       "      <td>0</td>\n",
       "      <td>0</td>\n",
       "      <td>0</td>\n",
       "      <td>0</td>\n",
       "      <td>1</td>\n",
       "      <td>0</td>\n",
       "      <td>0</td>\n",
       "      <td>0</td>\n",
       "    </tr>\n",
       "    <tr>\n",
       "      <th>4362</th>\n",
       "      <td>0</td>\n",
       "      <td>1</td>\n",
       "      <td>0</td>\n",
       "      <td>0</td>\n",
       "      <td>0</td>\n",
       "      <td>0</td>\n",
       "      <td>0</td>\n",
       "      <td>1</td>\n",
       "      <td>0</td>\n",
       "      <td>0</td>\n",
       "      <td>0</td>\n",
       "      <td>0</td>\n",
       "    </tr>\n",
       "    <tr>\n",
       "      <th>1023</th>\n",
       "      <td>0</td>\n",
       "      <td>0</td>\n",
       "      <td>0</td>\n",
       "      <td>0</td>\n",
       "      <td>1</td>\n",
       "      <td>0</td>\n",
       "      <td>0</td>\n",
       "      <td>0</td>\n",
       "      <td>0</td>\n",
       "      <td>0</td>\n",
       "      <td>0</td>\n",
       "      <td>0</td>\n",
       "    </tr>\n",
       "  </tbody>\n",
       "</table>\n",
       "</div>"
      ],
      "text/plain": [
       "      Lead Source_Welingak Website  Last Activity_SMS Sent  \\\n",
       "7625                             0                       0   \n",
       "5207                             0                       0   \n",
       "2390                             0                       1   \n",
       "4362                             0                       1   \n",
       "1023                             0                       0   \n",
       "\n",
       "      Tags_Already a student  Tags_Closed by Horizzon  \\\n",
       "7625                       1                        0   \n",
       "5207                       0                        0   \n",
       "2390                       0                        0   \n",
       "4362                       0                        0   \n",
       "1023                       0                        0   \n",
       "\n",
       "      Tags_Interested in other courses  Tags_Lost to EINS  Tags_Others  \\\n",
       "7625                                 0                  0            0   \n",
       "5207                                 0                  0            0   \n",
       "2390                                 0                  0            0   \n",
       "4362                                 0                  0            0   \n",
       "1023                                 1                  0            0   \n",
       "\n",
       "      Tags_Ringing  Tags_Will revert after reading the email  \\\n",
       "7625             0                                         0   \n",
       "5207             0                                         1   \n",
       "2390             0                                         1   \n",
       "4362             1                                         0   \n",
       "1023             0                                         0   \n",
       "\n",
       "      Tags_switched off  Last Notable Activity_Modified  \\\n",
       "7625                  0                               0   \n",
       "5207                  0                               0   \n",
       "2390                  0                               0   \n",
       "4362                  0                               0   \n",
       "1023                  0                               0   \n",
       "\n",
       "      Last Notable Activity_Olark Chat Conversation  \n",
       "7625                                              0  \n",
       "5207                                              0  \n",
       "2390                                              0  \n",
       "4362                                              0  \n",
       "1023                                              0  "
      ]
     },
     "execution_count": 154,
     "metadata": {},
     "output_type": "execute_result"
    }
   ],
   "source": [
    "X_test = X_test[col]\n",
    "X_test.head()"
   ]
  },
  {
   "cell_type": "code",
   "execution_count": 155,
   "id": "cf3ba24d",
   "metadata": {},
   "outputs": [],
   "source": [
    "X_test_sm = sm.add_constant(X_test)"
   ]
  },
  {
   "cell_type": "code",
   "execution_count": 156,
   "id": "96ea46da",
   "metadata": {},
   "outputs": [
    {
     "data": {
      "text/plain": [
       "7625    0.016332\n",
       "5207    0.969823\n",
       "2390    0.996401\n",
       "4362    0.068490\n",
       "1023    0.044659\n",
       "8226    0.969823\n",
       "3079    0.218515\n",
       "530     0.016332\n",
       "7873    0.040822\n",
       "5146    0.996401\n",
       "dtype: float64"
      ]
     },
     "execution_count": 156,
     "metadata": {},
     "output_type": "execute_result"
    }
   ],
   "source": [
    "y_test_pred = res.predict(X_test_sm)\n",
    "y_test_pred[:10]"
   ]
  },
  {
   "cell_type": "code",
   "execution_count": 157,
   "id": "9c17f1e4",
   "metadata": {},
   "outputs": [
    {
     "data": {
      "text/html": [
       "<div>\n",
       "<style scoped>\n",
       "    .dataframe tbody tr th:only-of-type {\n",
       "        vertical-align: middle;\n",
       "    }\n",
       "\n",
       "    .dataframe tbody tr th {\n",
       "        vertical-align: top;\n",
       "    }\n",
       "\n",
       "    .dataframe thead th {\n",
       "        text-align: right;\n",
       "    }\n",
       "</style>\n",
       "<table border=\"1\" class=\"dataframe\">\n",
       "  <thead>\n",
       "    <tr style=\"text-align: right;\">\n",
       "      <th></th>\n",
       "      <th>Converted</th>\n",
       "      <th>Converted_Predicted</th>\n",
       "      <th>Row_Index</th>\n",
       "    </tr>\n",
       "  </thead>\n",
       "  <tbody>\n",
       "    <tr>\n",
       "      <th>7625</th>\n",
       "      <td>0</td>\n",
       "      <td>0.016332</td>\n",
       "      <td>7625</td>\n",
       "    </tr>\n",
       "    <tr>\n",
       "      <th>5207</th>\n",
       "      <td>1</td>\n",
       "      <td>0.969823</td>\n",
       "      <td>5207</td>\n",
       "    </tr>\n",
       "    <tr>\n",
       "      <th>2390</th>\n",
       "      <td>1</td>\n",
       "      <td>0.996401</td>\n",
       "      <td>2390</td>\n",
       "    </tr>\n",
       "    <tr>\n",
       "      <th>4362</th>\n",
       "      <td>0</td>\n",
       "      <td>0.068490</td>\n",
       "      <td>4362</td>\n",
       "    </tr>\n",
       "    <tr>\n",
       "      <th>1023</th>\n",
       "      <td>0</td>\n",
       "      <td>0.044659</td>\n",
       "      <td>1023</td>\n",
       "    </tr>\n",
       "  </tbody>\n",
       "</table>\n",
       "</div>"
      ],
      "text/plain": [
       "      Converted  Converted_Predicted  Row_Index\n",
       "7625          0             0.016332       7625\n",
       "5207          1             0.969823       5207\n",
       "2390          1             0.996401       2390\n",
       "4362          0             0.068490       4362\n",
       "1023          0             0.044659       1023"
      ]
     },
     "execution_count": 157,
     "metadata": {},
     "output_type": "execute_result"
    }
   ],
   "source": [
    "y_test_pred_final = pd.DataFrame({'Converted':y_test.values, 'Converted_Predicted':y_test_pred, \n",
    "                                   'Row_Index':y_test.index})\n",
    "y_test_pred_final.head()"
   ]
  },
  {
   "cell_type": "code",
   "execution_count": 158,
   "id": "823d5388",
   "metadata": {},
   "outputs": [
    {
     "data": {
      "text/html": [
       "<div>\n",
       "<style scoped>\n",
       "    .dataframe tbody tr th:only-of-type {\n",
       "        vertical-align: middle;\n",
       "    }\n",
       "\n",
       "    .dataframe tbody tr th {\n",
       "        vertical-align: top;\n",
       "    }\n",
       "\n",
       "    .dataframe thead th {\n",
       "        text-align: right;\n",
       "    }\n",
       "</style>\n",
       "<table border=\"1\" class=\"dataframe\">\n",
       "  <thead>\n",
       "    <tr style=\"text-align: right;\">\n",
       "      <th></th>\n",
       "      <th>Converted</th>\n",
       "      <th>Converted_Predicted</th>\n",
       "      <th>Row_Index</th>\n",
       "      <th>Predicted</th>\n",
       "    </tr>\n",
       "  </thead>\n",
       "  <tbody>\n",
       "    <tr>\n",
       "      <th>7625</th>\n",
       "      <td>0</td>\n",
       "      <td>0.016332</td>\n",
       "      <td>7625</td>\n",
       "      <td>0</td>\n",
       "    </tr>\n",
       "    <tr>\n",
       "      <th>5207</th>\n",
       "      <td>1</td>\n",
       "      <td>0.969823</td>\n",
       "      <td>5207</td>\n",
       "      <td>1</td>\n",
       "    </tr>\n",
       "    <tr>\n",
       "      <th>2390</th>\n",
       "      <td>1</td>\n",
       "      <td>0.996401</td>\n",
       "      <td>2390</td>\n",
       "      <td>1</td>\n",
       "    </tr>\n",
       "    <tr>\n",
       "      <th>4362</th>\n",
       "      <td>0</td>\n",
       "      <td>0.068490</td>\n",
       "      <td>4362</td>\n",
       "      <td>0</td>\n",
       "    </tr>\n",
       "    <tr>\n",
       "      <th>1023</th>\n",
       "      <td>0</td>\n",
       "      <td>0.044659</td>\n",
       "      <td>1023</td>\n",
       "      <td>0</td>\n",
       "    </tr>\n",
       "  </tbody>\n",
       "</table>\n",
       "</div>"
      ],
      "text/plain": [
       "      Converted  Converted_Predicted  Row_Index  Predicted\n",
       "7625          0             0.016332       7625          0\n",
       "5207          1             0.969823       5207          1\n",
       "2390          1             0.996401       2390          1\n",
       "4362          0             0.068490       4362          0\n",
       "1023          0             0.044659       1023          0"
      ]
     },
     "execution_count": 158,
     "metadata": {},
     "output_type": "execute_result"
    }
   ],
   "source": [
    "y_test_pred_final['Predicted'] = y_test_pred_final['Converted_Predicted'].map(lambda x: 1 if x > 0.5 else 0)\n",
    "y_test_pred_final.head()"
   ]
  },
  {
   "cell_type": "code",
   "execution_count": null,
   "id": "e64b0639",
   "metadata": {},
   "outputs": [],
   "source": []
  },
  {
   "cell_type": "code",
   "execution_count": 159,
   "id": "f2d9a5ea",
   "metadata": {
    "scrolled": true
   },
   "outputs": [
    {
     "name": "stdout",
     "output_type": "stream",
     "text": [
      "[[1621   63]\n",
      " [ 120  874]]\n"
     ]
    }
   ],
   "source": [
    "from sklearn import metrics\n",
    "# Confusion matrix \n",
    "test_confusion = metrics.confusion_matrix(y_test_pred_final.Converted, y_test_pred_final.Predicted )\n",
    "print(test_confusion)\n",
    "\n"
   ]
  },
  {
   "cell_type": "code",
   "execution_count": 160,
   "id": "68b32f25",
   "metadata": {
    "scrolled": false
   },
   "outputs": [
    {
     "name": "stdout",
     "output_type": "stream",
     "text": [
      "0.9316654219566841\n"
     ]
    }
   ],
   "source": [
    "# Overall accuracy.\n",
    "print(metrics.accuracy_score(y_test_pred_final.Converted, y_test_pred_final.Predicted))"
   ]
  },
  {
   "cell_type": "code",
   "execution_count": 161,
   "id": "801f79f2",
   "metadata": {},
   "outputs": [],
   "source": [
    "test_TP = test_confusion[1,1] \n",
    "test_TN = test_confusion[0,0] \n",
    "test_FP = test_confusion[0,1] \n",
    "test_FN = test_confusion[1,0] "
   ]
  },
  {
   "cell_type": "code",
   "execution_count": 162,
   "id": "b98483ac",
   "metadata": {},
   "outputs": [
    {
     "data": {
      "text/plain": [
       "0.8792756539235412"
      ]
     },
     "execution_count": 162,
     "metadata": {},
     "output_type": "execute_result"
    }
   ],
   "source": [
    "# Sensitivity = Recall\n",
    "test_recall = test_TP / float(test_TP+test_FN)\n",
    "test_recall"
   ]
  },
  {
   "cell_type": "code",
   "execution_count": 163,
   "id": "f11cd86a",
   "metadata": {},
   "outputs": [
    {
     "data": {
      "text/plain": [
       "0.9625890736342043"
      ]
     },
     "execution_count": 163,
     "metadata": {},
     "output_type": "execute_result"
    }
   ],
   "source": [
    "# Specificity\n",
    "test_TN / float(test_TN+test_FP)"
   ]
  },
  {
   "cell_type": "code",
   "execution_count": 164,
   "id": "b3c0ebfb",
   "metadata": {},
   "outputs": [
    {
     "data": {
      "text/plain": [
       "0.9327641408751334"
      ]
     },
     "execution_count": 164,
     "metadata": {},
     "output_type": "execute_result"
    }
   ],
   "source": [
    "# Precision\n",
    "test_precision=test_TP/float(test_TP+test_FP)\n",
    "test_precision"
   ]
  },
  {
   "cell_type": "code",
   "execution_count": 165,
   "id": "29c166bb",
   "metadata": {},
   "outputs": [
    {
     "data": {
      "text/plain": [
       "0.9052304505437597"
      ]
     },
     "execution_count": 165,
     "metadata": {},
     "output_type": "execute_result"
    }
   ],
   "source": [
    "test_F1Scoure=(2*test_precision*test_recall)/float(test_precision+test_recall)\n",
    "test_F1Scoure"
   ]
  },
  {
   "cell_type": "code",
   "execution_count": 166,
   "id": "3e8ea91f",
   "metadata": {},
   "outputs": [
    {
     "name": "stdout",
     "output_type": "stream",
     "text": [
      "0.9327641408751334\n"
     ]
    }
   ],
   "source": [
    "# Positive predictive value \n",
    "print (test_TP / float(test_TP+test_FP))"
   ]
  },
  {
   "cell_type": "code",
   "execution_count": 167,
   "id": "9e44662e",
   "metadata": {},
   "outputs": [
    {
     "name": "stdout",
     "output_type": "stream",
     "text": [
      "0.9310740953475014\n"
     ]
    }
   ],
   "source": [
    "# Negative predictive value\n",
    "print (test_TN / float(test_TN+ test_FN))"
   ]
  },
  {
   "cell_type": "markdown",
   "id": "1f7bae7c",
   "metadata": {},
   "source": [
    "# <font color=#00008B>8. Feature Importance</font>"
   ]
  },
  {
   "cell_type": "code",
   "execution_count": 168,
   "id": "5b54ca09",
   "metadata": {},
   "outputs": [
    {
     "data": {
      "text/plain": [
       "Lead Source_Welingak Website                     4.14\n",
       "Last Activity_SMS Sent                           2.15\n",
       "Tags_Already a student                          -2.82\n",
       "Tags_Closed by Horizzon                          7.10\n",
       "Tags_Interested in other courses                -1.79\n",
       "Tags_Lost to EINS                                5.94\n",
       "Tags_Others                                     -2.23\n",
       "Tags_Ringing                                    -3.49\n",
       "Tags_Will revert after reading the email         4.74\n",
       "Tags_switched off                               -4.31\n",
       "Last Notable Activity_Modified                  -1.88\n",
       "Last Notable Activity_Olark Chat Conversation   -1.45\n",
       "dtype: float64"
      ]
     },
     "execution_count": 168,
     "metadata": {},
     "output_type": "execute_result"
    }
   ],
   "source": [
    "# Selecting the coefficients of the selected features\n",
    "pd.options.display.float_format = '{:.2f}'.format\n",
    "new_params = res.params[1:]\n",
    "new_params"
   ]
  },
  {
   "cell_type": "code",
   "execution_count": 169,
   "id": "c4f045c2",
   "metadata": {},
   "outputs": [
    {
     "data": {
      "text/plain": [
       "Lead Source_Welingak Website                     58.26\n",
       "Last Activity_SMS Sent                           30.33\n",
       "Tags_Already a student                          -39.77\n",
       "Tags_Closed by Horizzon                         100.00\n",
       "Tags_Interested in other courses                -25.19\n",
       "Tags_Lost to EINS                                83.62\n",
       "Tags_Others                                     -31.41\n",
       "Tags_Ringing                                    -49.15\n",
       "Tags_Will revert after reading the email         66.83\n",
       "Tags_switched off                               -60.69\n",
       "Last Notable Activity_Modified                  -26.52\n",
       "Last Notable Activity_Olark Chat Conversation   -20.45\n",
       "dtype: float64"
      ]
     },
     "execution_count": 169,
     "metadata": {},
     "output_type": "execute_result"
    }
   ],
   "source": [
    "# Getting a relative coeffient value for all the features\n",
    "feature_importance = new_params\n",
    "feature_importance = 100.0 * (feature_importance / feature_importance.max())\n",
    "feature_importance"
   ]
  },
  {
   "cell_type": "code",
   "execution_count": 170,
   "id": "2f31242e",
   "metadata": {},
   "outputs": [
    {
     "data": {
      "text/plain": [
       "Lead Source_Welingak Website                      9\n",
       "Last Activity_SMS Sent                            7\n",
       "Tags_Already a student                            2\n",
       "Tags_Closed by Horizzon                           6\n",
       "Tags_Interested in other courses                 10\n",
       "Tags_Lost to EINS                                 4\n",
       "Tags_Others                                      11\n",
       "Tags_Ringing                                      1\n",
       "Tags_Will revert after reading the email          0\n",
       "Tags_switched off                                 8\n",
       "Last Notable Activity_Modified                    5\n",
       "Last Notable Activity_Olark Chat Conversation     3\n",
       "dtype: int64"
      ]
     },
     "execution_count": 170,
     "metadata": {},
     "output_type": "execute_result"
    }
   ],
   "source": [
    "# Sorting the feature variables based on their relative coefficient values\n",
    "sorted_idx = np.argsort(feature_importance,kind='quicksort',order='list of str')\n",
    "sorted_idx"
   ]
  },
  {
   "cell_type": "code",
   "execution_count": 171,
   "id": "5edcee70",
   "metadata": {},
   "outputs": [
    {
     "data": {
      "image/png": "[encoded data removed]",
      "text/plain": [
       "<Figure size 1000x600 with 1 Axes>"
      ]
     },
     "metadata": {},
     "output_type": "display_data"
    }
   ],
   "source": [
    "# Plot showing the feature variables based on their relative coefficient values\n",
    "pos = np.arange(sorted_idx.shape[0]) + .5\n",
    "\n",
    "featfig = plt.figure(figsize=(10,6))\n",
    "featax = featfig.add_subplot(1, 1, 1)\n",
    "featax.barh(pos, feature_importance[sorted_idx], align='center', color = 'tab:red',alpha=0.8)\n",
    "featax.set_yticks(pos)\n",
    "featax.set_yticklabels(np.array(X_train[col].columns)[sorted_idx], fontsize=12)\n",
    "featax.set_xlabel('Relative Feature Importance', fontsize=14)\n",
    "\n",
    "plt.tight_layout()   \n",
    "plt.show()"
   ]
  },
  {
   "cell_type": "code",
   "execution_count": 172,
   "id": "2a19cd9f",
   "metadata": {},
   "outputs": [
    {
     "data": {
      "text/html": [
       "<div>\n",
       "<style scoped>\n",
       "    .dataframe tbody tr th:only-of-type {\n",
       "        vertical-align: middle;\n",
       "    }\n",
       "\n",
       "    .dataframe tbody tr th {\n",
       "        vertical-align: top;\n",
       "    }\n",
       "\n",
       "    .dataframe thead th {\n",
       "        text-align: right;\n",
       "    }\n",
       "</style>\n",
       "<table border=\"1\" class=\"dataframe\">\n",
       "  <thead>\n",
       "    <tr style=\"text-align: right;\">\n",
       "      <th></th>\n",
       "      <th>index</th>\n",
       "      <th>0</th>\n",
       "    </tr>\n",
       "  </thead>\n",
       "  <tbody>\n",
       "    <tr>\n",
       "      <th>3</th>\n",
       "      <td>Tags_Closed by Horizzon</td>\n",
       "      <td>100.00</td>\n",
       "    </tr>\n",
       "    <tr>\n",
       "      <th>5</th>\n",
       "      <td>Tags_Lost to EINS</td>\n",
       "      <td>83.62</td>\n",
       "    </tr>\n",
       "    <tr>\n",
       "      <th>8</th>\n",
       "      <td>Tags_Will revert after reading the email</td>\n",
       "      <td>66.83</td>\n",
       "    </tr>\n",
       "  </tbody>\n",
       "</table>\n",
       "</div>"
      ],
      "text/plain": [
       "                                      index      0\n",
       "3                   Tags_Closed by Horizzon 100.00\n",
       "5                         Tags_Lost to EINS  83.62\n",
       "8  Tags_Will revert after reading the email  66.83"
      ]
     },
     "execution_count": 172,
     "metadata": {},
     "output_type": "execute_result"
    }
   ],
   "source": [
    "# Selecting Top 3 features\n",
    "pd.DataFrame(feature_importance).reset_index().sort_values(by=0,ascending=False).head(3)"
   ]
  },
  {
   "cell_type": "code",
   "execution_count": 173,
   "id": "bba675fd",
   "metadata": {},
   "outputs": [
    {
     "data": {
      "text/html": [
       "<div>\n",
       "<style scoped>\n",
       "    .dataframe tbody tr th:only-of-type {\n",
       "        vertical-align: middle;\n",
       "    }\n",
       "\n",
       "    .dataframe tbody tr th {\n",
       "        vertical-align: top;\n",
       "    }\n",
       "\n",
       "    .dataframe thead th {\n",
       "        text-align: right;\n",
       "    }\n",
       "</style>\n",
       "<table border=\"1\" class=\"dataframe\">\n",
       "  <thead>\n",
       "    <tr style=\"text-align: right;\">\n",
       "      <th></th>\n",
       "      <th>index</th>\n",
       "      <th>0</th>\n",
       "    </tr>\n",
       "  </thead>\n",
       "  <tbody>\n",
       "    <tr>\n",
       "      <th>3</th>\n",
       "      <td>Tags_Closed by Horizzon</td>\n",
       "      <td>100.00</td>\n",
       "    </tr>\n",
       "    <tr>\n",
       "      <th>5</th>\n",
       "      <td>Tags_Lost to EINS</td>\n",
       "      <td>83.62</td>\n",
       "    </tr>\n",
       "    <tr>\n",
       "      <th>8</th>\n",
       "      <td>Tags_Will revert after reading the email</td>\n",
       "      <td>66.83</td>\n",
       "    </tr>\n",
       "    <tr>\n",
       "      <th>0</th>\n",
       "      <td>Lead Source_Welingak Website</td>\n",
       "      <td>58.26</td>\n",
       "    </tr>\n",
       "    <tr>\n",
       "      <th>1</th>\n",
       "      <td>Last Activity_SMS Sent</td>\n",
       "      <td>30.33</td>\n",
       "    </tr>\n",
       "    <tr>\n",
       "      <th>11</th>\n",
       "      <td>Last Notable Activity_Olark Chat Conversation</td>\n",
       "      <td>-20.45</td>\n",
       "    </tr>\n",
       "    <tr>\n",
       "      <th>4</th>\n",
       "      <td>Tags_Interested in other courses</td>\n",
       "      <td>-25.19</td>\n",
       "    </tr>\n",
       "    <tr>\n",
       "      <th>10</th>\n",
       "      <td>Last Notable Activity_Modified</td>\n",
       "      <td>-26.52</td>\n",
       "    </tr>\n",
       "    <tr>\n",
       "      <th>6</th>\n",
       "      <td>Tags_Others</td>\n",
       "      <td>-31.41</td>\n",
       "    </tr>\n",
       "    <tr>\n",
       "      <th>2</th>\n",
       "      <td>Tags_Already a student</td>\n",
       "      <td>-39.77</td>\n",
       "    </tr>\n",
       "    <tr>\n",
       "      <th>7</th>\n",
       "      <td>Tags_Ringing</td>\n",
       "      <td>-49.15</td>\n",
       "    </tr>\n",
       "    <tr>\n",
       "      <th>9</th>\n",
       "      <td>Tags_switched off</td>\n",
       "      <td>-60.69</td>\n",
       "    </tr>\n",
       "  </tbody>\n",
       "</table>\n",
       "</div>"
      ],
      "text/plain": [
       "                                            index      0\n",
       "3                         Tags_Closed by Horizzon 100.00\n",
       "5                               Tags_Lost to EINS  83.62\n",
       "8        Tags_Will revert after reading the email  66.83\n",
       "0                    Lead Source_Welingak Website  58.26\n",
       "1                          Last Activity_SMS Sent  30.33\n",
       "11  Last Notable Activity_Olark Chat Conversation -20.45\n",
       "4                Tags_Interested in other courses -25.19\n",
       "10                 Last Notable Activity_Modified -26.52\n",
       "6                                     Tags_Others -31.41\n",
       "2                          Tags_Already a student -39.77\n",
       "7                                    Tags_Ringing -49.15\n",
       "9                               Tags_switched off -60.69"
      ]
     },
     "execution_count": 173,
     "metadata": {},
     "output_type": "execute_result"
    }
   ],
   "source": [
    "pd.DataFrame(feature_importance).reset_index().sort_values(by=0,ascending=False)"
   ]
  },
  {
   "cell_type": "markdown",
   "id": "ab5c09c7",
   "metadata": {},
   "source": [
    "# <font color=#00008B>8. Final Result:</font>"
   ]
  },
  {
   "cell_type": "markdown",
   "id": "ac9d18f3",
   "metadata": {},
   "source": [
    "<strong><u><font color='#800000'> Train Data:</font></u></strong>\n",
    "  - <font color='#800000'>Accuracy    : 92.11%</font>\n",
    "  - <font color='#800000'>Sensitivity : 85.68%</font>\n",
    "  - <font color='#800000'>Specificity : 96.05%</font>\n",
    "  - <font color='#800000'>F1 Scoure : 89.20%</font>  \n",
    " \n",
    "<strong><u><font color='#800000'> Test Data:</font></u></strong>\n",
    "  - <font color='#800000'>Accuracy    : 93.17%</font>\n",
    "  - <font color='#800000'>Sensitivity : 87.93%</font>\n",
    "  - <font color='#800000'>Specificity : 96.26%</font>\n",
    "  - <font color='#800000'>F1 Scoure : 90.52%</font>  \n",
    "  \n"
   ]
  },
  {
   "cell_type": "markdown",
   "id": "05ba3412",
   "metadata": {},
   "source": [
    "<strong><font color='#800000'> Based on our model, some features are identified which contribute most to a Lead getting converted successfully.</font></strong>\n",
    "\n",
    "<strong><u><font color='#800000'>The conversion probability of a lead increases with increase in values of the following features in descending order:</font></u></strong>\n",
    "  - <font color='#800000'>Tags_Closed by Horizzon\t</font>\n",
    "  - <font color='#800000'>Tags_Lost to EINS\t</font>\n",
    "  - <font color='#800000'>Tags_Will revert after reading the email\t</font>\n",
    "  - <font color='#800000'>Lead Source_Welingak Website</font>\n",
    "  - <font color='#800000'>Last Activity_SMS Sen</font>\n",
    "\n",
    "\n",
    "<strong><u><font color='#800000'>The conversion probability of a lead increases with decrease in values of the following features in descending order:</font></u></strong>\n",
    "  - <font color='#800000'>Last Notable Activity_Olark Chat Conversation\t</font>\n",
    "  - <font color='#800000'>Tags_Interested in other courses\t</font>\n",
    "  - <font color='#800000'>Last Notable Activity_Modified\t</font>\n",
    "  - <font color='#800000'>Tags_Others\t</font>\n",
    "  - <font color='#800000'>Tags_Already a student</font>\n",
    "  - <font color='#800000'>Tags_Ringing</font>\n",
    "  - <font color='#800000'>Tags_switched off\t</font>\n",
    "\n",
    "\n",
    "<strong><u><font color='darkblue'> The Model seems to predict the Conversion Rate very well, we should give the CEO confidence in making good calls based on this model</font></u></strong>"
   ]
  }
 ],
 "metadata": {
  "kernelspec": {
   "display_name": "Python 3 (ipykernel)",
   "language": "python",
   "name": "python3"
  },
  "language_info": {
   "codemirror_mode": {
    "name": "ipython",
    "version": 3
   },
   "file_extension": ".py",
   "mimetype": "text/x-python",
   "name": "python",
   "nbconvert_exporter": "python",
   "pygments_lexer": "ipython3",
   "version": "3.9.13"
  }
 },
 "nbformat": 4,
 "nbformat_minor": 5
}
